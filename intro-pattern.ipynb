{
 "metadata": {
  "name": "Ejemplo con pattern"
 },
 "nbformat": 3,
 "nbformat_minor": 0,
 "worksheets": [
  {
   "cells": [
    {
     "cell_type": "markdown",
     "metadata": {},
     "source": "# Ejemplo con `pattern`\n\nVoy a seguir el [tutorial de `pattern`](http://www.clips.ua.ac.be/pages/pattern).\n\nPara hacer una consulta al API de Twitter e imprimir los mensajes por pantalla, ejecutamos:"
    },
    {
     "cell_type": "code",
     "collapsed": false,
     "input": "from pattern.web import Twitter, plaintext\ntwitter = Twitter()\ntweets = twitter.search('\"Me encanta\"')\nfor tweet in tweets:\n    print tweet.get(\"author\"), \"->\", plaintext(tweet.description)",
     "language": "python",
     "metadata": {},
     "outputs": [
      {
       "output_type": "stream",
       "stream": "stdout",
       "text": "LuciaRomero99 -> RT @ainhoa_larena: me encanta como @LuciaRomero99 me ha tuneado la flauta http://t.co/HFY42MmRjQ via @PicCollage http://t.co/cEaLhiihJJ\nrakeliyalk -> Me encanta pasar ratitos en madrid con mi hermana @Martin_Sandra =)\nAnggieArce -> Photo: si-lees-esto-somos-novios: tomorrowland-2013: la raja esa pelicula *-* me encanta*-* http://t.co/H0kcrHFFca\nLeooSmile -> Foto: si-lees-esto-somos-novios: tomorrowland-2013: la raja esa pelicula *-* me encanta*-* http://t.co/90cXO3Fq5O\nCriis_196 -> Me encanta Booth *__________* #Bones ^^\nMuuChiiii -> Eu me encanta hablar con el, posta porque nunca habiamos hablado\nPaulaPerezFdz -> Me encanta el piercing del frenillo de la lengua.\nviry_sud -> @marthadebayle. Love u! Miiil me encanta tu programa xq aprendo de TODO! Gracias mil martha eres una bendecion!\nkatydecorazon -> @arizrusher13 JAJAJA YA SE ME ENCANTA IMITARLA\ncesarpizarro15 -> Me encanta coger los trenes a la carrera...eso de llegar, entrar, y que cierren... #LondonLife\n"
      }
     ],
     "prompt_number": 7
    }
   ],
   "metadata": {}
  }
 ]
}