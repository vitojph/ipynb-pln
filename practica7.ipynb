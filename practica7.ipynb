{
 "metadata": {
  "name": "practica7"
 },
 "nbformat": 3,
 "nbformat_minor": 0,
 "worksheets": [
  {
   "cells": [
    {
     "cell_type": "markdown",
     "metadata": {},
     "source": [
      "# Pr\u00e1ctica 7\n",
      "\n",
      "## Ejercicio 1\n",
      "\n",
      "En este primer ejercicio vamos a definir una gram\u00e1tica independiente de contexto que sea capaz de reconocer un conjunto sencillo de oraciones, p. ej.:\n",
      "\n",
      "- los ni\u00f1os juegan. \n",
      "- las gatas saltan. \n",
      "- el ni\u00f1o come una tarta. \n",
      "- las gatas beben leche. \n",
      "- las gatas no beben leche\n",
      "\n",
      "Antes de nada, cargamos la librer\u00eda NTLK:"
     ]
    },
    {
     "cell_type": "code",
     "collapsed": false,
     "input": [
      "import nltk"
     ],
     "language": "python",
     "metadata": {},
     "outputs": []
    },
    {
     "cell_type": "markdown",
     "metadata": {},
     "source": [
      "Define una variable llamada `reglas` que contenga las reglas de tu gram\u00e1tica. Revisa la presentaci\u00f3n `nltk-analyzers`, donde se muestran la sintaxis que usamos y distintos ejemplos."
     ]
    },
    {
     "cell_type": "code",
     "collapsed": false,
     "input": [
      "# escribe las reglas de tu gram\u00e1tica aqu\u00ed\n",
      "reglas = \"\"\"\n",
      "\n",
      "\"\"\""
     ],
     "language": "python",
     "metadata": {},
     "outputs": []
    },
    {
     "cell_type": "markdown",
     "metadata": {},
     "source": [
      "Una vez definidas las reglas, crea un objeto llamado `gramatica` con el m\u00e9todo `nltk.parse_cfg(). Si tu gram\u00e1tica se ha creado correctamente, ha llegado el momento de crear el `analizador`. Ejecuta la siguiente celda."
     ]
    },
    {
     "cell_type": "code",
     "collapsed": false,
     "input": [
      "# crea el analizador\n",
      "gramatica = nltk.parse_cfg(reglas)\n",
      "analizador = nltk.ChartParser(gramatica)"
     ],
     "language": "python",
     "metadata": {},
     "outputs": []
    },
    {
     "cell_type": "markdown",
     "metadata": {},
     "source": [
      "Comprueba qu\u00e9 tal funciona tu `analizador` con las siguientes oraciones."
     ]
    },
    {
     "cell_type": "code",
     "collapsed": false,
     "input": [
      "# definimos una lista de oraciones\n",
      "oraciones = \"\"\"los ni\u00f1os juegan. las gatas saltan. el ni\u00f1o come una tarta. las gatas beben leche. las gatas no beben leche\"\"\".split(\". \")\n",
      "\n",
      "# imprime el an\u00e1lisis sint\u00e1ctico\n"
     ],
     "language": "python",
     "metadata": {},
     "outputs": []
    },
    {
     "cell_type": "markdown",
     "metadata": {},
     "source": [
      "## Ejercicio 2\n",
      "\n",
      "En este segundo ejercicio vamos a tratar de extender nuestra gram\u00e1tica anterior para reconocer oraciones coordinadas, p. ej.:\n",
      "\n",
      "- los ni\u00f1os juegan y las gatas saltan. \n",
      "- el ni\u00f1o no come una tarta pero las gatas beben leche."
     ]
    },
    {
     "cell_type": "code",
     "collapsed": false,
     "input": [
      "# escribe las reglas de tu segunda gram\u00e1tica aqu\u00ed\n",
      "reglas2 = \"\"\"\n",
      "\n",
      "\"\"\""
     ],
     "language": "python",
     "metadata": {},
     "outputs": []
    },
    {
     "cell_type": "code",
     "collapsed": false,
     "input": [
      "# crea el analizador\n",
      "gramatica2 = nltk.parse_cfg(reglas2)\n",
      "analizador2 = nltk.ChartParser(gramatica2)"
     ],
     "language": "python",
     "metadata": {},
     "outputs": []
    },
    {
     "cell_type": "code",
     "collapsed": false,
     "input": [
      "# definimos una lista de oraciones\n",
      "oraciones2 = \"\"\"los ni\u00f1os juegan y las gatas saltan. el ni\u00f1o no come una tarta pero las gatas beben leche\"\"\".split(\". \")\n",
      "\n",
      "# imprime el an\u00e1lisis sint\u00e1ctico\n"
     ],
     "language": "python",
     "metadata": {},
     "outputs": []
    },
    {
     "cell_type": "markdown",
     "metadata": {},
     "source": [
      "## Ejercicio 3\n",
      "\n",
      "En el tercer y \u00faltimo ejercicio vamos a extender la gram\u00e1tica anterior para que sea capaz de reconocer tambi\u00e9n oraciones subordinadas sencillas, p. ej.:\n",
      "\n",
      "- Pedro dice que los ni\u00f1os juegan. \n",
      "- el ni\u00f1o cree que las gatas beben leche.\n"
     ]
    },
    {
     "cell_type": "code",
     "collapsed": false,
     "input": [
      "# escribe las reglas de tu tercera gram\u00e1tica aqu\u00ed\n",
      "reglas3 = \"\"\"\n",
      "\n",
      "\"\"\""
     ],
     "language": "python",
     "metadata": {},
     "outputs": []
    },
    {
     "cell_type": "code",
     "collapsed": false,
     "input": [
      "# crea el analizador\n",
      "gramatica3 = nltk.parse_cfg(reglas3)\n",
      "analizador3 = nltk.ChartParser(gramatica3)"
     ],
     "language": "python",
     "metadata": {},
     "outputs": []
    },
    {
     "cell_type": "code",
     "collapsed": false,
     "input": [
      "# definimos una lista de oraciones\n",
      "oraciones3 = \"\"\"Pedro dice que los ni\u00f1os juegan. el ni\u00f1o cree que las gatas beben leche\"\"\".split(\". \")\n",
      "\n",
      "# imprime el an\u00e1lisis sint\u00e1ctico\n"
     ],
     "language": "python",
     "metadata": {},
     "outputs": []
    },
    {
     "cell_type": "code",
     "collapsed": false,
     "input": [],
     "language": "python",
     "metadata": {},
     "outputs": []
    }
   ],
   "metadata": {}
  }
 ]
}