{
 "metadata": {
  "name": "practica4"
 },
 "nbformat": 3,
 "nbformat_minor": 0,
 "worksheets": [
  {
   "cells": [
    {
     "cell_type": "markdown",
     "metadata": {},
     "source": [
      "# Pr\u00e1ctica 4\n",
      "\n",
      "## Ejercicio 1.\n",
      "\n",
      "Define una funci\u00f3n llamada `plural` que tome como entrada una cadena representando una palabra espa\u00f1ola en singular y devuelva la forma plural."
     ]
    },
    {
     "cell_type": "code",
     "collapsed": false,
     "input": [
      "def plural(palabra):\n",
      "    \"\"\"A partir de una palabra espa\u00f1ola \n",
      "    en singular, devuelve la forma en plural\"\"\"\n",
      "    # nos aseguramos de que la palabra en singular est\u00e1 en unicode\n",
      "    palabra = unicode(palabra)\n",
      "    # contin\u00faa a partir de la siguiente l\u00ednea    "
     ],
     "language": "python",
     "metadata": {},
     "outputs": []
    },
    {
     "cell_type": "markdown",
     "metadata": {},
     "source": [
      "Def\u00ednela de manera que devuelva correctamente los plurales regulares y maneje algunas excepciones como:\n",
      "\n",
      "- las palabras invarialbes en plural como *crisis* e *hip\u00f3tesis*.\n",
      "- los dobles plurales de palabras como *zul\u00fa* y *bigud\u00ed*: haz que devuelva una tupla de dos elementos con ambos plurales: `(\"zul\u00fas\", \"zul\u00faes\")`.\n",
      "- las tildes en las palabras agudas en singular que, en plural, se convierten en llanas: *cami\u00f3n/camiones*."
     ]
    },
    {
     "cell_type": "code",
     "collapsed": false,
     "input": [
      "# las cadenas que llevan como prefijo la letra 'u' como en estos ejemplos son cadenas unicode\n",
      "# no lo hemos visto en clase, pero de esta forma me aseguro de que las tildes y diacr\u00edticos\n",
      "# funcionan como deben\n",
      "print plural(u\"coche\")\n",
      "print plural(u\"zul\u00fa\")\n",
      "print plural(u\"crisis\")\n",
      "print plural(u\"cami\u00f3n\")\n",
      "print plural(u\"c\u00f3mic\")"
     ],
     "language": "python",
     "metadata": {},
     "outputs": []
    },
    {
     "cell_type": "code",
     "collapsed": false,
     "input": [],
     "language": "python",
     "metadata": {},
     "outputs": []
    }
   ],
   "metadata": {}
  }
 ]
}