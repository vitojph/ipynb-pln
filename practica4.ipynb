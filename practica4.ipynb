{
 "metadata": {
  "name": "practica4"
 },
 "nbformat": 3,
 "nbformat_minor": 0,
 "worksheets": [
  {
   "cells": [
    {
     "cell_type": "markdown",
     "metadata": {},
     "source": [
      "# Pr\u00e1ctica 4\n",
      "\n",
      "## Ejercicio 1.\n",
      "\n",
      "Define una funci\u00f3n llamada `plural` que tome como entrada una cadena representando una palabra espa\u00f1ola en singular y devuelva la forma plural."
     ]
    },
    {
     "cell_type": "code",
     "collapsed": false,
     "input": [
      "def plural(singular):\n",
      "    \"\"\"A partir de una palabra espa\u00f1ola \n",
      "    en singular, devuelve la forma en plural\"\"\"\n",
      "    # nos aseguramos de que la palabra que manejamos est\u00e1 en unicode\n",
      "    singular = unicode(singular)\n",
      "    # definimos algunas variables\n",
      "    vocales = u\"aeiou\u00e1\u00e9\u00ed\u00f3\u00fa\"\n",
      "    excepciones = u\"\"\"crisis tesis apoteosis s\u00edntesis\"\"\".split()\n",
      "    dobles_plurales = u\"\"\"men\u00fa marroqu\u00ed bigud\u00ed zul\u00fa rub\u00ed\"\"\".split()\n",
      "    \n",
      "    if singular in excepciones:\n",
      "        return singular\n",
      "    \n",
      "    elif singular in dobles_plurales:\n",
      "        return singular + u\"s\", singular + u\"es\"\n",
      "    \n",
      "    elif singular[-3:] == u\"i\u00f3n\":\n",
      "        return singular[:-3] + u\"iones\"\n",
      "    \n",
      "    elif singular[-1] in vocales or singular[-1] in u\"cgpt\":\n",
      "        return singular + u\"s\"\n",
      "    \n",
      "    else:\n",
      "        return singular + \"es\""
     ],
     "language": "python",
     "metadata": {},
     "outputs": [],
     "prompt_number": 14
    },
    {
     "cell_type": "markdown",
     "metadata": {},
     "source": [
      "Def\u00ednela de manera que devuelva correctamente los plurales regulares y maneje algunas excepciones como:\n",
      "\n",
      "- las palabras invarialbes en plural como *crisis* e *hip\u00f3tesis*.\n",
      "- los dobles plurales de palabras como *zul\u00fa* y *bigud\u00ed*.\n",
      "- las tildes en las palabras agudas en singular que, en plural, se convierten en llanas: *cami\u00f3n/camiones*."
     ]
    },
    {
     "cell_type": "code",
     "collapsed": false,
     "input": [
      "print plural(u\"coche\")\n",
      "print plural(u\"zul\u00fa\")\n",
      "print plural(u\"crisis\")\n",
      "print plural(u\"cami\u00f3n\")\n",
      "print plural(u\"c\u00f3mic\")"
     ],
     "language": "python",
     "metadata": {},
     "outputs": [
      {
       "output_type": "stream",
       "stream": "stdout",
       "text": [
        "coches\n",
        "(u'zul\\xfas', u'zul\\xfaes')\n",
        "crisis\n",
        "camiones\n",
        "c\u00f3mics\n"
       ]
      }
     ],
     "prompt_number": 16
    },
    {
     "cell_type": "code",
     "collapsed": false,
     "input": [],
     "language": "python",
     "metadata": {},
     "outputs": []
    }
   ],
   "metadata": {}
  }
 ]
}