{
 "metadata": {
  "name": "intro-patter-en-es"
 },
 "nbformat": 3,
 "nbformat_minor": 0,
 "worksheets": [
  {
   "cells": [
    {
     "cell_type": "markdown",
     "metadata": {},
     "source": [
      "# `pattern.en` y `pattern.es`: m\u00f3dulos para tareas de PLN en ingl\u00e9s y espa\u00f1ol\n",
      "\n",
      "[`pattern.en`](http://www.clips.ua.ac.be/pages/pattern-en) (y, en menor medida, la versi\u00f3n en espa\u00f1ol [`pattern.es`](http://www.clips.ua.ac.be/pages/pattern-es)) es otro conjunto de herramientas (librer\u00eda) muy interesante para realizar procesamiento del lenguaje con Python. La librer\u00eda contiene herramientas para realizar an\u00e1lisis morfol\u00f3gico y an\u00e1lisis de sentimiento.\n",
      "\n",
      "\n",
      "## Herramientas para tratar conjugaciones flexi\u00f3n\n",
      "\n",
      "\n",
      "### Singulares y plurales"
     ]
    },
    {
     "cell_type": "code",
     "collapsed": false,
     "input": [
      "from pattern.en import pluralize, singularize\n",
      "print pluralize(\"house\")\n",
      "print pluralize(\"child\")\n",
      "print pluralize(\"foot\")\n",
      "\n",
      "print singularize(\"buses\")\n",
      "print singularize(\"wolves\")\n",
      "print singularize(\"feet\")"
     ],
     "language": "python",
     "metadata": {},
     "outputs": [
      {
       "output_type": "stream",
       "stream": "stdout",
       "text": [
        "houses\n",
        "children\n",
        "feet\n",
        "bus\n",
        "wolf\n",
        "foot\n"
       ]
      }
     ],
     "prompt_number": 3
    },
    {
     "cell_type": "markdown",
     "metadata": {},
     "source": [
      "### Comparativos y superlativos\n"
     ]
    },
    {
     "cell_type": "code",
     "collapsed": false,
     "input": [
      "from pattern.en import comparative, superlative\n",
      "print comparative(\"good\")\n",
      "print comparative(\"bad\")\n",
      "print comparative(\"big\")\n",
      "\n",
      "print superlative(\"good\")\n",
      "print superlative(\"bad\")\n",
      "print superlative(\"big\")"
     ],
     "language": "python",
     "metadata": {},
     "outputs": [
      {
       "output_type": "stream",
       "stream": "stdout",
       "text": [
        "better\n",
        "worse\n",
        "bigger\n",
        "best\n",
        "worst\n",
        "biggest\n"
       ]
      }
     ],
     "prompt_number": 5
    },
    {
     "cell_type": "markdown",
     "metadata": {},
     "source": [
      "## An\u00e1lisis morfo-sint\u00e1ctico"
     ]
    },
    {
     "cell_type": "code",
     "collapsed": false,
     "input": [
      "from pattern.en import parse\n",
      "print parse(\"You were born in a small mid-west town.\")"
     ],
     "language": "python",
     "metadata": {},
     "outputs": [
      {
       "output_type": "stream",
       "stream": "stdout",
       "text": [
        "You/PRP/B-NP/O were/VBD/B-VP/O born/VBN/I-VP/O in/IN/B-PP/B-PNP a/DT/B-NP/I-PNP small/JJ/I-NP/I-PNP mid-west/JJ/I-NP/I-PNP town/NN/I-NP/I-PNP ././O/O\n"
       ]
      }
     ],
     "prompt_number": 6
    },
    {
     "cell_type": "code",
     "collapsed": false,
     "input": [
      "sentence = \"In the latest Retro Report video, warnings in the 1980s about a generation of drug-exposed infants overwhelming American society turned out to be wrong.\"\n",
      "\n",
      "# Parse part-of-speech tags? (NN, JJ, ...)\n",
      "print parse(sentence, tags=True, chunks=False, relations=False), \"\\n\\n\"  \n",
      "\n",
      "# Parse chunks? (NP, VP, PNP, ...)\n",
      "print parse(sentence, tags=False, chunks=True, relations=False), \"\\n\\n\"\n",
      "\n",
      "# Find relations? (SBJ, OBJ, ...)\n",
      "print parse(sentence, tags=False, chunks=False, relations=True), \"\\n\\n\""
     ],
     "language": "python",
     "metadata": {},
     "outputs": [
      {
       "output_type": "stream",
       "stream": "stdout",
       "text": [
        "In/IN the/DT latest/JJS Retro/NNP Report/NNP video/NN ,/, warnings/VBZ in/IN the/DT 1980s/NNS about/IN a/DT generation/NN of/IN drug-exposed/JJ infants/NNS overwhelming/NNP American/NNP society/NN turned/VBD out/VB to/TO be/VB wrong/JJ ./. \n",
        "\n",
        "\n",
        "In/IN/B-PP/B-PNP the/DT/B-NP/I-PNP latest/JJS/I-NP/I-PNP Retro/NNP/I-NP/I-PNP Report/NNP/I-NP/I-PNP video/NN/I-NP/I-PNP ,/,/O/O warnings/VBZ/B-VP/O in/IN/B-PP/B-PNP the/DT/B-NP/I-PNP 1980s/NNS/I-NP/I-PNP about/IN/B-PP/B-PNP a/DT/B-NP/I-PNP generation/NN/I-NP/I-PNP of/IN/B-PP/B-PNP drug-exposed/JJ/B-NP/I-PNP infants/NNS/I-NP/I-PNP overwhelming/NNP/I-NP/I-PNP American/NNP/I-NP/I-PNP society/NN/I-NP/I-PNP turned/VBD/B-VP/O out/VB/I-VP/O to/TO/B-PP/O be/VB/B-VP/O wrong/JJ/B-ADJP/O ././O/O \n",
        "\n",
        "\n",
        "In/IN/B-PP/B-PNP/O the/DT/B-NP/I-PNP/O latest/JJS/I-NP/I-PNP/O Retro/NNP/I-NP/I-PNP/O Report/NNP/I-NP/I-PNP/O video/NN/I-NP/I-PNP/O ,/,/O/O/O warnings/VBZ/B-VP/O/O in/IN/B-PP/B-PNP/O the/DT/B-NP/I-PNP/O 1980s/NNS/I-NP/I-PNP/O about/IN/B-PP/B-PNP/O a/DT/B-NP/I-PNP/O generation/NN/I-NP/I-PNP/O of/IN/B-PP/B-PNP/O drug-exposed/JJ/B-NP/I-PNP/NP-SBJ-1 infants/NNS/I-NP/I-PNP/NP-SBJ-1 overwhelming/NNP/I-NP/I-PNP/NP-SBJ-1 American/NNP/I-NP/I-PNP/NP-SBJ-1 society/NN/I-NP/I-PNP/NP-SBJ-1 turned/VBD/B-VP/O/VP-1 out/VB/I-VP/O/VP-1 to/TO/B-PP/O/O be/VB/B-VP/O/O wrong/JJ/B-ADJP/O/O ././O/O/O \n",
        "\n",
        "\n"
       ]
      }
     ],
     "prompt_number": 12
    },
    {
     "cell_type": "markdown",
     "metadata": {},
     "source": [
      "Podemos imprimir toda esta informaci\u00f3n en forma de tabla, gracias a la funci\u00f3n `pprint`."
     ]
    },
    {
     "cell_type": "code",
     "collapsed": false,
     "input": [
      "from pattern.en import parse, pprint\n",
      "parsing = parse(sentence, relations=True, lemmata=True)\n",
      "pprint(parsing) "
     ],
     "language": "python",
     "metadata": {},
     "outputs": [
      {
       "output_type": "stream",
       "stream": "stdout",
       "text": [
        "          WORD   TAG    CHUNK   ROLE   ID     PNP    LEMMA          \n",
        "                                                                    \n",
        "            In   IN     PP      -      -      PNP    in             \n",
        "           the   DT     NP      -      -      PNP    the            \n",
        "        latest   JJS    NP ^    -      -      PNP    latest         \n",
        "         Retro   NNP    NP ^    -      -      PNP    retro          \n",
        "        Report   NNP    NP ^    -      -      PNP    report         \n",
        "         video   NN     NP ^    -      -      PNP    video          \n",
        "             ,   ,      -       -      -      -      ,              \n",
        "      warnings   VBZ    VP      -      -      -      warning        \n",
        "            in   IN     PP      -      -      PNP    in             \n",
        "           the   DT     NP      -      -      PNP    the            \n",
        "         1980s   NNS    NP ^    -      -      PNP    1980           \n",
        "         about   IN     PP      -      -      PNP    about          \n",
        "             a   DT     NP      -      -      PNP    a              \n",
        "    generation   NN     NP ^    -      -      PNP    generation     \n",
        "            of   IN     PP      -      -      PNP    of             \n",
        "  drug-exposed   JJ     NP      SBJ    1      PNP    drug-exposed   \n",
        "       infants   NNS    NP ^    SBJ    1      PNP    infant         \n",
        "  overwhelming   NNP    NP ^    SBJ    1      PNP    overwhelming   \n",
        "      American   NNP    NP ^    SBJ    1      PNP    american       \n",
        "       society   NN     NP ^    SBJ    1      PNP    society        \n",
        "        turned   VBD    VP      -      1      -      turn           \n",
        "           out   VB     VP ^    -      1      -      out            \n",
        "            to   TO     PP      -      -      -      to             \n",
        "            be   VB     VP      -      -      -      be             \n",
        "         wrong   JJ     ADJP    -      -      -      wrong          \n",
        "             .   .      -       -      -      -      .              \n"
       ]
      }
     ],
     "prompt_number": 16
    },
    {
     "cell_type": "code",
     "collapsed": false,
     "input": [],
     "language": "python",
     "metadata": {},
     "outputs": []
    }
   ],
   "metadata": {}
  }
 ]
}