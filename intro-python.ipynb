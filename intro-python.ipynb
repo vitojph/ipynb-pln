{
 "metadata": {
  "name": "intro-python"
 },
 "nbformat": 3,
 "nbformat_minor": 0,
 "worksheets": [
  {
   "cells": [
    {
     "cell_type": "markdown",
     "metadata": {},
     "source": [
      "# Introducci\u00f3n a Python\n",
      "\n",
      "Vamos a hacer una peque\u00f1a introducci\u00f3n al lenguaje de programaci\u00f3n [Python](http://www.python.org). Para ello, me voy a apoyar principalmente en [el curso online de Python en CodeCademy](http://www.codecademy.com/es/tracks/python-latinamerica). Para profundizar y afianzar conceptos generales de Python es muy recomendable que hag\u00e1is por vuestra cuenta al menos los nueve primeros temas este curso.\n",
      "\n",
      "# Variables y tipos de datos\n",
      "\n",
      "En los lenguajes de programaci\u00f3n, una **variable** es un tipo de *identificador* que almacena o al que se le asigna un determinado valor. Este valor puede ser de distinto tipo, como veremos m\u00e1s adelante. Para asignar valores a variables, utilizamos el signo `=` con la siguiente sintaxis:\n",
      "\n",
      "    `nombre_de_variable = valor`\n",
      "\n",
      "Veamos un ejemplo: vamos a *declarar* distintas variables, asign\u00e1ndoles valores:"
     ]
    },
    {
     "cell_type": "code",
     "collapsed": false,
     "input": [
      "# NOTA: en Python, las l\u00edneas que comienzan con # son comentarios\n",
      "# El int\u00e9rprete no las lee. Los humanos s\u00ed deber\u00edamos leerlas :-)\n",
      "mivariable = 25\n",
      "edad = 25\n",
      "year = 2013"
     ],
     "language": "python",
     "metadata": {},
     "outputs": [],
     "prompt_number": 3
    },
    {
     "cell_type": "markdown",
     "metadata": {},
     "source": [
      "Una vez que hemos asignado valores a nombres de variables, podemos llamar o recuperar esos valores siempre que queramos. Para hacer una peque\u00f1a prueba, vamos a imprimir por pantalla el valor de las variables anteriores. Para imprimir por pantalla, usamos el comando `print`."
     ]
    },
    {
     "cell_type": "code",
     "collapsed": false,
     "input": [
      "print mivariable\n",
      "print year\n",
      "print \"El ni\u00f1o come manzanas.\"\n",
      "print 255666"
     ],
     "language": "python",
     "metadata": {},
     "outputs": [
      {
       "output_type": "stream",
       "stream": "stdout",
       "text": [
        "25\n",
        "2013\n",
        "El ni\u00f1o come manzanas.\n",
        "255666\n"
       ]
      }
     ],
     "prompt_number": 21
    },
    {
     "cell_type": "markdown",
     "metadata": {},
     "source": [
      "En el ejemplo anterior, hemos declarado tres variables diferentes. Sin embargo, el tipo de dato que est\u00e1bamos almacenando eras el mismo: n\u00fameros enteros. Como hemos mencionado antes, las variables pueden almacenar distintos tipos de datos. Los principales son: n\u00fameros enteros, n\u00fameros reales, cadenas de texto y valores booleanos (verdadero o falso)."
     ]
    },
    {
     "cell_type": "code",
     "collapsed": false,
     "input": [
      "# n\u00fameros enteros (integer)\n",
      "hijos = 3\n",
      "\n",
      "# n\u00fameros reales (float), siempre indicando los decimales con punto\n",
      "precio = 350.25\n",
      "longitud = 1.5\n",
      "\n",
      "# cadenas de texto (string), siempre entre comillas simples o dobles\n",
      "nombre = \"Pedro\"\n",
      "apellidos = 'Sanz Hern\u00e1ndez'\n",
      "\n",
      "# valores booleanos (bool): solo pueden ser True o False, escritos tal cual sin comillas\n",
      "animal = True\n",
      "mineral = False\n",
      "\n",
      "# imprimimos algunos de ellos por pantalla\n",
      "print hijos\n",
      "print nombre, apellidos\n",
      "print precio\n",
      "print mineral"
     ],
     "language": "python",
     "metadata": {},
     "outputs": [
      {
       "output_type": "stream",
       "stream": "stdout",
       "text": [
        "3\n",
        "Pedro Sanz Hern\u00e1ndez\n",
        "350.25\n",
        "False\n"
       ]
      }
     ],
     "prompt_number": 10
    },
    {
     "cell_type": "markdown",
     "metadata": {},
     "source": [
      "Los valores que contienen las variabes pueden ser reasignados en cualquier comento. Eso s\u00ed, solo almacenan el \u00faltimo valor que hayamos asignado. Si reasignamos algunas de las variables declaradas anteriormente e imprimimos sus valores por pantalla, nos encontamos con:"
     ]
    },
    {
     "cell_type": "code",
     "collapsed": false,
     "input": [
      "nombre = \"Ana\"\n",
      "apellidos = 'Serrano de la Oca'\n",
      "print nombre, apellidos"
     ],
     "language": "python",
     "metadata": {},
     "outputs": [
      {
       "output_type": "stream",
       "stream": "stdout",
       "text": [
        "Ana Serrano de la Oca\n"
       ]
      }
     ],
     "prompt_number": 11
    },
    {
     "cell_type": "markdown",
     "metadata": {},
     "source": [
      "## Operaciones aritm\u00e9ticas\n",
      "\n",
      "Podemos utilizar el int\u00e9rprete de Python como una calculadora. Basta con introducir operaciones aritm\u00e9ticas como operadores que seguramente ya conoces: suma (`+`), resta (`-`), multiplicaci\u00f3n (`*`), divisi\u00f3n (`/`), potencias (`**`) y m\u00f3dulo (`%`). Vamos a imprimir por pantalla el resultado de algunas operaciones."
     ]
    },
    {
     "cell_type": "code",
     "collapsed": false,
     "input": [
      "from __future__ import division\n",
      "#suma \n",
      "print 5+6\n",
      "\n",
      "# resta\n",
      "print 10-3\n",
      "\n",
      "# multiplicaci\u00f3n\n",
      "print 25*6\n",
      "\n",
      "# divisi\u00f3n\n",
      "print 2558/8\n",
      "\n",
      "# potencias\n",
      "print 2**3\n",
      "\n",
      "# m\u00f3dulo hace referencia al resto de la divisi\u00f3n 10/2.\n",
      "print 10%2"
     ],
     "language": "python",
     "metadata": {},
     "outputs": [
      {
       "output_type": "stream",
       "stream": "stdout",
       "text": [
        "11\n",
        "7\n",
        "150\n",
        "319.75\n",
        "8\n",
        "0\n"
       ]
      }
     ],
     "prompt_number": 23
    },
    {
     "cell_type": "markdown",
     "metadata": {},
     "source": [
      "Si retomamos lo aprendido anteriormente acerca de las variables, veremos que podemos declarar variables a partir de operaciones matem\u00e1ticas, por ejemplo:"
     ]
    },
    {
     "cell_type": "code",
     "collapsed": false,
     "input": [
      "# una suma sencilla\n",
      "suma = 9+5\n",
      "print suma\n",
      "\n",
      "# calculamos el \u00e1rea de un cuadrado cuyo lado\n",
      "lado = 1.5\n",
      "area = lado**2 # es equivalente a lado*lado\n",
      "print area\n",
      "\n",
      "# vamos a calcular el precio final de un producto cuyo valor es 19,95\u20ac\n",
      "iva = 21\n",
      "precio = 19.95\n",
      "precio_final = precio + (precio * iva)/100\n",
      "print precio_final\n",
      "\n",
      "# calculamos la edad actual de una persona\n",
      "ahora = 2013\n",
      "fechaNacimiento = 1985\n",
      "edad = ahora - fechaNacimiento\n",
      "print edad"
     ],
     "language": "python",
     "metadata": {},
     "outputs": [
      {
       "output_type": "stream",
       "stream": "stdout",
       "text": [
        "14\n",
        "2.25\n",
        "24.1395\n",
        "28\n",
        "2.5\n"
       ]
      }
     ],
     "prompt_number": 24
    },
    {
     "cell_type": "markdown",
     "metadata": {},
     "source": [
      "# Gesti\u00f3n de cadenas (*strings*)\n",
      "\n",
      "Si nuestro objetivo es aprende a programar en Python para procesar texto las **cadenas de caracteres** van a ser el principal tipo de dato que vamos a manejar. Como hemos visto antes, las cadenas se identifican en Python porque se declaran entre comillas dobles (`\"cadena\"`) o simples (`'cadena'`) o, si las cadenas son muy largas y ocupan m\u00e1s de una l\u00ednea, entre triples pares de comillas. \n",
      "\n",
      "Algunos ejemplos de cadenas:"
     ]
    },
    {
     "cell_type": "code",
     "collapsed": false,
     "input": [
      "nombre = \"Godofredo de Orl\u00e9ans\"\n",
      "oracion = 'GREEN COLORLESS IDEAS SLEEP FURIOUSLY'\n",
      "parrafo = \"\"\"En un lugar de la Mancha, de cuyo nombre no quiero acordarme, \n",
      "no ha mucho tiempo que viv\u00eda un hidalgo de los de lanza en astillero, \n",
      "adarga antigua, roc\u00edn flaco y galgo corredor. Una olla de algo m\u00e1s vaca \n",
      "que carnero, salpic\u00f3n las m\u00e1s noches, duelos y quebrantos los s\u00e1bados, \n",
      "lentejas los viernes, alg\u00fan palomino de a\u00f1adidura los domingos, consum\u00edan \n",
      "las tres partes de su hacienda.\"\"\""
     ],
     "language": "python",
     "metadata": {},
     "outputs": [],
     "prompt_number": 3
    },
    {
     "cell_type": "markdown",
     "metadata": {},
     "source": [
      "\u00a1OJO! Podemos definir como valores de variables cadenas formadas por secuencias de n\u00fameros, siempre que se declaren entre comillas. Es muy importante entender la diferencia entre:"
     ]
    },
    {
     "cell_type": "code",
     "collapsed": false,
     "input": [
      "numero1 = 45852236\n",
      "numero2 = \"45852236\"\n",
      "\n",
      "# podemos realizar operaciones aritm\u00e9ticas entre n\u00fameros\n",
      "print numero1 + 1\n",
      "\n",
      "# pero no entre cadenas y n\u00fameros: esto da un error\n",
      "print numero2 + 1"
     ],
     "language": "python",
     "metadata": {},
     "outputs": [
      {
       "ename": "TypeError",
       "evalue": "cannot concatenate 'str' and 'int' objects",
       "output_type": "pyerr",
       "traceback": [
        "\u001b[1;31m---------------------------------------------------------------------------\u001b[0m\n\u001b[1;31mTypeError\u001b[0m                                 Traceback (most recent call last)",
        "\u001b[1;32m<ipython-input-5-285435eeee1a>\u001b[0m in \u001b[0;36m<module>\u001b[1;34m()\u001b[0m\n\u001b[0;32m      6\u001b[0m \u001b[1;33m\u001b[0m\u001b[0m\n\u001b[0;32m      7\u001b[0m \u001b[1;31m# pero no entre cadenas y n\u00fameros: esto da un error\u001b[0m\u001b[1;33m\u001b[0m\u001b[1;33m\u001b[0m\u001b[0m\n\u001b[1;32m----> 8\u001b[1;33m \u001b[1;32mprint\u001b[0m \u001b[0mnumero2\u001b[0m \u001b[1;33m+\u001b[0m \u001b[1;36m1\u001b[0m\u001b[1;33m\u001b[0m\u001b[0m\n\u001b[0m",
        "\u001b[1;31mTypeError\u001b[0m: cannot concatenate 'str' and 'int' objects"
       ]
      },
      {
       "output_type": "stream",
       "stream": "stdout",
       "text": [
        "45852237\n"
       ]
      }
     ],
     "prompt_number": 5
    },
    {
     "cell_type": "code",
     "collapsed": false,
     "input": [
      "# sin embargo, s\u00ed puedo utilizar el operador '+' para concatenar varias cadenas\n",
      "print numero2 + \"1\"\n",
      "print \"\u00a1Hola\" + \" \" + \"amigo!\""
     ],
     "language": "python",
     "metadata": {},
     "outputs": [
      {
       "output_type": "stream",
       "stream": "stdout",
       "text": [
        "458522361\n",
        "\u00a1Hola amigo!\n"
       ]
      }
     ],
     "prompt_number": 9
    },
    {
     "cell_type": "markdown",
     "metadata": {},
     "source": [
      "Recuerda, cualquier secuencia alfanum\u00e9rica encerrada entre comillas ser\u00e1 tratada como una cadena de caracteres (*string*) aunque est\u00e9 formada \u00fanicamente por d\u00edgitos.\n",
      "\n",
      "\n",
      "### M\u00e9todos sobre cadenas\n",
      "\n",
      "Existen una serie de *funciones* y *metodos* que podemos ejecutar sobre cadenas de texto y que nos van a permitir realizar operaciones y transformar dichas cadenas de distintas maneras, p. ej.: \n",
      "\n",
      "- contar el n\u00famero de caracteres de una cadena (`len()`) \n",
      "- transformar la cadena a may\u00fasculas (`.upper()`) o min\u00fasculas (`.lower()`)\n",
      "\n",
      "Para m\u00e1s info, consulta [los m\u00e9todos que podemos aplicar a las cadenas](http://rgruet.free.fr/PQR27/PQR2.7.html#stringMethods).\n"
     ]
    },
    {
     "cell_type": "code",
     "collapsed": false,
     "input": [
      "print len(nombre) # devuelve la longitud (en n\u00famero de caracteres) de una cadena\n",
      "print oracion.lower() # transforma una cadena a min\u00fasculas (lowercas)\n",
      "print parrafo.upper() # transforma una cadena a may\u00fasculas (uppercas)\n",
      "print \"AbCdEfGhIjKlMn\u00d1oPqRsTuVwXyZ\".swapcase() # transforma may\u00fasculas a min\u00fasculas y viceversa"
     ],
     "language": "python",
     "metadata": {},
     "outputs": [
      {
       "ename": "NameError",
       "evalue": "name 'nombre' is not defined",
       "output_type": "pyerr",
       "traceback": [
        "\u001b[1;31m---------------------------------------------------------------------------\u001b[0m\n\u001b[1;31mNameError\u001b[0m                                 Traceback (most recent call last)",
        "\u001b[1;32m<ipython-input-2-2f2947a42f8f>\u001b[0m in \u001b[0;36m<module>\u001b[1;34m()\u001b[0m\n\u001b[1;32m----> 1\u001b[1;33m \u001b[1;32mprint\u001b[0m \u001b[0mlen\u001b[0m\u001b[1;33m(\u001b[0m\u001b[0mnombre\u001b[0m\u001b[1;33m)\u001b[0m \u001b[1;31m# devuelve la longitud (en n\u00famero de caracteres) de una cadena\u001b[0m\u001b[1;33m\u001b[0m\u001b[0m\n\u001b[0m\u001b[0;32m      2\u001b[0m \u001b[1;32mprint\u001b[0m \u001b[0moracion\u001b[0m\u001b[1;33m.\u001b[0m\u001b[0mlower\u001b[0m\u001b[1;33m(\u001b[0m\u001b[1;33m)\u001b[0m \u001b[1;31m# transforma una cadena a min\u00fasculas (lowercas)\u001b[0m\u001b[1;33m\u001b[0m\u001b[0m\n\u001b[0;32m      3\u001b[0m \u001b[1;32mprint\u001b[0m \u001b[0mparrafo\u001b[0m\u001b[1;33m.\u001b[0m\u001b[0mupper\u001b[0m\u001b[1;33m(\u001b[0m\u001b[1;33m)\u001b[0m \u001b[1;31m# transforma una cadena a may\u00fasculas (uppercas)\u001b[0m\u001b[1;33m\u001b[0m\u001b[0m\n\u001b[0;32m      4\u001b[0m \u001b[1;32mprint\u001b[0m \u001b[1;34m\"AbCdEfGhIjKlMn\u00d1oPqRsTuVwXyZ\"\u001b[0m\u001b[1;33m.\u001b[0m\u001b[0mswapcase\u001b[0m\u001b[1;33m(\u001b[0m\u001b[1;33m)\u001b[0m \u001b[1;31m# transforma may\u00fasculas a min\u00fasculas y viceversa\u001b[0m\u001b[1;33m\u001b[0m\u001b[0m\n",
        "\u001b[1;31mNameError\u001b[0m: name 'nombre' is not defined"
       ]
      }
     ],
     "prompt_number": 2
    },
    {
     "cell_type": "markdown",
     "metadata": {},
     "source": [
      "# Listas\n",
      "\n",
      "Las **listas** de Python son una estructura de datos que almacenan una colecci\u00f3n de diferentes tipos de informaci\u00f3n en forma de secuencia ordenada, bajo un solo nombre de variable. Las listas pueden guardar valores de cualquiera de los tipos que hemos visto anteriormente (cadenas, n\u00fameros y booleanos) e incluso **las listas pueden incluir otras listas de manera anidada**.\n",
      "\n",
      "Las listas se declaran especificando la colecci\u00f3n de elementos entre llaves y separando los elementos con comas:"
     ]
    },
    {
     "cell_type": "code",
     "collapsed": false,
     "input": [
      "numeros = [1, 2, 3, 4, 5, 6, 7, 8, 9, 10]\n",
      "dias = [\"lunes\", \"martes\", \"mi\u00e9rcoles\", \"jueves\", \"viernes\", \"s\u00e1bado\", \"domingo\"]\n",
      "misCosas = [23.4, True, oracion.lower()]\n",
      "listaVacia = []\n",
      "\n",
      "# los imprimimos por pantalla\n",
      "print numeros\n",
      "print dias\n",
      "print misCosas\n",
      "print listaVacia"
     ],
     "language": "python",
     "metadata": {},
     "outputs": [
      {
       "output_type": "stream",
       "stream": "stdout",
       "text": [
        "[1, 2, 3, 4, 5, 6, 7, 8, 9, 10]\n",
        "['lunes', 'martes', 'mi\\xc3\\xa9rcoles', 'jueves', 'viernes', 's\\xc3\\xa1bado', 'domingo']\n",
        "[23.4, True, 'green colorless ideas sleep furiously']\n",
        "[]\n"
       ]
      }
     ],
     "prompt_number": 22
    },
    {
     "cell_type": "markdown",
     "metadata": {},
     "source": [
      "Las listas son estructuras de datos ordenadas, lo que implica que podemos acceder a los elementos individuales a trav\u00e9s de un \u00edndice (la posici\u00f3n  que ocupa en la secuencia). El \u00edndice se especifica indicando el nombre de la lista y un entero entre corchetes: `nombre_de_lista[\u00edndice]`.\n",
      "\n",
      "\u00a1OJO! Los \u00edndices de las listas comienzan con 0, no con 1: el primer elemento es `nombre_de_lista[0]`. "
     ]
    },
    {
     "cell_type": "code",
     "collapsed": false,
     "input": [
      "print \"el primer d\u00eda de la semana es \" + dias[0]\n",
      "print \"el tercer d\u00eda de la semana es \" + dias[2]\n",
      "print \"y el \u00faltimo es \" + dias[-1]\n",
      "\n",
      "# podemos utilizar los \u00edndices tambi\u00e9n para reasignar valores a los elementos de una lista\n",
      "# p. ej., cambiamos el primer valor de la lista misCosas\n",
      "misCosas[0] = 44\n",
      "print misCosas\n",
      "\n",
      "# \u00a1OJO! si intentamos acceder a un \u00edndice que no existe, el int\u00e9rprete nos dar\u00e1 error\n",
      "print misCosas[8]"
     ],
     "language": "python",
     "metadata": {},
     "outputs": [
      {
       "ename": "IndexError",
       "evalue": "list index out of range",
       "output_type": "pyerr",
       "traceback": [
        "\u001b[1;31m---------------------------------------------------------------------------\u001b[0m\n\u001b[1;31mIndexError\u001b[0m                                Traceback (most recent call last)",
        "\u001b[1;32m<ipython-input-14-a069ad1a71ce>\u001b[0m in \u001b[0;36m<module>\u001b[1;34m()\u001b[0m\n\u001b[0;32m      9\u001b[0m \u001b[1;33m\u001b[0m\u001b[0m\n\u001b[0;32m     10\u001b[0m \u001b[1;31m# \u00a1OJO! si intentamos acceder a un \u00edndice que no existe, el int\u00e9rprete nos dar\u00e1 error\u001b[0m\u001b[1;33m\u001b[0m\u001b[1;33m\u001b[0m\u001b[0m\n\u001b[1;32m---> 11\u001b[1;33m \u001b[1;32mprint\u001b[0m \u001b[0mmisCosas\u001b[0m\u001b[1;33m[\u001b[0m\u001b[1;36m8\u001b[0m\u001b[1;33m]\u001b[0m\u001b[1;33m\u001b[0m\u001b[0m\n\u001b[0m",
        "\u001b[1;31mIndexError\u001b[0m: list index out of range"
       ]
      },
      {
       "output_type": "stream",
       "stream": "stdout",
       "text": [
        "el primer d\u00eda de la semana es lunes\n",
        "el tercer d\u00eda de la semana es mi\u00e9rcoles\n",
        "y el \u00faltimo es domingo\n",
        "[44, True, 'green colorless ideas sleep furiously']\n"
       ]
      }
     ],
     "prompt_number": 14
    },
    {
     "cell_type": "markdown",
     "metadata": {},
     "source": [
      "Podemos acceder a *porciones de una lista* usando una notaci\u00f3n especial en los corchetes del \u00edndice. `nombre_de_lista[n:m]` devuelve la secuencia de elementos de la lista que va desde el \u00edndice *n* hasta el *m*."
     ]
    },
    {
     "cell_type": "code",
     "collapsed": false,
     "input": [
      "# imprime los tres primeros elementos de la variable dias\n",
      "print dias[:3]\n",
      "# imprime elementos del 3\u00ba al 6\u00aa de la variable n\u00fameros\n",
      "print numeros[2:6]\n",
      "# imprime los tres \u00faltimos n\u00fameros de la variable n\u00fameros\n",
      "print numeros[-3:]"
     ],
     "language": "python",
     "metadata": {},
     "outputs": [
      {
       "output_type": "stream",
       "stream": "stdout",
       "text": [
        "['lunes', 'martes', 'mi\\xc3\\xa9rcoles']\n",
        "[3, 4, 5, 6]\n",
        "[8, 9, 10]\n"
       ]
      }
     ],
     "prompt_number": 26
    },
    {
     "cell_type": "markdown",
     "metadata": {},
     "source": [
      "Las cadenas, al igual que las listas, son estructuras ordenadas. No lo hemos mencionado antes, pero podemos utilizar esta misma notaci\u00f3n de \u00edndices para acceder a elementos y a porciones de una cadena."
     ]
    },
    {
     "cell_type": "code",
     "collapsed": false,
     "input": [
      "cadena = \"perrogatorana\"\n",
      "print cadena[:5]\n",
      "print cadena[5:9]\n",
      "print cadena[-4:]"
     ],
     "language": "python",
     "metadata": {},
     "outputs": [
      {
       "output_type": "stream",
       "stream": "stdout",
       "text": [
        "perro\n",
        "gato\n",
        "rana\n"
       ]
      }
     ],
     "prompt_number": 29
    },
    {
     "cell_type": "markdown",
     "metadata": {},
     "source": [
      "## M\u00e9todos sobre listas\n",
      "\n",
      "Como con las cadenas, en las listas existen una serie de *funciones* y *m\u00e9todos* que podemos ejecutar y que nos van a permitir realizar operaciones y transformar dichas listas de distintas maneras, p. ej.:\n",
      "\n",
      "- podemos contar el n\u00famero de elementos de una lista con la funci\u00f3n `len()`.\n",
      "- podemos buscar elementos en una lista sin saber la posici\u00f3n concreta que ocupan con el m\u00e9todo `.index()`.  \n",
      "- podemos a\u00f1adir nuevos elementos al final de una lista con el m\u00e9todo `.append()`.\n",
      "- podemos a\u00f1adir nuevos elementos en una posici\u00f3n concreta de una lista con el m\u00e9todo `.insert()`.\n",
      "\n",
      "Para m\u00e1s info, consulta los [m\u00e9todos que podemos aplicar a las listas](http://rgruet.free.fr/PQR27/PQR2.7.html#list)."
     ]
    },
    {
     "cell_type": "code",
     "collapsed": false,
     "input": [
      "# creamos una lista vac\u00eda\n",
      "miLista = []\n",
      "# \u00bfest\u00e1 realmente vac\u00eda?\n",
      "print len(miLista)\n",
      "\n",
      "# \u00bfqu\u00e9 posici\u00f3n ocupa \"jueves\" en la lista dias\n",
      "print dias.index(\"jueves\")\n",
      "\n",
      "# a\u00f1adimos varios elementos nuevos y vemos c\u00f3mo va aumentando la lista\n",
      "miLista.append(2)\n",
      "print miLista\n",
      "miLista.append(\"palabra\")\n",
      "print miLista\n",
      "miLista.append(25**3)\n",
      "print miLista\n",
      "\n",
      "# a\u00f1adimos como cuarto elemento otra lista de elementos: f\u00edjate en la estructura del resultado\n",
      "miLista.append(numeros)\n",
      "print miLista\n",
      "\n",
      "# \u00bfcu\u00e1ntos elementos tiene miLista?\n",
      "print \"la lista miLista tiene \" + str(len(miLista)) + \" elementos\"\n",
      "\n",
      "# a\u00f1adimos como segundo elemento otro nuevo valor\n",
      "miLista.insert(1, \"segundo elemento\")\n",
      "print miLista\n"
     ],
     "language": "python",
     "metadata": {},
     "outputs": [
      {
       "output_type": "stream",
       "stream": "stdout",
       "text": [
        "0\n",
        "3\n",
        "[2]\n",
        "[2, 'palabra']\n",
        "[2, 'palabra', 15625]\n",
        "[2, 'palabra', 15625, [1, 2, 3, 4, 5, 6, 7, 8, 9, 10]]\n",
        "la lista miLista tiene 4 elementos\n",
        "[2, 'segundo elemento', 'palabra', 15625, [1, 2, 3, 4, 5, 6, 7, 8, 9, 10]]\n"
       ]
      }
     ],
     "prompt_number": 33
    },
    {
     "cell_type": "markdown",
     "metadata": {},
     "source": [
      "# Diccionarios\n",
      "\n",
      "# Funciones"
     ]
    },
    {
     "cell_type": "code",
     "collapsed": false,
     "input": [],
     "language": "python",
     "metadata": {},
     "outputs": []
    }
   ],
   "metadata": {}
  }
 ]
}