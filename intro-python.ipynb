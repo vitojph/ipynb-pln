{
 "metadata": {
  "name": "intro-python"
 },
 "nbformat": 3,
 "nbformat_minor": 0,
 "worksheets": [
  {
   "cells": [
    {
     "cell_type": "markdown",
     "metadata": {},
     "source": [
      "# Introducci\u00f3n a Python\n",
      "\n",
      "Vamos a hacer una peque\u00f1a introducci\u00f3n al lenguaje de programaci\u00f3n [Python](http://www.python.org). Para ello, me voy a apoyar principalmente en [el curso online de Python en CodeCademy](http://www.codecademy.com/es/tracks/python-latinamerica). Para profundizar y afianzar conceptos generales de Python es muy recomendable que hag\u00e1is por vuestra cuenta al menos los nueve primeros temas este curso.\n",
      "\n",
      "# Variables y tipos de datos\n",
      "\n",
      "En los lenguajes de programaci\u00f3n, una **variable** es un tipo de *identificador* que almacena o al que se le asigna un determinado valor. Este valor puede ser de distinto tipo, como veremos m\u00e1s adelante. Para asignar valores a variables, utilizamos el signo `=` con la siguiente sintaxis:\n",
      "\n",
      "    nombre_de_variable = valor\n",
      "\n",
      "Veamos un ejemplo: vamos a *declarar* distintas variables, asign\u00e1ndoles valores:"
     ]
    },
    {
     "cell_type": "code",
     "collapsed": false,
     "input": [
      "# NOTA: en Python, las l\u00edneas que comienzan con # son comentarios\n",
      "# El int\u00e9rprete no las lee. Los humanos s\u00ed deber\u00edamos leerlas :-)\n",
      "mivariable = 25\n",
      "edad = 25\n",
      "year = 2013"
     ],
     "language": "python",
     "metadata": {},
     "outputs": []
    },
    {
     "cell_type": "markdown",
     "metadata": {},
     "source": [
      "Una vez que hemos asignado valores a nombres de variables, podemos llamar o recuperar esos valores siempre que queramos. Para hacer una peque\u00f1a prueba, vamos a imprimir por pantalla el valor de las variables anteriores. Para imprimir por pantalla, usamos el comando `print`."
     ]
    },
    {
     "cell_type": "code",
     "collapsed": false,
     "input": [
      "print mivariable\n",
      "print year\n",
      "print \"El ni\u00f1o come manzanas.\"\n",
      "print 255666"
     ],
     "language": "python",
     "metadata": {},
     "outputs": []
    },
    {
     "cell_type": "markdown",
     "metadata": {},
     "source": [
      "En el ejemplo anterior, hemos declarado tres variables diferentes. Sin embargo, el tipo de dato que est\u00e1bamos almacenando eras el mismo: n\u00fameros enteros. Como hemos mencionado antes, las variables pueden almacenar distintos tipos de datos. Los principales son: n\u00fameros enteros, n\u00fameros reales, cadenas de texto y valores booleanos (verdadero o falso)."
     ]
    },
    {
     "cell_type": "code",
     "collapsed": false,
     "input": [
      "# n\u00fameros enteros (integer)\n",
      "hijos = 3\n",
      "\n",
      "# n\u00fameros reales (float), siempre indicando los decimales con punto\n",
      "precio = 350.25\n",
      "longitud = 1.5\n",
      "\n",
      "# cadenas de texto (string), siempre entre comillas simples o dobles\n",
      "nombre = \"Pedro\"\n",
      "apellidos = 'Sanz Hern\u00e1ndez'\n",
      "\n",
      "# valores booleanos (bool): solo pueden ser True o False, escritos tal cual sin comillas\n",
      "animal = True\n",
      "mineral = False\n",
      "\n",
      "# imprimimos algunos de ellos por pantalla\n",
      "print hijos\n",
      "print nombre, apellidos\n",
      "print precio\n",
      "print mineral"
     ],
     "language": "python",
     "metadata": {},
     "outputs": []
    },
    {
     "cell_type": "markdown",
     "metadata": {},
     "source": [
      "Los valores que contienen las variabes pueden ser reasignados en cualquier momento. Eso s\u00ed, solo almacenan el \u00faltimo valor que hayamos asignado. Si reasignamos algunas de las variables declaradas anteriormente e imprimimos sus valores por pantalla, nos encontamos con:"
     ]
    },
    {
     "cell_type": "code",
     "collapsed": false,
     "input": [
      "nombre = \"Ana\"\n",
      "apellidos = 'Serrano de la Oca'\n",
      "print nombre, apellidos"
     ],
     "language": "python",
     "metadata": {},
     "outputs": []
    },
    {
     "cell_type": "markdown",
     "metadata": {},
     "source": [
      "## Operaciones aritm\u00e9ticas\n",
      "\n",
      "Podemos utilizar el int\u00e9rprete de Python como una calculadora. Basta con introducir operaciones aritm\u00e9ticas como operadores que seguramente ya conoces: suma (`+`), resta (`-`), multiplicaci\u00f3n (`*`), divisi\u00f3n (`/`), potencias (`**`) y m\u00f3dulo (`%`). Vamos a imprimir por pantalla el resultado de algunas operaciones."
     ]
    },
    {
     "cell_type": "code",
     "collapsed": false,
     "input": [
      "from __future__ import division\n",
      "#suma \n",
      "print 5+6\n",
      "\n",
      "# resta\n",
      "print 10-3\n",
      "\n",
      "# multiplicaci\u00f3n\n",
      "print 25*6\n",
      "\n",
      "# divisi\u00f3n\n",
      "print 2558/8\n",
      "\n",
      "# potencias\n",
      "print 2**3\n",
      "\n",
      "# m\u00f3dulo hace referencia al resto de la divisi\u00f3n 10/2.\n",
      "print 10%2"
     ],
     "language": "python",
     "metadata": {},
     "outputs": []
    },
    {
     "cell_type": "markdown",
     "metadata": {},
     "source": [
      "Si retomamos lo aprendido anteriormente acerca de las variables, veremos que podemos declarar variables a partir de operaciones matem\u00e1ticas, por ejemplo:"
     ]
    },
    {
     "cell_type": "code",
     "collapsed": false,
     "input": [
      "# una suma sencilla\n",
      "suma = 9+5\n",
      "print suma\n",
      "\n",
      "# calculamos el \u00e1rea de un cuadrado cuyo lado\n",
      "lado = 1.5\n",
      "area = lado**2 # es equivalente a lado*lado\n",
      "print area\n",
      "\n",
      "# vamos a calcular el precio final de un producto cuyo valor es 19,95\u20ac\n",
      "iva = 21\n",
      "precio = 19.95\n",
      "precio_final = precio + (precio * iva)/100\n",
      "print precio_final\n",
      "\n",
      "# calculamos la edad actual de una persona\n",
      "ahora = 2013\n",
      "fechaNacimiento = 1985\n",
      "edad = ahora - fechaNacimiento\n",
      "print edad"
     ],
     "language": "python",
     "metadata": {},
     "outputs": []
    },
    {
     "cell_type": "markdown",
     "metadata": {},
     "source": [
      "# Gesti\u00f3n de cadenas (*strings*)\n",
      "\n",
      "Si nuestro objetivo es aprende a programar en Python para procesar texto las **cadenas de caracteres** van a ser el principal tipo de dato que vamos a manejar. Como hemos visto antes, las cadenas se identifican en Python porque se declaran entre comillas dobles (`\"cadena\"`) o simples (`'cadena'`) o, si las cadenas son muy largas y ocupan m\u00e1s de una l\u00ednea, entre triples pares de comillas. \n",
      "\n",
      "Algunos ejemplos de cadenas:"
     ]
    },
    {
     "cell_type": "code",
     "collapsed": false,
     "input": [
      "nombre = \"Godofredo de Orl\u00e9ans\"\n",
      "oracion = 'GREEN COLORLESS IDEAS SLEEP FURIOUSLY'\n",
      "parrafo = \"\"\"En un lugar de la Mancha, de cuyo nombre no quiero acordarme, \n",
      "no ha mucho tiempo que viv\u00eda un hidalgo de los de lanza en astillero, \n",
      "adarga antigua, roc\u00edn flaco y galgo corredor. Una olla de algo m\u00e1s vaca \n",
      "que carnero, salpic\u00f3n las m\u00e1s noches, duelos y quebrantos los s\u00e1bados, \n",
      "lentejas los viernes, alg\u00fan palomino de a\u00f1adidura los domingos, consum\u00edan \n",
      "las tres partes de su hacienda.\"\"\""
     ],
     "language": "python",
     "metadata": {},
     "outputs": []
    },
    {
     "cell_type": "markdown",
     "metadata": {},
     "source": [
      "\u00a1OJO! Podemos definir como valores de variables cadenas formadas por secuencias de n\u00fameros, siempre que se declaren entre comillas. Es muy importante entender la diferencia entre:"
     ]
    },
    {
     "cell_type": "code",
     "collapsed": false,
     "input": [
      "numero1 = 45852236\n",
      "numero2 = \"45852236\"\n",
      "\n",
      "# podemos realizar operaciones aritm\u00e9ticas entre n\u00fameros\n",
      "print numero1 + 1\n",
      "\n",
      "# pero no entre cadenas y n\u00fameros: esto da un error\n",
      "print numero2 + 1"
     ],
     "language": "python",
     "metadata": {},
     "outputs": []
    },
    {
     "cell_type": "code",
     "collapsed": false,
     "input": [
      "# sin embargo, s\u00ed puedo utilizar el operador '+' para concatenar varias cadenas\n",
      "print numero2 + \"1\"\n",
      "print \"\u00a1Hola\" + \" \" + \"amigo!\""
     ],
     "language": "python",
     "metadata": {},
     "outputs": []
    },
    {
     "cell_type": "markdown",
     "metadata": {},
     "source": [
      "### Conversi\u00f3n ente cadenas y enteros\n",
      "\n",
      "Otra manera de generar cadenas de texto es utilizando la funci\u00f3n `str()` con un argumento que no sea una cadena. F\u00edjate en los ejemplos:"
     ]
    },
    {
     "cell_type": "code",
     "collapsed": false,
     "input": [
      "# guardamos en numero1 un entero\n",
      "numero1 = 45852236\n",
      "# en numero2, guardamos el valor de numero1 convertido a cadena de texto con la funci\u00f3n str()\n",
      "numero2 = str(numero1)\n",
      "\n",
      "# con la funci\u00f3n type() imprimimos por pantalla el tipo de dato que guarda una variable\n",
      "\n",
      "print type(numero1) # es un entero: int\n",
      "print type(numero2) # es una cadena: str"
     ],
     "language": "python",
     "metadata": {},
     "outputs": []
    },
    {
     "cell_type": "markdown",
     "metadata": {},
     "source": [
      "Para hacer el paso contrario, es decir, transformar cadenas en enteros, podemos utilizar la funci\u00f3n `int()`."
     ]
    },
    {
     "cell_type": "code",
     "collapsed": false,
     "input": [
      "# guardamos en numero1 una cadena\n",
      "numero1 = \"45852236\"\n",
      "# en numero2, guardamos el valor de numero1 convertido a entero con la funci\u00f3n int()\n",
      "numero2 = int(numero1)\n",
      "\n",
      "# con la funci\u00f3n type() imprimimos por pantalla el tipo de dato que guarda una variable\n",
      "\n",
      "print type(numero1) # es una cadena: str\n",
      "print type(numero2) # es un entero: int"
     ],
     "language": "python",
     "metadata": {},
     "outputs": []
    },
    {
     "cell_type": "markdown",
     "metadata": {},
     "source": [
      "Recuerda, cualquier secuencia alfanum\u00e9rica encerrada entre comillas ser\u00e1 tratada como una cadena de caracteres (*string*) aunque est\u00e9 formada \u00fanicamente por d\u00edgitos.\n",
      "\n",
      "\n",
      "### M\u00e9todos sobre cadenas\n",
      "\n",
      "Existen una serie de *funciones* y *metodos* que podemos ejecutar sobre cadenas de texto y que nos van a permitir realizar operaciones y transformar dichas cadenas de distintas maneras, p. ej.: \n",
      "\n",
      "- contar el n\u00famero de caracteres de una cadena (`len()`) \n",
      "- transformar la cadena a may\u00fasculas (`.upper()`) o min\u00fasculas (`.lower()`)\n",
      "\n",
      "Para m\u00e1s info, consulta [los m\u00e9todos que podemos aplicar a las cadenas](http://rgruet.free.fr/PQR27/PQR2.7.html#stringMethods).\n"
     ]
    },
    {
     "cell_type": "code",
     "collapsed": false,
     "input": [
      "print len(nombre) # devuelve la longitud (en n\u00famero de caracteres) de una cadena\n",
      "print oracion.lower() # transforma una cadena a min\u00fasculas (lowercas)\n",
      "print parrafo.upper() # transforma una cadena a may\u00fasculas (uppercas)\n",
      "print \"AbCdEfGhIjKlMn\u00d1oPqRsTuVwXyZ\".swapcase() # transforma may\u00fasculas a min\u00fasculas y viceversa"
     ],
     "language": "python",
     "metadata": {},
     "outputs": []
    },
    {
     "cell_type": "markdown",
     "metadata": {},
     "source": [
      "# Listas\n",
      "\n",
      "Las **listas** de Python son una estructura de datos que almacenan una colecci\u00f3n de diferentes tipos de informaci\u00f3n en forma de secuencia ordenada, bajo un solo nombre de variable. Las listas pueden guardar valores de cualquiera de los tipos que hemos visto anteriormente (cadenas, n\u00fameros y booleanos) e incluso **las listas pueden incluir otras listas de manera anidada**.\n",
      "\n",
      "Las listas se declaran especificando la colecci\u00f3n de elementos entre corchetes y separando los elementos con comas:"
     ]
    },
    {
     "cell_type": "code",
     "collapsed": false,
     "input": [
      "numeros = [1, 2, 3, 4, 5, 6, 7, 8, 9, 10]\n",
      "dias = [\"lunes\", \"martes\", \"mi\u00e9rcoles\", \"jueves\", \"viernes\", \"s\u00e1bado\", \"domingo\"]\n",
      "misCosas = [23.4, True, oracion.lower()]\n",
      "listaVacia = []\n",
      "\n",
      "# los imprimimos por pantalla\n",
      "print numeros\n",
      "print dias\n",
      "print misCosas\n",
      "print listaVacia"
     ],
     "language": "python",
     "metadata": {},
     "outputs": []
    },
    {
     "cell_type": "markdown",
     "metadata": {},
     "source": [
      "Las listas son estructuras de datos ordenadas, lo que implica que podemos acceder a los elementos individuales a trav\u00e9s de un \u00edndice (la posici\u00f3n  que ocupa en la secuencia). El \u00edndice se especifica indicando el nombre de la lista y un entero entre corchetes: `nombre_de_lista[\u00edndice]`.\n",
      "\n",
      "\u00a1OJO! Los \u00edndices de las listas comienzan con 0, no con 1: el primer elemento es `nombre_de_lista[0]`. "
     ]
    },
    {
     "cell_type": "code",
     "collapsed": false,
     "input": [
      "print \"el primer d\u00eda de la semana es \" + dias[0]\n",
      "print \"el tercer d\u00eda de la semana es \" + dias[2]\n",
      "print \"y el \u00faltimo es \" + dias[-1]\n",
      "\n",
      "# podemos utilizar los \u00edndices tambi\u00e9n para reasignar valores a los elementos de una lista\n",
      "# p. ej., cambiamos el primer valor de la lista misCosas\n",
      "misCosas[0] = 44\n",
      "print misCosas\n",
      "\n",
      "# \u00a1OJO! si intentamos acceder a un \u00edndice que no existe, el int\u00e9rprete nos dar\u00e1 error\n",
      "print misCosas[8]"
     ],
     "language": "python",
     "metadata": {},
     "outputs": []
    },
    {
     "cell_type": "markdown",
     "metadata": {},
     "source": [
      "Podemos acceder a *porciones de una lista* usando una notaci\u00f3n especial en los corchetes del \u00edndice. `nombre_de_lista[n:m]` devuelve la secuencia de elementos de la lista que va desde el \u00edndice *n* hasta el *m*."
     ]
    },
    {
     "cell_type": "code",
     "collapsed": false,
     "input": [
      "# imprime los tres primeros elementos de la variable dias\n",
      "print dias[:3]\n",
      "# imprime elementos del 3\u00ba al 6\u00aa de la variable n\u00fameros\n",
      "print numeros[2:6]\n",
      "# imprime los tres \u00faltimos n\u00fameros de la variable n\u00fameros\n",
      "print numeros[-3:]"
     ],
     "language": "python",
     "metadata": {},
     "outputs": []
    },
    {
     "cell_type": "markdown",
     "metadata": {},
     "source": [
      "Las cadenas, al igual que las listas, son estructuras ordenadas. No lo hemos mencionado antes, pero podemos utilizar esta misma notaci\u00f3n de \u00edndices para acceder a elementos y a porciones de una cadena."
     ]
    },
    {
     "cell_type": "code",
     "collapsed": false,
     "input": [
      "cadena = \"perrogatorana\"\n",
      "print cadena[:5]\n",
      "print cadena[5:9]\n",
      "print cadena[-4:]"
     ],
     "language": "python",
     "metadata": {},
     "outputs": []
    },
    {
     "cell_type": "markdown",
     "metadata": {},
     "source": [
      "## M\u00e9todos sobre listas\n",
      "\n",
      "Como con las cadenas, en las listas existen una serie de *funciones* y *m\u00e9todos* que podemos ejecutar y que nos van a permitir realizar operaciones y transformar dichas listas de distintas maneras, p. ej.:\n",
      "\n",
      "- podemos contar el n\u00famero de elementos de una lista con la funci\u00f3n `len()`.\n",
      "- podemos buscar elementos en una lista sin saber la posici\u00f3n concreta que ocupan con el m\u00e9todo `.index()`.  \n",
      "- podemos a\u00f1adir nuevos elementos al final de una lista con el m\u00e9todo `.append()`.\n",
      "- podemos a\u00f1adir nuevos elementos en una posici\u00f3n concreta de una lista con el m\u00e9todo `.insert()`.\n",
      "- podemos eliminar elementos de una lista con los m\u00e9todos `.remove()` y  `.pop()`.\n",
      "- podemos concatenar una lista con otra con el m\u00e9todo `.extend()`.\n",
      "\n",
      "Para m\u00e1s info, consulta los [m\u00e9todos que podemos aplicar a las listas](http://rgruet.free.fr/PQR27/PQR2.7.html#list)."
     ]
    },
    {
     "cell_type": "code",
     "collapsed": false,
     "input": [
      "# creamos una lista vac\u00eda\n",
      "miLista = []\n",
      "# \u00bfest\u00e1 realmente vac\u00eda?\n",
      "print len(miLista)\n",
      "\n",
      "# \u00bfqu\u00e9 posici\u00f3n ocupa \"jueves\" en la lista dias\n",
      "print dias.index(\"jueves\")\n",
      "\n",
      "# a\u00f1adimos varios elementos nuevos y vemos c\u00f3mo va aumentando la lista\n",
      "miLista.append(2)\n",
      "print miLista\n",
      "miLista.append(\"palabra\")\n",
      "print miLista\n",
      "miLista.append(25**3)\n",
      "print miLista\n",
      "\n",
      "# a\u00f1adimos como cuarto elemento otra lista de elementos: f\u00edjate en la estructura del resultado\n",
      "miLista.append(numeros)\n",
      "print miLista\n",
      "\n",
      "# \u00bfcu\u00e1ntos elementos tiene miLista?\n",
      "print \"la lista miLista tiene \" + str(len(miLista)) + \" elementos\"\n",
      "\n",
      "# a\u00f1adimos como segundo elemento otro nuevo valor\n",
      "miLista.insert(1, \"segundo elemento\")\n",
      "print miLista"
     ],
     "language": "python",
     "metadata": {},
     "outputs": []
    },
    {
     "cell_type": "code",
     "collapsed": false,
     "input": [
      "print miLista\n",
      "\n",
      "# eliminarmos el elemento 2 y el elemento \"palabra\" de miLista\n",
      "miLista.remove(2)\n",
      "print miLista\n",
      "\n",
      "miLista.remove(\"palabra\")\n",
      "print miLista\n",
      "\n",
      "# tambi\u00e9n puedo eliminar el \u00faltimo elemento de la lista\n",
      "miLista.pop(-1)\n",
      "print miLista\n",
      "\n",
      "# concateno dos listas\n",
      "dias.extend(numeros)\n",
      "print dias"
     ],
     "language": "python",
     "metadata": {},
     "outputs": []
    },
    {
     "cell_type": "markdown",
     "metadata": {},
     "source": [
      "# Tuplas\n",
      "\n",
      "Las **tuplas** de Python son una estructura de datos que almacenan una colecci\u00f3n de diferentes tipos de informaci\u00f3n en forma de secuencia ordenada. Estas tuplas pueden guardar valores de cualquiera de los tipos que hemos visto anteriormente (cadenas, n\u00fameros y booleanos) e incluso otras listas o tuplas de manera anidada. La principal diferencia con las listas es que **las tuplas son inmutables**: no podemos modificarlas, ni a\u00f1adiendo o eliminando elementos, ni reordenado, etc. \n",
      "\n",
      "Las tuplas se declaran especificando la colecci\u00f3n de elementos entre par\u00e9ntesis y separando los elementos con comas."
     ]
    },
    {
     "cell_type": "code",
     "collapsed": false,
     "input": [
      "#creo tres tripletas, cada una almacenando el nombre, apellido y sexo de unas personas ficticias\n",
      "tripleta1 = (\"Carlos\", \"Pujol\", \"H\")\n",
      "tripleta2 = (\"Montse\", \"Santos\", \"M\")\n",
      "tripleta3 = (\"Ana\", \"Ruiz\", \"M\")\n",
      "\n",
      "# creo una lista de personas y a\u00f1ado las tripletas por orden\n",
      "personas = []\n",
      "personas.append(tripleta1)\n",
      "personas.append(tripleta2)\n",
      "personas.append(tripleta3)\n",
      "print personas\n",
      "\n",
      "# las tuplas son secuencias ordenadas, y como tales podemos acceder a sus elementos\n",
      "# a trav\u00e9s de \u00edndices num\u00e9ricos\n",
      "print len(personas[0])\n",
      "print personas[1][1]"
     ],
     "language": "python",
     "metadata": {},
     "outputs": []
    },
    {
     "cell_type": "markdown",
     "metadata": {},
     "source": [
      "# Diccionarios\n",
      "\n",
      "Los **diccionarios** de Python son una estructura de datos que almacena una colecci\u00f3n de pares *clave:valor*. La clave es siempre una cadena, y el valor puede contener cualquiera de los tipos que hemos visto anteriormente (cadenas, n\u00fameros y booleanos) e incluso otras listas, tuplas o diccionarios de manera anidada. Al contrario que las listas y las tuplas, los diccionarios no son estructuras ordenadas. Por lo tanto, nos interesar\u00e1 utilizar diccionarios cuando necesitamos almacenar y acceder directamente a informaci\u00f3n cuyo nombre conozcamos.\n",
      "\n",
      "Podemos definir diccionarios de varias maneras:"
     ]
    },
    {
     "cell_type": "code",
     "collapsed": false,
     "input": [
      "# entre llaves, separando claves y valores con dos puntos, y separando pares con comas\n",
      "victor = {\"nombre\": \"Victor\", \"apellido\": \"Peinado\", \"sexo\": \"H\", \"edad\": 34}\n",
      "print victor\n",
      "\n",
      "# declarando el diccionario como una estructura vac\u00eda y a\u00f1adiendo los pares clave:valor despu\u00e9s\n",
      "antonio = {}\n",
      "antonio[\"nombre\"] = \"Antonio\"\n",
      "antonio[\"apellido\"] = \"Santos\"\n",
      "antonio[\"sexo\"] = \"H\"\n",
      "antonio[\"edad\"] = 26\n",
      "print antonio\n",
      "\n",
      "# creo una lista de diccionarios: OJO, la lista s\u00ed est\u00e1 ordenada\n",
      "personas = [victor, antonio]\n",
      "print personas"
     ],
     "language": "python",
     "metadata": {},
     "outputs": []
    },
    {
     "cell_type": "markdown",
     "metadata": {},
     "source": [
      "Podemos acceder a los elementos del diccionaro a trav\u00e9s del nombre de la clave:"
     ]
    },
    {
     "cell_type": "code",
     "collapsed": false,
     "input": [
      "print victor[\"nombre\"]\n",
      "\n",
      "print antonio[\"apellido\"]\n",
      "\n",
      "print personas[1][\"nombre\"]"
     ],
     "language": "python",
     "metadata": {},
     "outputs": []
    },
    {
     "cell_type": "markdown",
     "metadata": {},
     "source": [
      "## M\u00e9todos sobre diccionarios\n",
      "\n",
      "Como con otras estructuras de datos, los diccionarios proporcionan una serie de *funciones* y *m\u00e9todos* que podemos ejecutar y que nos van a permitir manipular y acceder a dichos diccionarios de distintas maneras, p. ej.:\n",
      "\n",
      "- podemos contar el n\u00famero de elementos de una diccionario la funci\u00f3n `len()`.\n",
      "- podemos recuperar una lista conteniendo las claves de un diccionario con el m\u00e9todo `.keys()`.\n",
      "- podemos recuperar una lista conteniendo los valores de un diccionario con el m\u00e9todo `.values()`.\n",
      "- podemos comprobar que un diccionario contiene determinada clave con el m\u00e9todo `.has_key()`.\n",
      "- podemos eliminar un elemento de un diccionario con el m\u00e9todo `.pop()`.\n",
      "\n",
      "Para m\u00e1s info, consulta los [m\u00e9todos que podemos aplicar a los diccionarios](http://rgruet.free.fr/PQR27/PQR2.7.html#dictionary)."
     ]
    },
    {
     "cell_type": "code",
     "collapsed": false,
     "input": [
      "# \u00bfcu\u00e1ntos pares clave:valor tiene el diccionario antonio?\n",
      "print len(antonio)\n",
      "\n",
      "# dame las claves\n",
      "print antonio.keys()\n",
      "\n",
      "# dame los valores\n",
      "print antonio.values()\n",
      "\n",
      "# recuerda que para crear nuevos pares clave:valor, basta con asignarles un valor\n",
      "antonio[\"altura\"] = 1.79\n",
      "\n",
      "# podemos comprobar si el diccionario tiene determinadas claves\n",
      "print antonio.has_key(\"email\")\n",
      "print antonio.has_key(\"altura\")\n",
      "print antonio\n",
      "\n",
      "# eliminamos la clave altura de antonio\n",
      "antonio.pop(\"altura\") \n",
      "# del antonio[\"altura\"]\n",
      "print antonio\n"
     ],
     "language": "python",
     "metadata": {},
     "outputs": []
    },
    {
     "cell_type": "markdown",
     "metadata": {},
     "source": [
      "Los diccionarios pueden contener otros diccionarios anidados, lo que conlleva que podemos manejar estructuras bastante complejas. A modo de ejemplo:"
     ]
    },
    {
     "cell_type": "code",
     "collapsed": false,
     "input": [
      "# creo un diccionario de la familia Pig, en principio vac\u00edo\n",
      "familiaPig = {}\n",
      "\n",
      "# creo varios diccionarios por cada miembro de la familia\n",
      "hija = {\"nombre\": \"Peppa\", \"apellido\": \"Pig\", \"email\": \"peppae@pig.com\",}\n",
      "hijo = {\"nombre\": \"George\", \"apellido\": \"Pig\", \"email\": \"george@pig.com\",}\n",
      "padre = {\"nombre\": \"Daddy\", \"apellido\": \"Pig\", \"email\": \"daddy@pig.com\",}\n",
      "madre = {\"nombre\": \"Mommy\", \"apellido\": \"Pig\", \"email\": \"mommy@pig.com\",}\n",
      "\n",
      "\n",
      "familiaPig[\"hija\"] = hija\n",
      "familiaPig[\"hijo\"] = hijo\n",
      "familiaPig[\"padre\"] = padre\n",
      "familiaPig[\"madre\"] = madre\n",
      "\n",
      "print familiaPig\n",
      "\n",
      "# \u00bfCu\u00e1l es el email de la madre?\n",
      "print familiaPig[\"madre\"][\"email\"]\n",
      "\n",
      "# \u00bfY el nombre de la hija?\n",
      "print familiaPig[\"hija\"][\"nombre\"]\n",
      "\n",
      "# en lugar de un diccionario, puedo crear tambi\u00e9n una lista con los miembros de la familia ordenados por edad\n",
      "familia = [padre, madre, hija, hijo]\n",
      "\n",
      "# ahora solo puedo acceder por \u00edndices, as\u00ed que \u00bfcu\u00e1l es el email del primer miembro de la familia?\n",
      "print familia[0][\"email\"]\n",
      "\n",
      "# \u00bfY el nombre del miembro m\u00e1s joven?\n",
      "print familia[-1][\"nombre\"]"
     ],
     "language": "python",
     "metadata": {},
     "outputs": []
    },
    {
     "cell_type": "code",
     "collapsed": false,
     "input": [
      "from IPython.core.display import Image\n",
      "Image(\"http://peppapigjuegos.com/img/wallpapers/2pag/peppa_pig_family.jpg\")"
     ],
     "language": "python",
     "metadata": {},
     "outputs": []
    }
   ],
   "metadata": {}
  }
 ]
}