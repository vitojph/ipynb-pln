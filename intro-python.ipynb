{
 "metadata": {
  "name": "intro-python"
 },
 "nbformat": 3,
 "nbformat_minor": 0,
 "worksheets": [
  {
   "cells": [
    {
     "cell_type": "markdown",
     "metadata": {},
     "source": "# Introducci\u00f3n a Python\n\nVamos a hacer una peque\u00f1a introducci\u00f3n al lenguaje de programaci\u00f3n [Python](http://www.python.org). Para ello, me voy a apoyar principalmente en [el curso online de Python en CodeCademy](http://www.codecademy.com/es/tracks/python-latinamerica). Para profundizar y afianzar conceptos generales de Python es muy recomendable que hag\u00e1is por vuestra cuenta al menos los nueve primeros temas este curso.\n\n# Variables y tipos de datos\n\nEn los lenguajes de programaci\u00f3n, una **variable** es un tipo de *identificador* que almacena o al que se le asigna un determinado valor. Este valor puede ser de distinto tipo, como veremos m\u00e1s adelante. Para asignar valores a variables, utilizamos el signo `=` con la siguiente sintaxis:\n\n    `nombre_de_variable = valor`\n\nVeamos un ejemplo: vamos a *declarar* distintas variables, asign\u00e1ndoles valores:"
    },
    {
     "cell_type": "code",
     "collapsed": false,
     "input": "# NOTA: en Python, las l\u00edneas que comienzan con # son comentarios\n# El int\u00e9rprete no las lee. Los humanos s\u00ed deber\u00edamos leerlas :-)\nmivariable = 25\nedad = 25\nyear = 2013",
     "language": "python",
     "metadata": {},
     "outputs": [],
     "prompt_number": 3
    },
    {
     "cell_type": "markdown",
     "metadata": {},
     "source": "Una vez que hemos asignado valores a nombres de variables, podemos llamar o recuperar esos valores siempre que queramos. Para hacer una peque\u00f1a prueba, vamos a imprimir por pantalla el valor de las variables anteriores. Para imprimir por pantalla, usamos el comando `print`."
    },
    {
     "cell_type": "code",
     "collapsed": false,
     "input": "print mivariable\nprint year\nprint \"El ni\u00f1o come manzanas.\"\nprint 255666",
     "language": "python",
     "metadata": {},
     "outputs": [
      {
       "output_type": "stream",
       "stream": "stdout",
       "text": "25\n2013\nEl ni\u00f1o come manzanas.\n255666\n"
      }
     ],
     "prompt_number": 21
    },
    {
     "cell_type": "markdown",
     "metadata": {},
     "source": "En el ejemplo anterior, hemos declarado tres variables diferentes. Sin embargo, el tipo de dato que est\u00e1bamos almacenando eras el mismo: n\u00fameros enteros. Como hemos mencionado antes, las variables pueden almacenar distintos tipos de datos. Los principales son: n\u00fameros enteros, n\u00fameros reales, cadenas de texto y valores booleanos (verdadero o falso)."
    },
    {
     "cell_type": "code",
     "collapsed": false,
     "input": "# n\u00fameros enteros (integer)\nhijos = 3\n\n# n\u00fameros reales (float), siempre indicando los decimales con punto\nprecio = 350.25\nlongitud = 1.5\n\n# cadenas de texto (string), siempre entre comillas simples o dobles\nnombre = \"Pedro\"\napellidos = 'Sanz Hern\u00e1ndez'\n\n# valores booleanos (bool): solo pueden ser True o False, escritos tal cual sin comillas\nanimal = True\nmineral = False\n\n# imprimimos algunos de ellos por pantalla\nprint hijos\nprint nombre, apellidos\nprint precio\nprint mineral",
     "language": "python",
     "metadata": {},
     "outputs": [
      {
       "output_type": "stream",
       "stream": "stdout",
       "text": "3\nPedro Sanz Hern\u00e1ndez\n350.25\nFalse\n"
      }
     ],
     "prompt_number": 10
    },
    {
     "cell_type": "markdown",
     "metadata": {},
     "source": "Los valores que contienen las variabes pueden ser reasignados en cualquier comento. Eso s\u00ed, solo almacenan el \u00faltimo valor que hayamos asignado. Si reasignamos algunas de las variables declaradas anteriormente e imprimimos sus valores por pantalla, nos encontamos con:"
    },
    {
     "cell_type": "code",
     "collapsed": false,
     "input": "nombre = \"Ana\"\napellidos = 'Serrano de la Oca'\nprint nombre, apellidos",
     "language": "python",
     "metadata": {},
     "outputs": [
      {
       "output_type": "stream",
       "stream": "stdout",
       "text": "Ana Serrano de la Oca\n"
      }
     ],
     "prompt_number": 11
    },
    {
     "cell_type": "markdown",
     "metadata": {},
     "source": "## Operaciones aritm\u00e9ticas\n\nPodemos utilizar el int\u00e9rprete de Python como una calculadora. Basta con introducir operaciones aritm\u00e9ticas como operadores que seguramente ya conoces: suma (`+`), resta (`-`), multiplicaci\u00f3n (`*`), divisi\u00f3n (`/`), potencias (`**`) y m\u00f3dulo (`%`). Vamos a imprimir por pantalla el resultado de algunas operaciones."
    },
    {
     "cell_type": "code",
     "collapsed": false,
     "input": "from __future__ import division\n#suma \nprint 5+6\n\n# resta\nprint 10-3\n\n# multiplicaci\u00f3n\nprint 25*6\n\n# divisi\u00f3n\nprint 2558/8\n\n# potencias\nprint 2**3\n\n# m\u00f3dulo hace referencia al resto de la divisi\u00f3n 10/2.\nprint 10%2",
     "language": "python",
     "metadata": {},
     "outputs": [
      {
       "output_type": "stream",
       "stream": "stdout",
       "text": "11\n7\n150\n319.75\n8\n0\n"
      }
     ],
     "prompt_number": 23
    },
    {
     "cell_type": "markdown",
     "metadata": {},
     "source": "Si retomamos lo aprendido anteriormente acerca de las variables, veremos que podemos declarar variables a partir de operaciones matem\u00e1ticas, por ejemplo:"
    },
    {
     "cell_type": "code",
     "collapsed": false,
     "input": "# una suma sencilla\nsuma = 9+5\nprint suma\n\n# calculamos el \u00e1rea de un cuadrado cuyo lado\nlado = 1.5\narea = lado**2 # es equivalente a lado*lado\nprint area\n\n# vamos a calcular el precio final de un producto cuyo valor es 19,95\u20ac\niva = 21\nprecio = 19.95\nprecio_final = precio + (precio * iva)/100\nprint precio_final\n\n# calculamos la edad actual de una persona\nahora = 2013\nfechaNacimiento = 1985\nedad = ahora - fechaNacimiento\nprint edad",
     "language": "python",
     "metadata": {},
     "outputs": [
      {
       "output_type": "stream",
       "stream": "stdout",
       "text": "14\n2.25\n24.1395\n28\n2.5\n"
      }
     ],
     "prompt_number": 24
    },
    {
     "cell_type": "markdown",
     "metadata": {},
     "source": "# Gesti\u00f3n de cadenas (*strings*)\n\nSi nuestro objetivo es aprende a programar en Python para procesar texto las **cadenas de caracteres** van a ser el principal tipo de dato que vamos a manejar. Como hemos visto antes, las cadenas se identifican en Python porque se declaran entre comillas dobles (`\"cadena\"`) o simples (`'cadena'`) o, si las cadenas son muy largas y ocupan m\u00e1s de una l\u00ednea, entre triples pares de comillas. \n\nAlgunos ejemplos de cadenas:"
    },
    {
     "cell_type": "code",
     "collapsed": false,
     "input": "nombre = \"Godofredo de Orl\u00e9ans\"\noracion = 'GREEN COLORLESS IDEAS SLEEP FURIOUSLY'\nparrafo = \"\"\"En un lugar de la Mancha, de cuyo nombre no quiero acordarme, \nno ha mucho tiempo que viv\u00eda un hidalgo de los de lanza en astillero, \nadarga antigua, roc\u00edn flaco y galgo corredor. Una olla de algo m\u00e1s vaca \nque carnero, salpic\u00f3n las m\u00e1s noches, duelos y quebrantos los s\u00e1bados, \nlentejas los viernes, alg\u00fan palomino de a\u00f1adidura los domingos, consum\u00edan \nlas tres partes de su hacienda.\"\"\"",
     "language": "python",
     "metadata": {},
     "outputs": [],
     "prompt_number": 1
    },
    {
     "cell_type": "markdown",
     "metadata": {},
     "source": "\u00a1OJO! Podemos definir como valores de variables cadenas formadas por secuencias de n\u00fameros, siempre que se declaren entre comillas. Es muy importante entender la diferencia entre:"
    },
    {
     "cell_type": "code",
     "collapsed": false,
     "input": "numero1 = 45852236\nnumero2 = \"45852236\"\n\n# podemos realizar operaciones aritm\u00e9ticas entre n\u00fameros\nprint numero1 + 1\n\n# pero no entre cadenas y n\u00fameros: esto da un error\nprint numero2 + 1",
     "language": "python",
     "metadata": {},
     "outputs": [
      {
       "ename": "TypeError",
       "evalue": "cannot concatenate 'str' and 'int' objects",
       "output_type": "pyerr",
       "traceback": [
        "\u001b[1;31m---------------------------------------------------------------------------\u001b[0m\n\u001b[1;31mTypeError\u001b[0m                                 Traceback (most recent call last)",
        "\u001b[1;32m<ipython-input-5-285435eeee1a>\u001b[0m in \u001b[0;36m<module>\u001b[1;34m()\u001b[0m\n\u001b[0;32m      6\u001b[0m \u001b[1;33m\u001b[0m\u001b[0m\n\u001b[0;32m      7\u001b[0m \u001b[1;31m# pero no entre cadenas y n\u00fameros: esto da un error\u001b[0m\u001b[1;33m\u001b[0m\u001b[1;33m\u001b[0m\u001b[0m\n\u001b[1;32m----> 8\u001b[1;33m \u001b[1;32mprint\u001b[0m \u001b[0mnumero2\u001b[0m \u001b[1;33m+\u001b[0m \u001b[1;36m1\u001b[0m\u001b[1;33m\u001b[0m\u001b[0m\n\u001b[0m",
        "\u001b[1;31mTypeError\u001b[0m: cannot concatenate 'str' and 'int' objects"
       ]
      },
      {
       "output_type": "stream",
       "stream": "stdout",
       "text": "45852237\n"
      }
     ],
     "prompt_number": 5
    },
    {
     "cell_type": "code",
     "collapsed": false,
     "input": "# sin embargo, s\u00ed puedo utilizar el operador '+' para concatenar varias cadenas\nprint numero2 + \"1\"\nprint \"\u00a1Hola\" + \" \" + \"amigo!\"",
     "language": "python",
     "metadata": {},
     "outputs": [
      {
       "output_type": "stream",
       "stream": "stdout",
       "text": "458522361\n\u00a1Hola amigo!\n"
      }
     ],
     "prompt_number": 9
    },
    {
     "cell_type": "markdown",
     "metadata": {},
     "source": "Recuerda, cualquier secuencia alfanum\u00e9rica encerrada entre comillas ser\u00e1 tratada como una cadena de caracteres (*string*) aunque est\u00e9 formada \u00fanicamente por d\u00edgitos.\n\n\n### M\u00e9todos sobre cadenas\n\nExisten una serie de *funciones* y *metodos* que podemos ejecutar sobre cadenas de texto y que nos van a permitir realizar operaciones y transformar dichas cadenas de distintas maneras, p. ej.: \n\n- contar el n\u00famero de caracteres de una cadena (`len()`) \n- transformar la cadena a may\u00fasculas (`.upper()`) o min\u00fasculas (`.lower()`)\n- separar \n\nPara m\u00e1s info, consulta [los m\u00e9todos que podemos aplicar a las cadenas](http://rgruet.free.fr/PQR27/PQR2.7.html#stringMethods).\n"
    },
    {
     "cell_type": "code",
     "collapsed": false,
     "input": "print len(nombre) # devuelve la longitud (en n\u00famero de caracteres) de una cadena\nprint oracion.lower() # transforma una cadena a min\u00fasculas (lowercas)\nprint parrafo.upper() # transforma una cadena a may\u00fasculas (uppercas)\nprint \"AbCdEfGhIjKlMn\u00d1oPqRsTuVwXyZ\".swapcase() # transforma may\u00fasculas a min\u00fasculas y viceversa",
     "language": "python",
     "metadata": {},
     "outputs": [
      {
       "output_type": "stream",
       "stream": "stdout",
       "text": "21\ngreen colorless ideas sleep furiously\nEN UN LUGAR DE LA MANCHA, DE CUYO NOMBRE NO QUIERO ACORDARME, NO HA MUCHO TIEMPO QUE VIV\u00edA UN HIDALGO\nDE LOS DE LANZA EN ASTILLERO, ADARGA ANTIGUA, ROC\u00edN FLACO Y GALGO CORREDOR. UNA OLLA DE ALGO M\u00e1S VACA QUE CARNERO, \nSALPIC\u00f3N LAS M\u00e1S NOCHES, DUELOS Y QUEBRANTOS LOS S\u00e1BADOS, LENTEJAS LOS VIERNES, ALG\u00faN PALOMINO DE A\u00f1ADIDURA LOS \nDOMINGOS, CONSUM\u00edAN LAS TRES PARTES DE SU HACIENDA.\naBcDeFgHiJkLmN\u00d1OpQrStUvWxYz\n"
      }
     ],
     "prompt_number": 30
    },
    {
     "cell_type": "markdown",
     "metadata": {},
     "source": "#Gesti\u00f3n de listas "
    },
    {
     "cell_type": "markdown",
     "metadata": {},
     "source": "# Gesti\u00f3n de diccionarios\n"
    },
    {
     "cell_type": "markdown",
     "metadata": {},
     "source": "# Funciones"
    },
    {
     "cell_type": "code",
     "collapsed": false,
     "input": "",
     "language": "python",
     "metadata": {},
     "outputs": []
    }
   ],
   "metadata": {}
  }
 ]
}