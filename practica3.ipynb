{
 "metadata": {
  "name": "practica3"
 },
 "nbformat": 3,
 "nbformat_minor": 0,
 "worksheets": [
  {
   "cells": [
    {
     "cell_type": "markdown",
     "metadata": {},
     "source": "# Pr\u00e1ctica 3\n\nLa pr\u00e1ctica consiste en tres peque\u00f1os ejercicios en los deber\u00e9is demostrar que hab\u00e9is entendido el funcionamiento y manejo de los tipos y las estructuras de datos que hemos visto en clase.\n\nPara completar la pr\u00e1ctica, a\u00f1ade y/o modifica c\u00f3digo en las celdas correspondientes. Ejecuta cada celda las veces que sea necesario y comprueba que hace lo que se pide en cada ejercicio.\n\n\n## Ejercicio 1. \n\nCrea una variable llamada `edad` y as\u00edgnale el valor aproximado de tu edad con un n\u00famero real (n\u00famero con decimales). No es necesario que ajustes mucho, pero si tienes 25 a\u00f1os y medio, as\u00edgnale el valor de *25,5*. Si cumples 23 el mes que viene, as\u00edgnale el valor *22,9*. \n\nCalcula el n\u00famero de lustros, d\u00edas, horas, minutos y segundos que llevas entre nosotros e imprime todas las cantidades por pantalla. Para simplificar, asume que los a\u00f1os bisiextos no existen."
    },
    {
     "cell_type": "code",
     "collapsed": false,
     "input": "",
     "language": "python",
     "metadata": {},
     "outputs": []
    },
    {
     "cell_type": "markdown",
     "metadata": {},
     "source": "## Ejercicio 2\n\nCrea una lista llamada `meses` que contenga los nombres de los 12 meses del a\u00f1o.\n\n1. Imprime por pantalla el primer mes del a\u00f1o y el \u00faltimo.\n2. Imprime por pantalla los meses del segundo trimestre.\n3. Reasigna el valor del s\u00e9ptimo elemento: cambia su valor de *julio* a *july*.   "
    },
    {
     "cell_type": "code",
     "collapsed": false,
     "input": "",
     "language": "python",
     "metadata": {},
     "outputs": []
    },
    {
     "cell_type": "markdown",
     "metadata": {},
     "source": "## Ejercicio 3\n\nLa variable `mensajes` es una lista de diccionarios que contienen informaci\u00f3n sobre los mensajes de m\u00f3vil que he mandado hoy. F\u00edjate en c\u00f3mo est\u00e1 definida para entender la estructura:\n\nA\u00f1ade las l\u00edneas de c\u00f3digo necesarias en la pr\u00f3xima celda para:\n\n1. Imprimir por pantalla el tel\u00e9fono destinatario del segundo sms.\n2. Imprimir por pantalla el nombre del primer fichero adjunto del segundo sms.\n3. Reasignar el valor de la clave `hora` del \u00faltimo mensaje."
    },
    {
     "cell_type": "code",
     "collapsed": false,
     "input": "# defino varios una lista formada por varios diccionarios con la informaci\u00f3n de los mensajes que he escrito hoy\nmensajes = []\nmensajes.append({\"destinatario\": \"+34677443322\", \"hora\":\"9:02\", \"texto\":\"ya he llegado, \u00bfd\u00f3nde est\u00e1s?\", \"adjuntos\": []})\nmensajes.append({\"destinatario\": \"+16265552233\", \"hora\":\"11:12\", \"texto\":\"Hi! Check this out.\", \"adjuntos\": [\"pic233.jpg\", \"pic234.jpg\"]})\nmensajes.append({\"destinatario\": \"+34623679000\", \"hora\":\"13:02\", \"texto\":\"esp\u00e9rame, ahora mismo bajo\", \"adjuntos\": []})\nmensajes.append({\"destinatario\": \"+34623679000\", \"hora\":\"13:03\", \"texto\":\"s\u00ed, yo tambi\u00e9n tengo hambre\", \"adjuntos\": []})\n\n# a\u00f1ade a continuaci\u00f3n las l\u00edneas de c\u00f3digo que necesites\n",
     "language": "python",
     "metadata": {},
     "outputs": []
    }
   ],
   "metadata": {}
  }
 ]
}