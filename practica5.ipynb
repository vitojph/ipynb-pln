{
 "metadata": {
  "name": "pr\u00e1ctica5"
 },
 "nbformat": 3,
 "nbformat_minor": 0,
 "worksheets": [
  {
   "cells": [
    {
     "cell_type": "markdown",
     "metadata": {},
     "source": [
      "# Pr\u00e1ctica 5\n",
      "\n",
      "## Ejercicio 1\n",
      "\n",
      "En este primer ejercicio vamos a jugar con el corpus de Brown para buscar sustantivos que sean palabras excepcionalmente largas. Antes de nada, ejecuta la siguiente celda para acceder al corpus desde NLTK:"
     ]
    },
    {
     "cell_type": "code",
     "collapsed": false,
     "input": [
      "from nltk.corpus import brown"
     ],
     "language": "python",
     "metadata": {},
     "outputs": []
    },
    {
     "cell_type": "markdown",
     "metadata": {},
     "source": [
      "Carga en una variable llamada `text` la lista de palabras etiquetadas de los textos sobre noticias (*news*) del Corpus de Brown. Recorre dicha lista e imprime por pantalla solo las palabras simples etiquetadas como sustantivos que tengan al menos 16 letras de longitud.\n",
      "\n",
      "\n",
      "**PISTAS**: El m\u00e9todo `.tagged_words()` te ayudar\u00e1 a acceder a las palabras etiquetadas del corpus. Revisa [el listado de etiquetas del Corpus de Brown](http://www.comp.leeds.ac.uk/ccalas/tagsets/brown.html) para confirmar qu\u00e9 etiquetas se refieren a sustantivos. Con palabras simples me refiero a palabras que no provengan de la concatenaci\u00f3n con guiones de otras palabras simples. Evita, por lo tanto, palabras como *air-conditioning* o *rookie-of-the-year*."
     ]
    },
    {
     "cell_type": "code",
     "collapsed": false,
     "input": [
      "# escribe tu c\u00f3digo aqu\u00ed\n"
     ],
     "language": "python",
     "metadata": {},
     "outputs": []
    },
    {
     "cell_type": "markdown",
     "metadata": {},
     "source": [
      "## Ejercicio 2\n",
      "\n",
      "En este ejercicio vamos a necesitar acceder a Wordnet desde NLTK. Antes de nada, ejecuta la\n",
      "siguiente l\u00ednea.\n",
      "from nltk.corpus import wordnet as wn\n",
      "\n",
      "\n",
      "\n"
     ]
    },
    {
     "cell_type": "code",
     "collapsed": false,
     "input": [
      "from nltk.corpus import wordnet as wn"
     ],
     "language": "python",
     "metadata": {},
     "outputs": []
    },
    {
     "cell_type": "markdown",
     "metadata": {},
     "source": [
      "La palabra *driver* es polis\u00e9mica en ingl\u00e9s. Busca todos los synsets de driver y qu\u00e9date solo con el sentido referido a *conductor de veh\u00edculo a motor*. A partir de este synset, imprime por pantalla la informaci\u00f3n de todos los tipos de conductor que haya, es decir, imprime los lemas y las definiciones de todos los synsets hip\u00f3nimos para este sentido de *driver*."
     ]
    },
    {
     "cell_type": "code",
     "collapsed": false,
     "input": [
      "# escribe tu c\u00f3digo aqu\u00ed\n"
     ],
     "language": "python",
     "metadata": {},
     "outputs": []
    }
   ],
   "metadata": {}
  }
 ]
}