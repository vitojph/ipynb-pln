{
 "metadata": {
  "name": "intro-control-fujo"
 },
 "nbformat": 3,
 "nbformat_minor": 0,
 "worksheets": [
  {
   "cells": [
    {
     "cell_type": "markdown",
     "metadata": {},
     "source": [
      "# Control de flujo\n",
      "\n",
      "Hasta ahora hemos programado en Python intrucciones sencillas que solo ten\u00edan en cuenta una posibilidad. No evalu\u00e1bamos nada, simplemente d\u00e1bamos \u00f3rdenes y Python obedec\u00eda. Como mucho, cuando comet\u00edamos alg\u00fan error de sintaxis, Python se quejaba, sin m\u00e1s. \n",
      "\n",
      "A partir de ahora vamos a aprender a manejar el **control de flujo**. Vamor a tener en cuenta resultados m\u00faltiples y vamos a seleccionar uno concreto dependiendo del valor que tengan las variables o de lo que est\u00e9 ocurriendo en el programa en un momento concreto.\n",
      "\n",
      "## Comparadores\n",
      "\n",
      "Los elementos m\u00e1s sencillos del control de flujo son los **comparadores**:\n",
      "\n",
      "- Igual a `==`.\n",
      "- No es igual a `!=`.\n",
      "- Menor que `<`.\n",
      "- Menor o igual que `<=`.\n",
      "- Mayor que `>`.\n",
      "- Mayor o igual que `>=`.\n",
      "\n",
      "\u00a1OJO! No confundas el comparador de igualdad `==` con el s\u00edmbolo `=` que utilizamos para asignar valores a variables.\n",
      "\n",
      "Cuando utilizamos un comparador para comparar dos expresiones, el resultado que nos devuelve la comparaci\u00f3n es un valor booleano: `True` o `False`."
     ]
    },
    {
     "cell_type": "code",
     "collapsed": false,
     "input": [
      "# asignamos unos cuantos valores a variables\n",
      "numero1 = 2\n",
      "numero2 = 34\n",
      "\n",
      "print numero1 == numero2\n",
      "print numero1 != numero2\n",
      "print numero1 == numero1\n",
      "\n",
      "print numero2 <= 10\n",
      "\n",
      "print 19 >= (10 * numero1)"
     ],
     "language": "python",
     "metadata": {},
     "outputs": []
    },
    {
     "cell_type": "markdown",
     "metadata": {},
     "source": [
      "## Condicionales\n",
      "\n",
      "En Python podemos evaluar **condiciones** con la intrucci\u00f3n `if`. `if` forma lo que se denomina un **bloque de c\u00f3digo**, que tiene una sintaxis particular:\n",
      "\n",
      "    if COMPARACI\u00d3N:\n",
      "        # si la comparaci\u00f3n es True, ejecuta lo siguiente\n",
      "        INSTRUCCIONES_1\n",
      "\n",
      "\n",
      "F\u00edjate bien en dos cosas:\n",
      "\n",
      "- los bloques de c\u00f3digo comienzan cuando una instrucci\u00f3n termina en dos puntos `:`\n",
      "- el c\u00f3digo dentro del bloque aparece indentado o sangrado. \n",
      "\n",
      "Esta indentaci\u00f3n se introduce pulsando el tabulador o tecleando espacios (habitualmente, cuatro espacios). Es muy importante mantener correctamente alineadas las instrucciones que aparecen dentro del mismo bloque de c\u00f3digo. De lo contrario, podemos encontrar un error de sintaxis."
     ]
    },
    {
     "cell_type": "code",
     "collapsed": false,
     "input": [
      "nombre = \"V\u00edctor\"\n",
      "\n",
      "if nombre == \"V\u00edctor\":\n",
      "    print \"\u00a1Hey! Te llamas igual que yo.\" "
     ],
     "language": "python",
     "metadata": {},
     "outputs": []
    },
    {
     "cell_type": "code",
     "collapsed": false,
     "input": [
      "if 10 == 5*2:\n",
      "    print \"10 es igual a 5 veces 2\""
     ],
     "language": "python",
     "metadata": {},
     "outputs": []
    },
    {
     "cell_type": "markdown",
     "metadata": {},
     "source": [
      "Podemos evaluar condiciones m\u00e1s complejas definiciendo por ejemplo una alternativa cuando el resultado de la comparaci\u00f3nn era `False`. Para ello, usamos instrucciones del tipo `if-else`, con la siguiente sintaxis:\n",
      "\n",
      "    if COMPARACI\u00d3N:\n",
      "        # si la comparaci\u00f3n es True, ejecuta lo siguiente\n",
      "        INSTRUCCIONES_1\n",
      "    else:\n",
      "        # por el contrario, si la comparaci\u00f3n es False, ejecuta\n",
      "        INSTRUCCIONES_2"
     ]
    },
    {
     "cell_type": "code",
     "collapsed": false,
     "input": [
      "# prueba cambiando el valor asignado a la variable edad\n",
      "edad = 40\n",
      "\n",
      "if edad >= 65:\n",
      "    print \"\u00a1Enhorabuena, est\u00e1s jubilado!\"    \n",
      "else:\n",
      "    print \"Deber\u00edas estar trabajando, si te dejan.\"    "
     ],
     "language": "python",
     "metadata": {},
     "outputs": []
    },
    {
     "cell_type": "markdown",
     "metadata": {},
     "source": [
      "Por \u00faltimo, podemos evaluar distintas condiciones con instrucciones del tipo `if-elif-else`, con la siguiente sintaxis:\n",
      "\n",
      "    if COMPARACI\u00d3N1:\n",
      "        # si la comparaci\u00f3n es True, ejecuta lo siguiente\n",
      "        INSTRUCCIONES_1\n",
      "    elif COMPARACI\u00d3N2:\n",
      "        # si esta comparaci\u00f3n es True, ejecuta lo siguiente\n",
      "        INSTRUCCIONES_2\n",
      "    else:\n",
      "        # por el contrario, si ninguna comparaci\u00f3n es True, ejecuta\n",
      "        INSTRUCCIONES_3\n",
      "\n",
      "Piensa en `elif` como en una abreviatura de `else + if`."
     ]
    },
    {
     "cell_type": "code",
     "collapsed": false,
     "input": [
      "# prueba cambiando el valor asignado a la variable edad\n",
      "temperatura = 22\n",
      "\n",
      "if temperatura <= 0: \n",
      "    print \"\u00a1Est\u00e1 helando!\"\n",
      "elif 1 <= temperatura <= 10:\n",
      "    print \"\u00a1Hace frescuni!\"\n",
      "elif 11 <= temperatura <= 25:\n",
      "    print \"\u00a1Ya es primavera!\"\n",
      "else:\n",
      "    print \"\u00a1Buff, qu\u00e9 calor!\"    "
     ],
     "language": "python",
     "metadata": {},
     "outputs": []
    },
    {
     "cell_type": "markdown",
     "metadata": {},
     "source": [
      "## Operadores l\u00f3gicos (o booleanos)\n",
      "\n",
      "Los operadores l\u00f3gicos son palabras usadas para conectar *oraciones* de Python de forma gramaticalmente correcta, casi igual que si lo hici\u00e9samos en lenguaje natural. Existen tres operadores l\u00f3gicos:\n",
      "\n",
      "- la conjunci\u00f3n `and`: \n",
      "- la disyunci\u00f3n `or`.\n",
      "- la negaci\u00f3n `not`.\n",
      "\n",
      "Al igual que con las comparaciones, los operadores l\u00f3gicos generan valores booleanos: `True` o `False`."
     ]
    },
    {
     "cell_type": "code",
     "collapsed": false,
     "input": [
      "nombre = \"Pepe\"\n",
      "edad = 34\n",
      "\n",
      "if nombre == \"V\u00edctor\" and edad == 34:\n",
      "    print \"\u00a1Hey! \u00a1Eres yo!\"\n",
      "elif nombre == \"V\u00edctor\" or edad == 34:\n",
      "    print \"Te pareces a m\u00ed en algo.\"\n",
      "if not nombre == \"V\u00edctor\" and not edad == 34: # esto es equivalente a if nombre != \"V\u00edctor\" and edad != 34:\n",
      "    print \"No tienes nada que ver conmigo\""
     ],
     "language": "python",
     "metadata": {},
     "outputs": []
    },
    {
     "cell_type": "code",
     "collapsed": false,
     "input": [
      "alumnos = \"Pepito:Raul:Ana:Antonio:Maria\".split(\":\")\n",
      "print alumnos"
     ],
     "language": "python",
     "metadata": {},
     "outputs": []
    },
    {
     "cell_type": "code",
     "collapsed": false,
     "input": [
      "if \"Paco\" in alumnos and \"Ana\" in alumnos:\n",
      "    print \"Paco y Ana est\u00e1n en clase.\"\n",
      "else:\n",
      "    print \"No es cierto que Paco y Ana est\u00e9n en clase\""
     ],
     "language": "python",
     "metadata": {},
     "outputs": []
    },
    {
     "cell_type": "code",
     "collapsed": false,
     "input": [
      "if \"Paco\" in alumnos or \"Ana\" in alumnos:\n",
      "    print \"Paco o Ana, uno de los dos o ambos, est\u00e1 en clase.\"\n",
      "else:\n",
      "    print \"No ha venido ninguno\""
     ],
     "language": "python",
     "metadata": {},
     "outputs": []
    },
    {
     "cell_type": "code",
     "collapsed": false,
     "input": [],
     "language": "python",
     "metadata": {},
     "outputs": []
    }
   ],
   "metadata": {}
  }
 ]
}