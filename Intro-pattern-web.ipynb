{
 "metadata": {
  "name": "Intro-pattern-web"
 },
 "nbformat": 3,
 "nbformat_minor": 0,
 "worksheets": [
  {
   "cells": [
    {
     "cell_type": "markdown",
     "metadata": {},
     "source": [
      "# `pattern.web`: m\u00f3dulo para interactuar con buscadores y redes sociales\n",
      "\n",
      "[pattern](http://www.clips.ua.ac.be/pages/pattern) es otro conjunto de herramientas (librer\u00eda) muy interesante para realizar procesamiento del lenguaje con Python. En esta presentaci\u00f3n voy a centrarme en algunas de sus funcionalidades que tienen el m\u00f3dulo [`pattern.web`](http://www.clips.ua.ac.be/pages/pattern-web).\n",
      "\n",
      "`pattern.web` integra varias herramientas para realizar miner\u00eda de datos en la web (*online data mining*). Lo que m\u00e1s nos puede interesar es c\u00f3mo interactuar con buscadores web: es decir, c\u00f3mo usar Google, Bing, Yahoo, Twitter, Wikipedia, Flickr, etc. y como usar redes sociales como Facebook y Twitter desde Python.\n",
      "\n",
      "Lo primero que necesitamos hacer es importar [las herramientas del m\u00f3dulo `pattern.web`](http://www.clips.ua.ac.be/pages/pattern-web#services) que vamos a usar."
     ]
    },
    {
     "cell_type": "code",
     "collapsed": false,
     "input": [
      "from pattern.web import Google, Bing, Wikipedia, Twitter, Facebook, plaintext\n",
      "import time"
     ],
     "language": "python",
     "metadata": {},
     "outputs": [],
     "prompt_number": 1
    },
    {
     "cell_type": "markdown",
     "metadata": {},
     "source": [
      "## Interactuar con buscadores\n",
      "\n",
      "Podemos usar `pattern.web` para interactuar directamente con algunos buscadores web. \n",
      "\n",
      "Todos funcionan de manera similar: creamos un tipo de objeto diferente para cada buscador y podemos realizar b\u00fasquedas (con distintas opciones) a trav\u00e9s de un m\u00e9todo llamado `.search()`. Dicho m\u00e9todo nos permite lanzar una busqueda, especificada como una cadena de texto y recuperar una *lista de resultados* sobre la que podemos iterar para acceder al t\u00edtulo, la URL, el resumen de la web de destino, etc.\n",
      "\n",
      "Veamos algunos ejemplos."
     ]
    },
    {
     "cell_type": "code",
     "collapsed": false,
     "input": [
      "# buscamos con Google Search\n",
      "google = Google(license=None, language=None) # no especificamos idioma de b\u00fasqueda\n",
      "resultados = google.search(\"ucm\") \n",
      "for resultado in resultados:\n",
      "    print resultado.title, \"->\", resultado.url\n",
      "    print plaintext(resultado.text), \"\\n\""
     ],
     "language": "python",
     "metadata": {},
     "outputs": [
      {
       "output_type": "stream",
       "stream": "stdout",
       "text": [
        "University of Central Missouri -> http://www.ucmo.edu/\n",
        "Street Address: WDE 1400, Warrensburg, MO 64093. The University of Central Missouri is a four-year comprehensive university located 35 miles from suburban ... \n",
        "\n",
        "UCM - Wikipedia, the free encyclopedia -> http://en.wikipedia.org/wiki/UCM\n",
        "UCM may refer to: [edit] Educational institutions. University College Maastricht, a liberal arts and sciences college in Maastricht, the Netherlands and part of ... \n",
        "\n",
        "Contact UCM : University of Central Missouri -> http://www.ucmo.edu/contact/\n",
        "Contact UCM. You can contact us by mail, phone, or email. General contact information is: University of Central Missouri Warrensburg, Missouri 64093 ... \n",
        "\n",
        "United Community Ministries -> http://www.ucmagency.org/\n",
        "Social service agency's mission, programs, events, how to help, news, FAQs, and contact information. \n",
        "\n",
        "University of California, Merced -> http://www.ucmerced.edu/\n",
        "The first new American research university in the 21st century, with a mission of research, teaching and service. University of California, Merced 5200 North Lake ... \n",
        "\n",
        "Twitter / Search - #ucm -> https://twitter.com/search?q=%23ucm\n",
        "The latest and best tweets on #ucm. Read what people are saying and join the conversation. \n",
        "\n",
        "UCM, Inc. -> http://www.ucminc.net/\n",
        "Kolortrax UCM, Inc. Home \u00b7 View Our Inventory \u00b7 Online Auctions \u00b7 Products & Services \u00b7 Kolortrax \u00b7 Location / Contact Us. Equipment. Welcome to Used ... \n",
        "\n",
        "United Contractors Midwest \u2014 Road Construction, Asphalt, -> http://www.ucm.biz/\n",
        "United Contractors Midwest, Inc. is one of the largest and most proficient construction companies in the Midwest. From asphalt and concrete paving to earthwork, ... \n",
        "\n",
        "Abita Mystery House and the UCM Museum in Abita Springs Louisiana -> http://ucmmuseum.com/\n",
        "New Orleans North, St. Tammany Parish Louisiana folk art museum and Abita Mystery House in Abita Springs. \n",
        "\n",
        "UCM | Home -> http://www.ucmathens.org/\n",
        "United Campus Ministry: Center for Spiritual Growth and Social Justice at Ohio University. A nonprofit organization guided by socially progressive and interfaith ... \n",
        "\n"
       ]
      }
     ],
     "prompt_number": 2
    },
    {
     "cell_type": "code",
     "collapsed": false,
     "input": [
      "# buscamos con Google Search, esta vez restringiendo la b\u00fasqueda a webs en espa\u00f1ol\n",
      "google_es = Google(license=None, language=\"es\")\n",
      "resultados = google_es.search(\"ucm\")\n",
      "for resultado in resultados:\n",
      "    print resultado.title, \"->\", resultado.url\n",
      "    print plaintext(resultado.text), \"\\n\""
     ],
     "language": "python",
     "metadata": {},
     "outputs": [
      {
       "output_type": "stream",
       "stream": "stdout",
       "text": [
        "Universidad Complutense de Madrid: UCM -> http://www.ucm.es/\n",
        "La Universidad Complutense de Madrid es una instituci\u00f3n de larga trayectoria y amplio reconocimiento social que aspira a situarse entre las primeras ... \n",
        "\n",
        "Universidad Cat\u00f3lica del Maule | UCM Talca | Carreras acreditadas ... -> http://www.ucm.cl/\n",
        "P\u00e1gina principal de esta universidad p\u00fablica ubicada en Talca. Informaci\u00f3n acad\u00e9mica e institucional. \n",
        "\n",
        "Campus Virtual. Universidad Complutense de Madrid -> http://www.ucm.es/campusvirtual\n",
        "Acceso al Campus Virtual Integrado de la Universidad Complutense de Madrid. \n",
        "\n",
        "BUCM :: Biblioteca Universidad Complutense de Madrid -> http://biblioteca.ucm.es/\n",
        "Presentaci\u00f3n, directorio de bibliotecas sat\u00e9lites, noticias, novedades bibliogr\u00e1ficas, acceso en l\u00ednea a bases de datos y cat\u00e1logos. \n",
        "\n",
        "Correo electr\u00f3nico - Webmail - Universidad Complutense de Madrid -> http://www.ucm.es/?a=menu&d=men00316\n",
        "Universidad Complutense de Madrid - Campus de Excelencia Internacional. \n",
        "\n",
        "Twitter / Search - #ucm -> https://twitter.com/search?q=%23ucm\n",
        "The latest and best tweets on #ucm. Read what people are saying and join the conversation. \n",
        "\n",
        "UCM -> http://www.ucm.com.uy/\n",
        "Compa\u00f1\u00eda de atenci\u00f3n m\u00e9dica extra-hospitalaria en Montevideo Uruguay. \n",
        "\n",
        "Universidad Complutense - Universidad Complutense de Madrid -> http://pendientedemigracion.ucm.es/centros/webs/en/\n",
        "UCM. Universidad Complutense de Madrid \u00b7 Universidad Complutense de Madrid. Login (authenticate) \u00b7 The Complutense University \u00b7 Moncloa Campus. \n",
        "\n",
        "UCM-Universidad Complutense de Madrid -> http://www.coie.ucm.es/\n",
        "La Universidad Complutense de Madrid es una instituci\u00f3n de larga trayectoria y amplio reconocimiento social que aspira a situarse entre las primeras ... \n",
        "\n",
        "Facultad de Inform\u00e1tica - Universidad Complutense de Madrid -> http://www.fdi.ucm.es/\n",
        "Facultad de Inform\u00e1tica - Universidad Complutense de Madrid. \n",
        "\n"
       ]
      }
     ],
     "prompt_number": 3
    },
    {
     "cell_type": "code",
     "collapsed": false,
     "input": [
      "# buscamos con Bing\n",
      "bing = Bing(license=None, language=None)\n",
      "resultados = bing.search(\"ucm\")\n",
      "for resultado in resultados:\n",
      "    print resultado.title, \"->\", resultado.url\n",
      "    print plaintext(resultado.text), \"\\n\""
     ],
     "language": "python",
     "metadata": {},
     "outputs": [
      {
       "output_type": "stream",
       "stream": "stdout",
       "text": [
        "UCM-Universidad Complutense de Madrid -> http://www.ucm.es/\n",
        "La Universidad Complutense de Madrid es una instituci\u00f3n de larga trayectoria y amplio reconocimiento social que aspira a situarse entre las primeras universidades de ... \n",
        "\n",
        "University of Central Missouri Athletics -> http://www.ucmathletics.com/\n",
        "Official site of the Mules and Jennies with pictures, rosters, news items, schedules, and results. \n",
        "\n",
        "About UCM : University of Central Missouri -> http://www.ucmo.edu/about/\n",
        "Experience \"Learning to a Greater Degree\" at UCM. The cornerstones of UCM are innovative academics, engaging programs, servant-leadership opportunities and global ... \n",
        "\n",
        "University of Central Missouri -> http://www.ucmo.edu/academics/\n",
        "Academics. UCM values lifelong learning. The University of Central Missouri's commitment to continuous learning allows students to find their own sense of purpose and ... \n",
        "\n",
        "United Community Ministries -> http://www.ucmagency.org/\n",
        "United Community Ministries (UCM) is one of the largest providers of human services in Fairfax County. UCM builds strong families and strong communities by providing: \n",
        "\n",
        "UCM Course Management Gateway -> http://courses.ucmo.edu/\n",
        "Announcement: Our Bb platform will be offline Tuesday 5/14 from 2:00 PM to approximately 2:00 PM Wednesday 5/15 for a system upgrade. We recommend that you have your ... \n",
        "\n",
        "Library Services @ UCM -> http://library.ucmo.edu/\n",
        "Oversees the John C. Kirkpatrick Library, the Department of Library Science, and university media services. \n",
        "\n",
        "University of Central Missouri -> http://www.ucmo.edu/current.cfm\n",
        "Engaged Learning. Max Whitsell capitalized on his opportunities in UCM's athletic training department and was chosen to attend the 2013 iLead Conference. \n",
        "\n",
        "Complutense University of Madrid :: Universidad Complutense de Madrid -> http://pendientedemigracion.ucm.es/centros/webs/en/\n",
        "Complutense University of Madrid Universidad Complutense de Madrid Ciudad Universitaria - 28040 Madrid Tel. +34 914520400 informacion@ucm.es \n",
        "\n",
        "UCM | Home -> http://ucmathens.org/\n",
        "United Campus Ministry: Center for Spiritual Growth and Social Justice at Ohio University. A nonprofit organization guided by socially progressive and interfaith values. \n",
        "\n"
       ]
      }
     ],
     "prompt_number": 4
    },
    {
     "cell_type": "code",
     "collapsed": false,
     "input": [
      "# buscamos en las noticias de Bing\n",
      "resultados = bing.search(\"ucm\", type=\"news\")\n",
      "for resultado in resultados:\n",
      "    print resultado.title, \"->\", resultado.url\n",
      "    print plaintext(resultado.text), \"\\n\""
     ],
     "language": "python",
     "metadata": {},
     "outputs": [
      {
       "output_type": "stream",
       "stream": "stdout",
       "text": [
        "UCM Short Duration Fund Crosses $40 Million Milestone on Strong Performance -> http://www.sacbee.com/2013/05/09/5408043/ucm-short-duration-fund-crosses.html\n",
        "Performance data quoted represents past performance and is no guarantee of future results. Current performance may be lower or higher than the performance data quoted. Investment return and principal value will fluctuate so that an investor's ... \n",
        "\n",
        "UCM donates solar street light -> http://e-pao.net/ge.asp?heading=14&mx=&src=170513\n",
        "Imphal, May 16 2013: As part of its effort to light up interior areas where electric power supply is not adequate, United Committee Manipur (UCM) donated solar street lights to Kasom Khunou village of Ukhrul district today. A UCM team led by its general ... \n",
        "\n",
        "UCM Art Center Gallery hosts Annual Mid-Mo Artists Exhibit -> http://sedalianewsjournal.com/2013/05/13/ucm-art-center-gallery-hosts-annual-mid-mo-artists-exhibit/\n",
        "WARRENSBURG (May 9, 2013) \u2013 The University of Central Missouri Gallery of Art and Design will host two exhibitions beginning May 18 and continuing through June 22. In the Main Gallery, the Mid-Missouri Artists will present their annual exhibition. \n",
        "\n",
        "A dozen UCM athletes selected for NCAA Track & Field Championships -> http://digitalburg.com/?p=8027\n",
        "(INDIANAPOLIS, Ind.) \u2013 Twelve UCM athletes earned berths into the upcoming NCAA Division II Outdoor Track & Field Championships after successful performances throughout the regular season. A total of 10 individual entries and one relay team will compete ... \n",
        "\n",
        "UCM Short Duration Fund Crosses $40 Million Milestone on Strong Performance -> http://finance.yahoo.com/news/ucm-short-duration-fund-crosses-170500524.html\n",
        "NEW YORK, May 9, 2013 /PRNewswire/ -- The UCM Short Duration Fund has grown to more than $40 million in assets as of April 30, 2013 on the strength of strong absolute and relative performance. The mutual fund, launched by UCM Partners on ... \n",
        "\n"
       ]
      }
     ],
     "prompt_number": 5
    },
    {
     "cell_type": "markdown",
     "metadata": {},
     "source": [
      "## Wikipedia\n",
      "\n",
      "Podemos buscar en Wikipedia para recuperar un determinado art\u00edculo. En este caso, el m\u00e9todo `.search()` no devuelve una lista de resultados, sino un \u00fanico objeto **art\u00edculo**. Desde este objeto podemos acceder al t\u00edtulo, las secciones y el t\u00edtulo, pero tambi\u00e9n los enlaces y las categor\u00edas dentro de la que est\u00e1 clasificado.\n",
      "\n",
      "Veamos un ejemplo con la p\u00e1gina sobre [Procesamiento del Lenguaje Natural en la wikipedia espa\u00f1ola](http://es.wikipedia.org/wiki/Procesamiento_del_lenguaje_natural)."
     ]
    },
    {
     "cell_type": "code",
     "collapsed": false,
     "input": [
      "# buscamos un art\u00edculo de Wikipedia en espa\u00f1ol\n",
      "wikipedia_es = Wikipedia(license=None, language=\"es\")\n",
      "articulo = wikipedia_es.search(\"procesamiento del lenguaje natural\")\n",
      "\n",
      "print \"T\u00cdTULO:\", articulo.title, \"\\n\"\n",
      "print \"TEXTO:\", articulo.string[:1000], \"... \\n\"\n",
      "\n",
      "print \"SECCIONES: \", \n",
      "for seccion in articulo.sections:\n",
      "    print seccion, \n",
      "\n",
      "print \"\\n\\nCATEGOR\u00cdAS:\"\n",
      "for categoria in articulo.categories:\n",
      "    print \"-\", categoria"
     ],
     "language": "python",
     "metadata": {},
     "outputs": [
      {
       "output_type": "stream",
       "stream": "stdout",
       "text": [
        "T\u00cdTULO: Procesamiento de lenguajes naturales \n",
        "\n",
        "TEXTO: El Procesamiento de Lenguajes Naturales \u2014abreviado PLN, o NLP del idioma ingl\u00e9s Natural Language Processing\u2014 es una subdisciplina de la Inteligencia Artificial y la rama ingenieria de la ling\u00fc\u00edstica computacional. El PLN se ocupa de la formulaci\u00f3n e investigaci\u00f3n de mecanismos eficaces computacionalmente para la comunicaci\u00f3n entre personas o entre personas y m\u00e1quinas por medio de lenguajes naturales. El PLN no trata de la comunicaci\u00f3n por medio de lenguajes naturales de una forma abstracta, sino de dise\u00f1ar mecanismos para comunicarse que sean eficaces computacionalmente \u2014que se puedan realizar por medio de programas que ejecuten o simulen la comunicaci\u00f3n\u2014. Los modelos aplicados se enfocan no s\u00f3lo a la comprensi\u00f3n del lenguaje de por s\u00ed, sino a aspectos generales cognitivos humanos y a la organizaci\u00f3n de la memoria. El lenguaje natural sirve s\u00f3lo de medio para estudiar estos fen\u00f3menos.\n",
        "\n",
        "Historia [editar]\n",
        "\n",
        "El Procesamiento del Lenguaje Natural (PLN) es una de las piedras angulares tempra ... \n",
        "\n",
        "SECCIONES:  WikipediaSection(title='Procesamiento de lenguajes naturales') WikipediaSection(title='Historia') WikipediaSection(title='Dificultades en el procesamiento de lenguajes naturales') WikipediaSection(title='Ambig\u00fcedad') WikipediaSection(title='Detecci\u00f3n de separaci\u00f3n entre las palabras') WikipediaSection(title='Recepci\u00f3n imperfecta de datos') WikipediaSection(title='Componentes') WikipediaSection(title='Aplicaciones') WikipediaSection(title='V\u00e9ase tambi\u00e9n') WikipediaSection(title='Soluciones comerciales y comparativas tecnol\u00f3gicas') WikipediaSection(title='Enlaces externos') \n",
        "\n",
        "CATEGOR\u00cdAS:\n",
        "- Procesamiento_de_lenguaje_natural\n",
        "- Ac\u00fastica_fon\u00e9tica\n"
       ]
      }
     ],
     "prompt_number": 6
    },
    {
     "cell_type": "markdown",
     "metadata": {},
     "source": [
      "Veamos otro ejemplo del art\u00edculo sobre [Caparezza en la Wikipedia italiana](http://it.wikipedia.org/wiki/Caparezza)."
     ]
    },
    {
     "cell_type": "code",
     "collapsed": false,
     "input": [
      "# buscamos un art\u00edculo de Wikipedia en italiano\n",
      "wikipedia_it = Wikipedia(license=None, language=\"it\")\n",
      "articulo = wikipedia_it.search(\"Caparezza\")"
     ],
     "language": "python",
     "metadata": {},
     "outputs": [],
     "prompt_number": 7
    },
    {
     "cell_type": "code",
     "collapsed": false,
     "input": [
      "for seccion in articulo.sections:\n",
      "    if seccion.title == \"Biografia\":\n",
      "        print seccion.string"
     ],
     "language": "python",
     "metadata": {},
     "outputs": [
      {
       "output_type": "stream",
       "stream": "stdout",
       "text": [
        "Biografia [modifica]\n",
        "\n",
        "Figlio di una maestra e di un operaio [3] che suonava in un gruppo musicale, Michele cominci\u00f2 a cantare da bambino. Studi\u00f2 ragioneria presso l'istituto tecnico di Molfetta, anche se avrebbe voluto fare il fumettista. Dopo il diploma decise di occuparsi di pubblicit\u00e0 e vinse una borsa di studio per l'Accademia di Comunicazione di Milano, ma ben presto abbandon\u00f2 il mondo pubblicitario per dedicarsi a tempo pieno alla musica. Caparezza si dichiara agnostico. [4]\n"
       ]
      }
     ],
     "prompt_number": 8
    },
    {
     "cell_type": "markdown",
     "metadata": {},
     "source": [
      "## Twitter\n",
      "\n",
      "Tambi\u00e9n podemos interactuar con Twitter de varias formas diferentes. Lo m\u00e1s sencillo consiste en lanza una e imprimir los mensajes por pantalla. F\u00edjate en que, en este caso, el m\u00e9todo `.search()` devuelve una lista de tweets"
     ]
    },
    {
     "cell_type": "code",
     "collapsed": false,
     "input": [
      "twitter = Twitter(license=None)\n",
      "tweets = twitter.search(\"aver biene\", count=25)\n",
      "for tweet in tweets:\n",
      "    print tweet[\"author\"], \"->\", tweet[\"text\"]"
     ],
     "language": "python",
     "metadata": {},
     "outputs": [
      {
       "output_type": "stream",
       "stream": "stdout",
       "text": [
        "alexgarciaWRC -> esta el tiempo como yo aver si la semana que biene se pone mejor ?\u00bf y yo .....\n",
        "diegoarroyo7 -> Aver si biene mi madre ya y podemos comer\n",
        "joseManuel_Gv95 -> No ayy ganaaaas de aserse de comer jjajaja aver si biene mi ermano y me ase de comer jaajajajjaaj\n",
        "charola_10 -> Aver si biene eli #FYQ\n",
        "arturito6711 -> @AnaBelenReinoso ok yo boy ablar con mi primo aver k hora biene y te digo lo k sea con un tweet tequiero y buenos dias princesa ! ;))\n",
        "cristinaaafdez -> @ivanaguado30 jo pos aver si  es verdad y biene la raxa buena yaa.. xk jopee graciaa amor luego ablms tequieroo!\n",
        "CarmenInfante5 -> Pues aver si biene los abuelo pa acerme ka radiografia\n",
        "AlbitahVargas -> Aver cuando biene porfavor! ( L )\n",
        "Mik1D -> @10FRAANN   ah pillooo   aver  aver quien cumple 15 anitos  el ano que biene ?\n",
        "ailecmoxa -> @CompaTonnyy siii jijiii una de banda la mejor cancion de banda que tengaa aver biene\n",
        "Joendy02 -> RT @medicenwinnie: Cuando Biene Aver La Otra Lo Cela Poreso El Dice Esoo...! Grr!  :/\n",
        "medicenwinnie -> Cuando Biene Aver La Otra Lo Cela Poreso El Dice Esoo...! Grr!  :/\n",
        "Lenny_starlyn -> cuando biene aver me boy para mi cel \u2665\n",
        "Joniasecas -> @JaviPrieto3 lavaaaaa ermano me quedo flipao pillao de too no llevo casi na y biene las chicas a verme veremos aver si no me queo aqui (;\n",
        "norchizara_03 -> AVER SI LA HER BIENE A X MI QUE ME ABURRRROO NECESIITOO CALLE YAAA!!\n",
        "Wey_FlacOO -> -Jajajajajaja' Ni Cuantas' Alas &amp; cuando biene aver Ni llega Ah Volar'! :D\n",
        "TomasFernandz -> RT @SwagEspe: @Roman_Gonzalez_ @TomasFernandz JAJAJA PRIMO QUE VOY EL FINDEEE QUE BIENE CON LOS ABUS te quiero primo,AVER SI OS COJO QUE OS VAIS A ENTERAR\n",
        "Roman_Gonzalez_ -> RT @SwagEspe: @Roman_Gonzalez_ @TomasFernandz JAJAJA PRIMO QUE VOY EL FINDEEE QUE BIENE CON LOS ABUS te quiero primo,AVER SI OS COJO QUE OS VAIS A ENTERAR\n",
        "SwagEspe -> @Roman_Gonzalez_ @TomasFernandz JAJAJA PRIMO QUE VOY EL FINDEEE QUE BIENE CON LOS ABUS te quiero primo,AVER SI OS COJO QUE OS VAIS A ENTERAR\n",
        "balaguer_david -> @albertocc8 io kiero ver al tio este actuar aver si en verano biene por aki cerca i vamos ;)\n",
        "delaveeco -> 25 d\u00edas quedan,aver si alguien lo lee y me hace una fiesta sorpresa y biene medio pueblo jajjaajaj\n",
        "pinto9500 -> @Pastormaldo PASTOR TIENES QUE IR MAS PENDIENTE TENDRIAS QUE ESTAR ENTRE LOS 10 PRIMERO CHAMO. MUCHOS ERRORES PANA AVER LA SEMANA QUE BIENE\n",
        "02ricardo -> Que #cruzazul no caiga en desesperacion que juege a lo que biene jugando el america jugara al balonaso y aver que hace benitez arriba\n",
        "JaviCremadesR -> RT @nachogolcina: @JaviCremadesR dios tio la semana q biene aver si paso a entrenar tio q llevo sin verte creo q 1 mes o mas, gracias maquina\n",
        "nachogolcina -> @JaviCremadesR dios tio la semana q biene aver si paso a entrenar tio q llevo sin verte creo q 1 mes o mas, gracias maquina\n"
       ]
      }
     ],
     "prompt_number": 9
    },
    {
     "cell_type": "markdown",
     "metadata": {},
     "source": [
      "Podemos acceder a los *trending topics*, es decir, los temas m\u00e1s comentados en un determinado momento:"
     ]
    },
    {
     "cell_type": "code",
     "collapsed": false,
     "input": [
      "# imprime los Trending Topic actuales \n",
      "for tt in twitter.trends(cached=False):\n",
      "    print tt"
     ],
     "language": "python",
     "metadata": {},
     "outputs": [
      {
       "output_type": "stream",
       "stream": "stdout",
       "text": [
        "#PolloNoEncontroComFatima\n",
        "#Est\u00fapidasYSensualesGanas\n",
        "#GloZellsPoo\n",
        "#CitePessoasImportantes\n",
        "#TurkishBeliebersLoveJustinsPerfectSmile\n",
        "Tony Pulis\n",
        "Pi\u00f1era\n",
        "Senate\n",
        "Xbox\n",
        "Dwight Howard\n"
       ]
      }
     ],
     "prompt_number": 10
    },
    {
     "cell_type": "markdown",
     "metadata": {},
     "source": [
      "Y a partir de estos temas candentes podemos ver en tiempo casi real los mensajes que se publican:"
     ]
    },
    {
     "cell_type": "code",
     "collapsed": false,
     "input": [
      "s = Twitter().stream(\"daft punk\")\n",
      "for i in range(10):\n",
      "    time.sleep(2) \n",
      "    s.update(bytes=1024)\n",
      "    if s:\n",
      "        print s[-1].text\n",
      "    else:\n",
      "        pass"
     ],
     "language": "python",
     "metadata": {},
     "outputs": [
      {
       "output_type": "stream",
       "stream": "stdout",
       "text": [
        "Safe to say \"Get Lucky\" by Daft Punk and Pharrell has secured a spot on my summer playlist \ud83d\ude0e\u2600\n",
        "Safe to say \"Get Lucky\" by Daft Punk and Pharrell has secured a spot on my summer playlist \ud83d\ude0e\u2600"
       ]
      },
      {
       "output_type": "stream",
       "stream": "stdout",
       "text": [
        "\n",
        "\u266b Get Lucky (feat. Pharrell Williams) - by Daft Punk #bbc #radio1xtra"
       ]
      },
      {
       "output_type": "stream",
       "stream": "stdout",
       "text": [
        "\n",
        "\u266b Get Lucky (feat. Pharrell Williams) - by Daft Punk #bbc #radio1xtra"
       ]
      },
      {
       "output_type": "stream",
       "stream": "stdout",
       "text": [
        "\n",
        "Ahora si ya tengo mi disco de Daft Punk"
       ]
      },
      {
       "output_type": "stream",
       "stream": "stdout",
       "text": [
        "\n",
        "Ahora si ya tengo mi disco de Daft Punk"
       ]
      },
      {
       "output_type": "stream",
       "stream": "stdout",
       "text": [
        "\n",
        "C'est assez dingue \u00e0 la #Fnac de Montparnasse il y a des CDs de Daft Punk partout, m\u00eame au rayon livre... Les gars sont chauds ! #RAM"
       ]
      },
      {
       "output_type": "stream",
       "stream": "stdout",
       "text": [
        "\n",
        "C'est assez dingue \u00e0 la #Fnac de Montparnasse il y a des CDs de Daft Punk partout, m\u00eame au rayon livre... Les gars sont chauds ! #RAM"
       ]
      },
      {
       "output_type": "stream",
       "stream": "stdout",
       "text": [
        "\n"
       ]
      }
     ],
     "prompt_number": 11
    },
    {
     "cell_type": "markdown",
     "metadata": {},
     "source": [
      "## Facebook\n",
      "\n",
      "Tambi\u00e9n podemos acceder a los mensajes p\u00fablicos de Facebook. Si configuramos nuestra cuenta podemos acceder a nuestra informaci\u00f3n privada y a la de nuestros contactos, de manera similar a como accemos desde la aplicaci\u00f3n m\u00f3vil o desde el navegador."
     ]
    },
    {
     "cell_type": "code",
     "collapsed": false,
     "input": [
      "fb = Facebook(license=None)\n",
      "for post in fb.search(\"Ling\u00fc\u00edstica\"):\n",
      "    print \"---------------------------------\"\n",
      "    print post.url\n",
      "    print plaintext(post.text)[:500]\n",
      "    print \"\\n\""
     ],
     "language": "python",
     "metadata": {},
     "outputs": [
      {
       "output_type": "stream",
       "stream": "stdout",
       "text": [
        "---------------------------------\n",
        "http://www.telecinco.es/informativos/sociedad/Politica-linguistica-Galicia-Lomce-ensenanza_0_1607550413.html\n",
        "http://www.telecinco.es/informativos/sociedad/Politica-linguistica-Galicia-Lomce-ensenanza_0_1607550413.html\n",
        "\n",
        "\n",
        "---------------------------------\n",
        "http://www.lemonde.fr/idees/article/2013/04/25/refusons-le-sabordage-du-francais-par-claude-hagege_3166350_3232.html\n",
        "Il progetto di legge francese Fioraso, che intende consentire l'insegnamento in lingua inglese nelle universit\u00e0 e negli studi superiori, \u00e8 pro o contro la diversit\u00e0 linguistica? Il dibattito in Francia \u00e8 accanito. In questo articolo, l'opinione di Claude Hag\u00e8ge.\n",
        "\n",
        "\n",
        "---------------------------------\n",
        "\n",
        "CARTA A MIS AMIGOS!\n",
        "Aquel d\u00eda, despu\u00e9s de muchos a\u00f1os, no se porque entre a la iglesia, no sabia que buscaba: talves ese silencio y esa calma. Entre, no me persigne como lo hace la gente, nunca lo hago. Camine hasta el centro de la iglesia, me sente, mire las im\u00e1genes, quise llorar o mejor creo que deje caer algunas lagrimas. En aquella abitaci\u00f3n solo estaba yo y aquellas im\u00e1genes que por si solas no dicen nada y Dios no lo se!, talves estaba ah\u00ed dentro, talves entro junto a mi o talves habia sa\n",
        "\n",
        "\n",
        "---------------------------------\n",
        "651417518218080\n",
        "\n",
        "\n",
        "\n",
        "---------------------------------\n",
        "\n",
        "Quiza lo que mas risa me da es quienes se preguntan que mas puedo ense\u00f1ar si ya no trabajp con Bandler...\n",
        "\n",
        "Me da risa por dos motivos:\n",
        "1. Expresa lo que ellos hacen y lo que ellos aportan. Seguramente ellos solo ofrecen una version diluida de lo que Bandler ense\u00f1a (diluida porque la misma PNL habla de distorsion y eliminacion cada vez que se usa el lenguaje -estructura superficial- por lo que ni el mismo Bandler puede transmitirles la totalidad. Y si esas personas solo ofrecen lo que RB les ense\n",
        "\n",
        "\n",
        "---------------------------------\n",
        "\n",
        "Hola\n",
        "\n",
        "Informamos el resto de la semana para 1er a\u00f1o y recursantes :\n",
        "\n",
        "La c\u00e1tedra de PSICOLOGIA CLASES NORMALES , HAY PRACTICOS Y TEORICOS\n",
        "\n",
        "LA c\u00e1tedra de LINGUISTICA CLASES NORMALES, HAY PRACTICOS Y TEOR ICOS\n",
        "\n",
        "LA C\u00e1tedra de EPISTEMOLOGIA NO HAY CLASES , SE SUSPENDE TODA LA ACTIVIDAD.\n",
        "\n",
        "\n",
        "---------------------------------\n",
        "http://www.facebook.com/photo.php?fbid=582112248477341&set=a.406076052747629.89908.402964183058816&type=1\n",
        "adoro la precisione linguistica\n",
        "\n",
        "\n",
        "---------------------------------\n",
        "http://www.iken.gr.jp/link.html\n",
        "siamo nella lista delle scuole scelte dall'Associazione Liguistica Italiana di Kyoto per la \"Prova di abilit\u00e0 linguistica d'Italiano\"!\n",
        "http://www.iken.gr.jp/link.html\n",
        "\n",
        "\n",
        "---------------------------------\n",
        "10151688495389374\n",
        "U votu nant'\u00e0 a cuufficialit\u00e0 salutatu da a reta eurupea per a diversit\u00e0 linguistica cumposta di Stati cum'\u00e8 l'Irlanda \u00e8 l'Estunia \u00e8 di grande regione eurupee cum'\u00e8 a Catalogna, u Paese Bascu o u Paese di Gallia.\n",
        "\n",
        "\n",
        "---------------------------------\n",
        "10151688495389374\n",
        "U votu nant'\u00e0 a #cuufficialit\u00e0 salutatu da a reta eurupea per a diversit\u00e0 linguistica! #corsica #corse #linguacorsa #languecorse\n",
        "\n",
        "\n"
       ]
      }
     ],
     "prompt_number": 12
    },
    {
     "cell_type": "markdown",
     "metadata": {},
     "source": [
      "## Google translate\n",
      "\n"
     ]
    },
    {
     "cell_type": "markdown",
     "metadata": {},
     "source": [
      "[Google Translate](http://translate.google.es/?hl=es) recientemente ha pasado a ser un servicio de pago y ahora no funciona salvo que [obtengamos una *license key*](https://code.google.com/apis/console/) y asociemos a nuestra cuenta una tarjeta de cr\u00e9dito. No es caro: traducir un mill\u00f3n de palabras cuesta $20. \u00bfHacemos un fondo?\n",
      "\n",
      "Llegado el caso, se puede configurar de la siguiente manera."
     ]
    },
    {
     "cell_type": "code",
     "collapsed": false,
     "input": [
      "oracion = \"El perro de San Roque no tiene rabo porque Ram\u00f3n Rodr\u00edguez se lo ha cortado\"\n",
      "google = Google(license=None) \n",
      "print google.translate(oracion, input=\"es\", output=\"en\", cached=False)\n",
      "print google.identify(oracion)"
     ],
     "language": "python",
     "metadata": {},
     "outputs": [
      {
       "ename": "HTTP401Authentication",
       "evalue": "Google translate API is a paid service",
       "output_type": "pyerr",
       "traceback": [
        "\u001b[1;31m---------------------------------------------------------------------------\u001b[0m\n\u001b[1;31mHTTP401Authentication\u001b[0m                     Traceback (most recent call last)",
        "\u001b[1;32m<ipython-input-13-40a30da78921>\u001b[0m in \u001b[0;36m<module>\u001b[1;34m()\u001b[0m\n\u001b[0;32m      1\u001b[0m \u001b[0moracion\u001b[0m \u001b[1;33m=\u001b[0m \u001b[1;34m\"El perro de San Roque no tiene rabo porque Ram\u00f3n Rodr\u00edguez se lo ha cortado\"\u001b[0m\u001b[1;33m\u001b[0m\u001b[0m\n\u001b[0;32m      2\u001b[0m \u001b[0mgoogle\u001b[0m \u001b[1;33m=\u001b[0m \u001b[0mGoogle\u001b[0m\u001b[1;33m(\u001b[0m\u001b[0mlicense\u001b[0m\u001b[1;33m=\u001b[0m\u001b[0mNone\u001b[0m\u001b[1;33m)\u001b[0m\u001b[1;33m\u001b[0m\u001b[0m\n\u001b[1;32m----> 3\u001b[1;33m \u001b[1;32mprint\u001b[0m \u001b[0mgoogle\u001b[0m\u001b[1;33m.\u001b[0m\u001b[0mtranslate\u001b[0m\u001b[1;33m(\u001b[0m\u001b[0moracion\u001b[0m\u001b[1;33m,\u001b[0m \u001b[0minput\u001b[0m\u001b[1;33m=\u001b[0m\u001b[1;34m\"es\"\u001b[0m\u001b[1;33m,\u001b[0m \u001b[0moutput\u001b[0m\u001b[1;33m=\u001b[0m\u001b[1;34m\"en\"\u001b[0m\u001b[1;33m,\u001b[0m \u001b[0mcached\u001b[0m\u001b[1;33m=\u001b[0m\u001b[0mFalse\u001b[0m\u001b[1;33m)\u001b[0m\u001b[1;33m\u001b[0m\u001b[0m\n\u001b[0m\u001b[0;32m      4\u001b[0m \u001b[1;32mprint\u001b[0m \u001b[0mgoogle\u001b[0m\u001b[1;33m.\u001b[0m\u001b[0midentify\u001b[0m\u001b[1;33m(\u001b[0m\u001b[0moracion\u001b[0m\u001b[1;33m)\u001b[0m\u001b[1;33m\u001b[0m\u001b[0m\n",
        "\u001b[1;32m/usr/local/lib/python2.7/dist-packages/pattern/web/__init__.pyc\u001b[0m in \u001b[0;36mtranslate\u001b[1;34m(self, string, input, output, **kwargs)\u001b[0m\n\u001b[0;32m   1059\u001b[0m             \u001b[0mdata\u001b[0m \u001b[1;33m=\u001b[0m \u001b[0murl\u001b[0m\u001b[1;33m.\u001b[0m\u001b[0mdownload\u001b[0m\u001b[1;33m(\u001b[0m\u001b[1;33m**\u001b[0m\u001b[0mkwargs\u001b[0m\u001b[1;33m)\u001b[0m\u001b[1;33m\u001b[0m\u001b[0m\n\u001b[0;32m   1060\u001b[0m         \u001b[1;32mexcept\u001b[0m \u001b[0mHTTP403Forbidden\u001b[0m\u001b[1;33m:\u001b[0m\u001b[1;33m\u001b[0m\u001b[0m\n\u001b[1;32m-> 1061\u001b[1;33m             \u001b[1;32mraise\u001b[0m \u001b[0mHTTP401Authentication\u001b[0m\u001b[1;33m,\u001b[0m \u001b[1;34m\"Google translate API is a paid service\"\u001b[0m\u001b[1;33m\u001b[0m\u001b[0m\n\u001b[0m\u001b[0;32m   1062\u001b[0m         \u001b[0mdata\u001b[0m \u001b[1;33m=\u001b[0m \u001b[0mjson\u001b[0m\u001b[1;33m.\u001b[0m\u001b[0mloads\u001b[0m\u001b[1;33m(\u001b[0m\u001b[0mdata\u001b[0m\u001b[1;33m)\u001b[0m\u001b[1;33m\u001b[0m\u001b[0m\n\u001b[0;32m   1063\u001b[0m         \u001b[0mdata\u001b[0m \u001b[1;33m=\u001b[0m \u001b[0mdata\u001b[0m\u001b[1;33m.\u001b[0m\u001b[0mget\u001b[0m\u001b[1;33m(\u001b[0m\u001b[1;34m\"data\"\u001b[0m\u001b[1;33m,\u001b[0m \u001b[1;33m{\u001b[0m\u001b[1;33m}\u001b[0m\u001b[1;33m)\u001b[0m\u001b[1;33m.\u001b[0m\u001b[0mget\u001b[0m\u001b[1;33m(\u001b[0m\u001b[1;34m\"translations\"\u001b[0m\u001b[1;33m,\u001b[0m \u001b[1;33m[\u001b[0m\u001b[1;33m{\u001b[0m\u001b[1;33m}\u001b[0m\u001b[1;33m]\u001b[0m\u001b[1;33m)\u001b[0m\u001b[1;33m[\u001b[0m\u001b[1;36m0\u001b[0m\u001b[1;33m]\u001b[0m\u001b[1;33m.\u001b[0m\u001b[0mget\u001b[0m\u001b[1;33m(\u001b[0m\u001b[1;34m\"translatedText\"\u001b[0m\u001b[1;33m,\u001b[0m \u001b[1;34m\"\"\u001b[0m\u001b[1;33m)\u001b[0m\u001b[1;33m\u001b[0m\u001b[0m\n",
        "\u001b[1;31mHTTP401Authentication\u001b[0m: Google translate API is a paid service"
       ]
      }
     ],
     "prompt_number": 13
    }
   ],
   "metadata": {}
  }
 ]
}