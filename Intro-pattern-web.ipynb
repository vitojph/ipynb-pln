{
 "metadata": {
  "name": "Intro-pattern-web"
 },
 "nbformat": 3,
 "nbformat_minor": 0,
 "worksheets": [
  {
   "cells": [
    {
     "cell_type": "markdown",
     "metadata": {},
     "source": [
      "# `pattern.web`: m\u00f3dulo para interactura con buscadores y redes sociales\n",
      "\n",
      "[pattern](http://www.clips.ua.ac.be/pages/pattern) es otro conjunto de herramientas (librer\u00eda) muy interesante para realizar procesamiento del lenguaje con Python. En esta presentaci\u00f3n voy a centrarme en algunas de sus funcionalidades que tienen el m\u00f3dulo [`pattern.web`](http://www.clips.ua.ac.be/pages/pattern-web).\n",
      "\n",
      "`pattern.web` integra varias herramientas para realizar miner\u00eda de datos en la web (*online data mining*). Lo que m\u00e1s nos puede interesar es c\u00f3mo interactuar con buscadores web: es decir, c\u00f3mo usar Google, Bing, Yahoo, Twitter, Wikipedia, Flickr, etc. y como usar redes sociales como Facebook y Twitter desde Python.\n",
      "\n",
      "Lo primero que necesitamos hacer es importar [las herramientas del m\u00f3dulo `pattern.web`](http://www.clips.ua.ac.be/pages/pattern-web#services) que vamos a usar."
     ]
    },
    {
     "cell_type": "code",
     "collapsed": false,
     "input": [
      "from pattern.web import Google, Bing, Wikipedia, Twitter, Facebook, plaintext\n",
      "import time"
     ],
     "language": "python",
     "metadata": {},
     "outputs": [],
     "prompt_number": 77
    },
    {
     "cell_type": "markdown",
     "metadata": {},
     "source": [
      "## Interacturar con buscadores\n",
      "\n",
      "Podemos usar `pattern.web` para interacturar directamente con algunos buscadores web. \n",
      "\n",
      "Podemos crear un tipo de objeto diferente para cada buscador y todos ellos (con distintas opciones) implementan un m\u00e9todo llamado `.search()`. Dicho m\u00e9todo nos permite lanzar una busqueda, especificada como una cadena de texto y devuelve una *lista de resultados*, sobre la que podemos iterar para acceder al t\u00edtulo, la URL, el resumen de la web de destino, etc.\n",
      "\n",
      "Veamos algunos ejemplos."
     ]
    },
    {
     "cell_type": "code",
     "collapsed": false,
     "input": [
      "# buscamos con Google Search\n",
      "google = Google(license=None, language=None)\n",
      "resultados = google.search(\"ucm\") # no especificamos idioma de b\u00fasqueda\n",
      "for resultado in resultados:\n",
      "    print resultado.title, \"->\", resultado.url\n",
      "    print plaintext(resultado.text), \"\\n\""
     ],
     "language": "python",
     "metadata": {},
     "outputs": [
      {
       "output_type": "stream",
       "stream": "stdout",
       "text": [
        "University of Central Missouri -> http://www.ucmo.edu/\n",
        "Street Address: WDE 1400, Warrensburg, MO 64093. The University of Central Missouri is a four-year comprehensive university located 35 miles from suburban ... \n",
        "\n",
        "UCM - Wikipedia, the free encyclopedia -> http://en.wikipedia.org/wiki/UCM\n",
        "UCM may refer to: [edit] Educational institutions. University College Maastricht, a liberal arts and sciences college in Maastricht, the Netherlands and part of ... \n",
        "\n",
        "Contact UCM : University of Central Missouri -> http://www.ucmo.edu/contact/\n",
        "Contact UCM. You can contact us by mail, phone, or email. General contact information is: University of Central Missouri Warrensburg, Missouri 64093 ... \n",
        "\n",
        "United Community Ministries -> http://www.ucmagency.org/\n",
        "Social service agency's mission, programs, events, how to help, news, FAQs, and contact information. \n",
        "\n",
        "University of California, Merced -> http://www.ucmerced.edu/\n",
        "Healthy bodies make for healthy minds. Fun fitness essentials are conveniently located at the Student Activities and Athletics Center on campus. Be a Bobcat ... \n",
        "\n",
        "Twitter / Search - #ucm -> https://twitter.com/search?q=%23ucm\n",
        "The latest and best tweets on #ucm. Read what people are saying and join the conversation. \n",
        "\n",
        "UCM, Inc. -> http://www.ucminc.net/\n",
        "Kolortrax UCM, Inc. Home \u00b7 View Our Inventory \u00b7 Online Auctions \u00b7 Products & Services \u00b7 Kolortrax \u00b7 Location / Contact Us. Equipment. Welcome to Used ... \n",
        "\n",
        "United Contractors Midwest \u2014 Road Construction, Asphalt, -> http://www.ucm.biz/\n",
        "United Contractors Midwest, Inc. is one of the largest and most proficient construction companies in the Midwest. From asphalt and concrete paving to earthwork, ... \n",
        "\n",
        "UCM | Home -> http://www.ucmathens.org/\n",
        "United Campus Ministry: Center for Spiritual Growth and Social Justice at Ohio University. A nonprofit organization guided by socially progressive and interfaith ... \n",
        "\n",
        "University of Central Missouri Athletics -> http://www.ucmathletics.com/\n",
        "Official site of the Mules and Jennies with pictures, rosters, news items, schedules, and results. \n",
        "\n"
       ]
      }
     ],
     "prompt_number": 23
    },
    {
     "cell_type": "code",
     "collapsed": false,
     "input": [
      "# buscamos con Google Search, esta vez restringiendo la b\u00fasqueda a webs en espa\u00f1ol\n",
      "google_es = Google(license=None, language=\"es\")\n",
      "resultados = google_es.search(\"ucm\")\n",
      "for resultado in resultados:\n",
      "    print resultado.title, \"->\", resultado.url\n",
      "    print plaintext(resultado.text), \"\\n\""
     ],
     "language": "python",
     "metadata": {},
     "outputs": [
      {
       "output_type": "stream",
       "stream": "stdout",
       "text": [
        "Universidad Complutense de Madrid: UCM -> http://www.ucm.es/\n",
        "La Universidad Complutense de Madrid es una instituci\u00f3n de larga trayectoria y amplio reconocimiento social que aspira a situarse entre las primeras ... \n",
        "\n",
        "Universidad Cat\u00f3lica del Maule | UCM Talca | Carreras acreditadas ... -> http://www.ucm.cl/\n",
        "P\u00e1gina principal de esta universidad p\u00fablica ubicada en Talca. Informaci\u00f3n acad\u00e9mica e institucional. \n",
        "\n",
        "Campus Virtual. Universidad Complutense de Madrid -> http://www.ucm.es/campusvirtual\n",
        "Acceso al Campus Virtual Integrado de la Universidad Complutense de Madrid. \n",
        "\n",
        "BUCM :: Biblioteca Universidad Complutense de Madrid -> http://biblioteca.ucm.es/\n",
        "Presentaci\u00f3n, directorio de bibliotecas sat\u00e9lites, noticias, novedades bibliogr\u00e1ficas, acceso en l\u00ednea a bases de datos y cat\u00e1logos. \n",
        "\n",
        "Correo electr\u00f3nico - Webmail - Universidad Complutense de Madrid -> http://www.ucm.es/?a=menu&d=men00316\n",
        "Universidad Complutense de Madrid - Campus de Excelencia Internacional. \n",
        "\n",
        "Twitter / Search - #ucm -> https://twitter.com/search?q=%23ucm\n",
        "The latest and best tweets on #ucm. Read what people are saying and join the conversation. \n",
        "\n",
        "Universidad Complutense - Universidad Complutense de Madrid -> http://pendientedemigracion.ucm.es/centros/webs/en/\n",
        "UCM. Universidad Complutense de Madrid \u00b7 Universidad Complutense de Madrid. Login (authenticate) \u00b7 The Complutense University \u00b7 Moncloa Campus. \n",
        "\n",
        "UCM-Universidad Complutense de Madrid -> http://www.coie.ucm.es/\n",
        "La Universidad Complutense de Madrid es una instituci\u00f3n de larga trayectoria y amplio reconocimiento social que aspira a situarse entre las primeras ... \n",
        "\n",
        "Facultad de Bellas Artes. Universidad Complutense de Madrid -> http://bellasartes.ucm.es/\n",
        "La Universidad Complutense de Madrid es una instituci\u00f3n de larga trayectoria y amplio reconocimiento social que aspira a situarse entre las primeras ... \n",
        "\n",
        "Facultad de Inform\u00e1tica - Universidad Complutense de Madrid -> http://www.fdi.ucm.es/\n",
        "Facultad de Inform\u00e1tica - Universidad Complutense de Madrid. \n",
        "\n"
       ]
      }
     ],
     "prompt_number": 16
    },
    {
     "cell_type": "code",
     "collapsed": false,
     "input": [
      "# buscamos con Bing\n",
      "bing = Bing(license=None, throttle=0.5, language=None)\n",
      "resultados = bing.search(\"ucm\")\n",
      "for resultado in resultados:\n",
      "    print resultado.title, \"->\", resultado.url\n",
      "    print plaintext(resultado.text), \"\\n\""
     ],
     "language": "python",
     "metadata": {},
     "outputs": [
      {
       "output_type": "stream",
       "stream": "stdout",
       "text": [
        "Acceso al Campus Virtual UCM - Universidad Complutense de Madrid -> http://www.ucm.es/campusvirtual/\n",
        "Acceso al Campus Virtual Integrado de la Universidad Complutense de Madrid ... Acceso al Campus Virtual UCM \n",
        "\n",
        "Servicios de Gesti\u00f3n Acad\u00e9mica en Internet - Universidad ... -> https://ucmlogin.ucm.es/\n",
        "Universidad Complutense de Madrid ... Dirigido a Estudiantes y Personal de la UCM. Introduzca su usuario (su direcci\u00f3n de correo electr\u00f3nico UCM completa, ej.xxx@ ... \n",
        "\n",
        "Moodle-UCM - Universidad Complutense de Madrid -> https://cv2.sim.ucm.es/moodle/\n",
        "A partir de ahora el nuevo acceso a la plataforma Moodle ser\u00e1 introduciendo como \"Nombre de usuario\" y \"contrase\u00f1a\" la utilizada en el correo institucional. \n",
        "\n",
        "UCM \u2013 Universidad Cat\u00f3lica de Manizales -> http://www.ucm.edu.co/?option=com_content&task=view&id=61&Itemid=128\n",
        "Inicio; Admisiones. Inscripciones y Matr\u00edculas. Estudiantes nuevos \u2022 Proceso de Admisi\u00f3n \u2022 Preinscripci\u00f3n \u2022 Inscripci\u00f3n \u2022 ICETEX \u2013 Primera vez \n",
        "\n",
        "Universidad Complutense de Madrid - MetaNet - Proyecto META -> https://metanet.ucm.es/\n",
        "No olvide indicarnos una direcci\u00f3n de correo electr\u00f3nico donde podamos localizarle. webmeta@pas.ucm.es: Disculpe las molestias... pero vaya pensando en modernizar su ... \n",
        "\n",
        "Universidad Complutense de Madrid - Wikipedia, la enciclopedia libre -> http://es.wikipedia.org/wiki/Universidad_Complutense_de_Madrid\n",
        "La Universidad Complutense de Madrid (UCM) es una universidad p\u00fablica espa\u00f1ola localizada en la Ciudad Universitaria de Madrid y en el Campus de Somosaguas , en ... \n",
        "\n",
        "Facultad de Ciencias Matem\u00e1ticas -> http://www.mat.ucm.es/mambo/\n",
        "Aqu\u00ed nos gustar\u00eda mostrarte una descripci\u00f3n, pero el sitio web que est\u00e1s mirando no lo permite. \n",
        "\n",
        "Mantenimiento - Inicio :: Portal de Espacios Web UCM ... -> http://portal.ucm.es/web/mantenimiento/contingencia\n",
        "PaginaDeContingenciaWebInstitucional. En este momento estamos realizando labores de mantenimiento en la Web. Por favor, int\u00e9ntelo de nuevo en unos minutos. \n",
        "\n",
        "Facultad de Bellas Artes. Universidad Complutense de Madrid -> http://bellasartes.ucm.es/\n",
        "La Universidad Complutense de Madrid es una instituci\u00f3n de larga trayectoria y amplio reconocimiento social que aspira a situarse entre las primeras universidades de ... \n",
        "\n",
        "Solicitud de Acceso y Admisi\u00f3n a M\u00e1steres de la Universidad ... -> https://metanet.ucm.es/popdoc/\n",
        "M\u00e1steres de la UCM (Curso 2013/2014) ... Sitio web para realizar solicitudes de acceso y admisi\u00f3n a m\u00e1steres de la ... \n",
        "\n"
       ]
      }
     ],
     "prompt_number": 8
    },
    {
     "cell_type": "code",
     "collapsed": false,
     "input": [
      "# buscamos en las noticias de Bing\n",
      "resultados = bing.search(\"ucm\", type=\"news\")\n",
      "for resultado in resultados:\n",
      "    print resultado.title, \"->\", resultado.url\n",
      "    print plaintext(resultado.text), \"\\n\""
     ],
     "language": "python",
     "metadata": {},
     "outputs": [
      {
       "output_type": "stream",
       "stream": "stdout",
       "text": [
        "La UCM dice que los estudiantes pueden regularizar los pagos hasta el 30 de mayo -> http://ecodiario.eleconomista.es/educacion/noticias/4833603/05/13/La-UCM-dice-que-los-estudiantes-pueden-regularizar-los-pagos-hasta-el-30-de-mayo.html\n",
        "Madrid, 17 may (EFE).- La Universidad Complutense de Madrid (UCM) ha informado hoy de que los estudiantes que no han abonado a\u00fan la totalidad de la matr\u00edcula del curso 2012-13 \"tienen hasta el d\u00eda 30 de mayo para regularizar el abono de los pagos ... \n",
        "\n",
        "El CES Felipe II seguir\u00e1 siendo de la UCM pero no se sabe si perder\u00e1 cursos -> http://www.elmundo.es/elmundo/2013/05/08/madrid/1368008771.html\n",
        "El Consejo de Gobierno de la Universidad Complutense (UCM) ha aprobado apoyar las negociaciones para hacer \"viable\" el Centro de Estudios Superiores (CES) Felipe II de Aranjuez y que \u00e9ste permanezca como centro p\u00fablico y adscrito. As\u00ed lo ha asegurado el ... \n",
        "\n",
        "La UCM organiza un taller para desarrollar las competencias y habilidades emprendedoras de los estudiantes -> http://www.europapress.es/madrid/noticia-ucm-organiza-taller-desarrollar-competencias-habilidades-emprendedoras-estudiantes-20130513130347.html\n",
        "La asociaci\u00f3n de estudiantes chinos de la Universidad Complutense de Madrid (UCM) y el Idea Entrepreneurship eBusiness Center han creado el 'Desaf\u00edo idea', con el objetivo de desarrollar las competencias y habilidades emprendedoras de los estudiantes. \n",
        "\n",
        "La UCM estudia medidas para no expulsar a los alumnos que no hayan pagado -> http://www.abc.es/agencias/noticia.asp?noticia=1417382\n",
        "La Universidad Complutense de Madrid (UCM) ha asegurado hoy que cerca de mil estudiantes no han abonado a\u00fan el segundo plazo de las tasas de matr\u00edcula, pero que la universidad est\u00e1 estudiando caso por caso y que no tiene intenci\u00f3n de expulsar a nadie. \n",
        "\n",
        "Quinto d\u00eda de encierro contra las expulsiones por impago en la UCM -> http://ccaa.elpais.com/ccaa/2013/05/20/madrid/1369032385_286433.html\n",
        "Decenas de estudiantes llevan cinco d\u00edas encerrados en el Rectorado de la Universidad Complutense de Madrid (UCM). Intentan evitar, dicen, que la universidad expulse a los alumnos que a\u00fan no han abonado el segundo plazo de la matr\u00edcula. La UCM comunic\u00f3 ... \n",
        "\n",
        "La Complutense asegura que el CES de Aranjuez seguir\u00e1 abierto como centro p\u00fablico y adscrito -> http://www.20minutos.es/noticia/1808621/0/ces-felipe-ii/cierre/jose-carrillo/\n",
        "La Universidad Complutense de Madrid (UCM) ha aprobado este mi\u00e9rcoles iniciar un proceso de di\u00e1logo para permitir la continuidad del Centro de Estudios Superiores (CES) Felipe II de Aranjuez, asegurando adem\u00e1s su permanencia como centro p\u00fablico y ... \n",
        "\n",
        "Estudiantes del CES Felipe II arancetano protestan ante el Rectorado de la UCM -> http://ecodiario.eleconomista.es/educacion/noticias/4807780/05/13/Estudiantes-del-CES-Felipe-II-arancetano-protestan-ante-el-Rectorado-de-la-UCM.html\n",
        "Madrid, 8 may (EFE).- Varios cientos de estudiantes del Centro de Estudios Superiores (CES) Felipe II de la localidad madrile\u00f1a de Aranjuez se encuentran concentrados esta ma\u00f1ana en Madrid ante las puertas del Rectorado de la Universidad Complutense (UCM ... \n",
        "\n",
        "La asociaci\u00f3n de estudiantes chinos de la Complutense se une a la asociaci\u00f3n de estudiantes emprendedores para crear el Desaf\u00edo Idea 48 horas -> http://ecoaula.eleconomista.es/ecoaula-emprendedores/noticias/4829351/05/13/La-asociacion-de-estudiantes-chinos-de-la-Complutense--se-une-a-la-asociacion-de-estudiantes-emprendedores-para-crear-el-Desafio-Idea-48-horas.html\n",
        "Para averiguarlo, la asociaci\u00f3n de estudiantes chinos de la UCM y la asociaci\u00f3n de emprendedores de la UCM (idea eBusiness Center) han creado el Desaf\u00edo Idea. La iniciativa comenzar\u00e1 el viernes 17 de mayo, a las 13:00 h, en el sal\u00f3n de actos de la ... \n",
        "\n",
        "La Complutense rectifica y oferta plazas para el centro adscrito de Aranjuez que pretend\u00eda cerrar -> http://www.publico.es/455320/la-complutense-rectifica-y-oferta-plazas-para-el-centro-adscrito-de-aranjuez-que-pretendia-cerrar\n",
        "La Universidad Complutense de Madrid (UCM) ha rectificado hoy su decisi\u00f3n de \"desadscribir\" el Centro de Estudios Superiores Felipe II de Aranjuez. Seg\u00fan un comunicado de la Federaci\u00f3n Regional de Ense\u00f1anza de Madrid de CCOO (FREM-CCOO), el Consejo de ... \n",
        "\n",
        "La UCM asegura un servicio de acompa\u00f1amiento a personas con discapacidad y falta de autonom\u00eda -> http://noticias.universia.es/vida-universitaria/noticia/2013/05/10/1022477/ucm-asegura-servicio-acompanamiento-personas-discapacidad-falta-autonomia.html\n",
        "La Universidad Complutense es pionera en la promoci\u00f3n de la igualdad de oportunidades de las personas con discapacidad en el \u00e1mbito universitario y presta tareas de apoyo individualizado a todos y cada uno de los 657 estudiantes con discapacidad f\u00edsica ... \n",
        "\n",
        "El rector de la UCM se\u00f1ala que el futuro del CES Felipe II de Aranjuez no est\u00e1 resuelto -> http://www.madridactual.es/20130513521296/el-rector-de-la-ucm-senala-que-el-futuro-del-ces-felipe-ii-de-aranjuez-no-esta-resuelto\n",
        "El rector de la Universidad Complutense de Madrid, Jos\u00e9 Carrillo, ha dicho hoy que el \"futuro del CES Felipe II no est\u00e1 resuelto\", ya que depender\u00e1 de la evoluci\u00f3n econ\u00f3mica de la universidad, y ha lamentado que el Ayuntamiento de Aranjuez no haya ... \n",
        "\n",
        "FAMMA COCEMFE Madrid denuncia que la UCM atenta de nuevo contra los derechos humanos de las personas con discapacidad -> http://www.cocemfe.es/noticias/vernoticia.php?id=9620\n",
        "FAMMA-COCEMFE Madrid muestra su m\u00e1s absoluto rechazo a la \u00faltima acci\u00f3n discriminatoria e inhumana hacia el colectivo de personas con discapacidad que adopt\u00f3 recientemente la Universidad Complutense de Madrid (UCM), que decidi\u00f3 suspender el servicio ... \n",
        "\n",
        "Vuelve a escuchar la radio en vivo que han organizado RNE y la Universidad Complutense de Madrid -> http://www.rtve.es/radio/20130514/rne-universidad-complutense-madrid-organizan-jornada-radio-vivo/663309.shtml\n",
        "El sal\u00f3n de actos de la Facultad de Ciencias de la Informaci\u00f3n de la Universidad Complutense de Madrid (UCM) ha acovido este martes 14 de mayo una jornada de radio en vivo organizada por el centro universitario y Radio Nacional de Espa\u00f1a (RNE). \n",
        "\n",
        "La UCM buscar\u00e1 f\u00f3rmulas para mantener el CES Felipe II de Aranjuez -> http://madridpress.com/not/154577/la_ucm_buscara_formulas_para_mantener_el_ces_felipe_ii_de_aranjuez/\n",
        "El Consejo de Gobierno de la Universidad Complutense de Madrid (UCM) ha aprobado \"buscar posibles salidas\" de cara a mantener la viabilidad del Centro de Ense\u00f1anza Superior Felipe II de Aranjuez, cuyos estudiantes y profesores temen que se quede sin ... \n",
        "\n",
        "La Complutense elimina el servicio de acompa\u00f1amiento para personas con discapacidad desde casa a la facultad -> http://www.eldiario.es/sociedad/estudiantes-discapacidad-Complutense-facultad-recortes_0_133337089.html\n",
        "Los becarios de la Oficina para la Integraci\u00f3n de la UCM les avisaron aquel mismo d\u00eda: no volver\u00edan a esperarles en el lugar de siempre a la hora acordada. La Universidad Complutense hab\u00eda cancelado el servicio de acompa\u00f1amiento que permit\u00eda a ocho ... \n",
        "\n"
       ]
      }
     ],
     "prompt_number": 12
    },
    {
     "cell_type": "markdown",
     "metadata": {},
     "source": [
      "## Wikipedia\n",
      "\n",
      "Podemos buscar en Wikipedia para recuperar un determinado art\u00edculo. En este caso, el m\u00e9todo `.search()` no devuelve una lista de resultados, sino un \u00fanico objeto **art\u00edculo**. Desde este objeto podemos acceder al t\u00edtulo, las secciones y el t\u00edtulo, pero tambi\u00e9n los enlaces y las categor\u00edas dentro de la que est\u00e1 clasificado.\n",
      "\n",
      "Veamos un ejemplo con la p\u00e1gina sobre [Procesamiento del Lenguaje Natural en la wikipedia espa\u00f1ola](http://es.wikipedia.org/wiki/Procesamiento_del_lenguaje_natural)."
     ]
    },
    {
     "cell_type": "code",
     "collapsed": false,
     "input": [
      "# buscamos un art\u00edculo de Wikipedia en espa\u00f1ol\n",
      "wikipedia_es = Wikipedia(license=None, language=\"es\")\n",
      "articulo = wikipedia_es.search(\"procesamiento del lenguaje natural\")\n",
      "\n",
      "print \"T\u00cdTULO:\", articulo.title, \"\\n\"\n",
      "print \"TEXTO:\", articulo.string[:1000], \"... \\n\"\n",
      "\n",
      "print \"SECCIONES: \", \n",
      "for seccion in articulo.sections:\n",
      "    print seccion, \n",
      "\n",
      "print \"\\n\\nCATEGOR\u00cdAS:\"\n",
      "for categoria in articulo.categories:\n",
      "    print \"-\", categoria\n"
     ],
     "language": "python",
     "metadata": {},
     "outputs": [
      {
       "output_type": "stream",
       "stream": "stdout",
       "text": [
        "T\u00cdTULO: Procesamiento de lenguajes naturales \n",
        "\n",
        "TEXTO: El Procesamiento de Lenguajes Naturales \u2014abreviado PLN, o NLP del idioma ingl\u00e9s Natural Language Processing\u2014 es una subdisciplina de la Inteligencia Artificial y la rama ingenieria de la ling\u00fc\u00edstica computacional. El PLN se ocupa de la formulaci\u00f3n e investigaci\u00f3n de mecanismos eficaces computacionalmente para la comunicaci\u00f3n entre personas o entre personas y m\u00e1quinas por medio de lenguajes naturales. El PLN no trata de la comunicaci\u00f3n por medio de lenguajes naturales de una forma abstracta, sino de dise\u00f1ar mecanismos para comunicarse que sean eficaces computacionalmente \u2014que se puedan realizar por medio de programas que ejecuten o simulen la comunicaci\u00f3n\u2014. Los modelos aplicados se enfocan no s\u00f3lo a la comprensi\u00f3n del lenguaje de por s\u00ed, sino a aspectos generales cognitivos humanos y a la organizaci\u00f3n de la memoria. El lenguaje natural sirve s\u00f3lo de medio para estudiar estos fen\u00f3menos.\n",
        "\n",
        "Historia [editar]\n",
        "\n",
        "El Procesamiento del Lenguaje Natural (PLN) es una de las piedras angulares tempra ... \n",
        "\n",
        "SECCIONES:  WikipediaSection(title='Procesamiento de lenguajes naturales') WikipediaSection(title='Historia') WikipediaSection(title='Dificultades en el procesamiento de lenguajes naturales') WikipediaSection(title='Ambig\u00fcedad') WikipediaSection(title='Detecci\u00f3n de separaci\u00f3n entre las palabras') WikipediaSection(title='Recepci\u00f3n imperfecta de datos') WikipediaSection(title='Componentes') WikipediaSection(title='Aplicaciones') WikipediaSection(title='V\u00e9ase tambi\u00e9n') WikipediaSection(title='Soluciones comerciales y comparativas tecnol\u00f3gicas') WikipediaSection(title='Enlaces externos') \n",
        "\n",
        "CATEGOR\u00cdAS:\n",
        "- Procesamiento_de_lenguaje_natural\n",
        "- Ac\u00fastica_fon\u00e9tica\n"
       ]
      }
     ],
     "prompt_number": 46
    },
    {
     "cell_type": "markdown",
     "metadata": {},
     "source": [
      "Veamos otro ejemplo del art\u00edculo sobre [Caparezza en la Wikipedia italiana](http://it.wikipedia.org/wiki/Caparezza)."
     ]
    },
    {
     "cell_type": "code",
     "collapsed": false,
     "input": [
      "# buscamos un art\u00edculo de Wikipedia en italiano\n",
      "wikipedia_it = Wikipedia(license=None, language=\"it\")\n",
      "articulo = wikipedia_it.search(\"Caparezza\")"
     ],
     "language": "python",
     "metadata": {},
     "outputs": [],
     "prompt_number": 47
    },
    {
     "cell_type": "code",
     "collapsed": false,
     "input": [
      "for seccion in articulo.sections:\n",
      "    if seccion.title == \"Biografia\":\n",
      "        print seccion.string"
     ],
     "language": "python",
     "metadata": {},
     "outputs": [
      {
       "output_type": "stream",
       "stream": "stdout",
       "text": [
        "Biografia [modifica]\n",
        "\n",
        "Figlio di una maestra e di un operaio [3] che suonava in un gruppo musicale, Michele cominci\u00f2 a cantare da bambino. Studi\u00f2 ragioneria presso l'istituto tecnico di Molfetta, anche se avrebbe voluto fare il fumettista. Dopo il diploma decise di occuparsi di pubblicit\u00e0 e vinse una borsa di studio per l'Accademia di Comunicazione di Milano, ma ben presto abbandon\u00f2 il mondo pubblicitario per dedicarsi a tempo pieno alla musica. Caparezza si dichiara agnostico. [4]\n"
       ]
      }
     ],
     "prompt_number": 59
    },
    {
     "cell_type": "markdown",
     "metadata": {},
     "source": [
      "## Twitter\n",
      "\n",
      "Tambi\u00e9n podemos interactuar con Twitter de varias formas diferentes. Lo m\u00e1s sencillo consiste en lanza una e imprimir los mensajes por pantalla. F\u00edjate en que, en este caso, el m\u00e9todo `.search()` devuelve una lista de tweets"
     ]
    },
    {
     "cell_type": "code",
     "collapsed": false,
     "input": [
      "twitter = Twitter(license=None)\n",
      "tweets = twitter.search(\"aver biene\", count=25)\n",
      "for tweet in tweets:\n",
      "    print tweet[\"author\"], \"->\", tweet[\"text\"]"
     ],
     "language": "python",
     "metadata": {},
     "outputs": [
      {
       "output_type": "stream",
       "stream": "stdout",
       "text": [
        "isagr19 -> RT @0212Marina: @isagr19 perfecto va a ser igual gorda jajajajjaj aver si biene la gorda esta jajaj\n",
        "0212Marina -> @isagr19 perfecto va a ser igual gorda jajajajjaj aver si biene la gorda esta jajaj\n",
        "LuciaOlv -> @ADINAMORENO1 jajaj carii eske ya no boy asta el a\u00f1o ke biene:s pues aver si kedamos un dia ke ai kosas ke kntar! No tienes whatts? Tekiero!\n",
        "RodriguezJrh -> @showdedoncheto un sAludo para Los del Atoron de is Dallas biejillo bofon  aver cuando biene pues mire cuando venga http://t.co/MxghzATE10\n",
        "ganso10miguerub -> esperando ami hermano aver si biene ya#JoderLoQueTarda\n",
        "Franojeda199700 -> @ManoloPalop97 aver si nos aver el a\u00f1o k biene si jugamos en la misma liga\n",
        "ElCorralico -> RT @lauucortijo: @ElCorralico me da rabia no aver podido segir la fiesta con @ElCorralico pero el a\u00f1o q biene esperemos q no tengamos mas percances\n",
        "lauucortijo -> @ElCorralico me da rabia no aver podido segir la fiesta con @ElCorralico pero el a\u00f1o q biene esperemos q no tengamos mas percances\n",
        "jose12_perez -> Pues nada aver si biene la maestra!\n",
        "doloreslinares1 -> buenos dias tuiteros aver como biene la semana\n",
        "aitorpagola -> Vale accuweather dice que apartir de la semana que biene va ha hacer bueno aver si es verdad...\n",
        "borjacalvo23 -> RT @semosfernandez: @borjacalvo23 si aver cuando se biene con el.mercedes jajaja bua mr ire en 0.coma a sobar o a jugar un baja confirmada xD\n",
        "semosfernandez -> @borjacalvo23 si aver cuando se biene con el.mercedes jajaja bua mr ire en 0.coma a sobar o a jugar un baja confirmada xD\n",
        "villanovense41 -> @kinkybwoy1 ere el mejor aver si biene y dia a Badajoz\n",
        "daviles_89 -> @ines_pbr siempre stan alli ya son vip ai q ir la semana q biene aver si stan pa pillarlos jajajaja\n",
        "aanaLapitufa29 -> ~AVC lo amo :) , ma\u00f1ana me biene aver prr ..\n",
        "VanesaDeltell -> @AureaNarro aver si te veo yaa heee jejee que tengo ganas de vette aver si este finde que biene te veo jejeje tequiero guapisima :-)\u2661\u2665\n",
        "zapinvk88 -> @jacobcamara8 aver la semana k biene k tal\n",
        "daviiliito14 -> Aver si biene la cena ya que estoy muerto de hambre empareeee...\n",
        "markosTm1 -> @fmikehernandez aver ay un problema el finde k biene nose si podre....\n",
        "franwest16 -> @Ronirey012 nose cuanDo biene aver cojo pa la casa de mi hermana i usted\n",
        "alvaro270296 -> Dias de buenas sensaciones, aver como se da el fin de semana que biene.\n",
        "mannudiego -> @ville_5  eres un grande ville...gran amigo me e hechado ;)..aver lo que pasa el a\u00f1o que biene aora ;)\n",
        "AdanGalan1 -> ...Y si alguien me biene aver:'c\n",
        "GorkaHernandez -> @AlazneG97 pueees aver si biene a acerte alguna bisitilla\n"
       ]
      }
     ],
     "prompt_number": 95
    },
    {
     "cell_type": "markdown",
     "metadata": {},
     "source": [
      "Podemos acceder a los *trending topics*, es decir, los temas m\u00e1s comentados en un determinado momento:"
     ]
    },
    {
     "cell_type": "code",
     "collapsed": false,
     "input": [
      "# imprime los Trending Topic actuales \n",
      "for tt in twitter.trends(cached=False):\n",
      "    print tt"
     ],
     "language": "python",
     "metadata": {},
     "outputs": [
      {
       "output_type": "stream",
       "stream": "stdout",
       "text": [
        "#UneQuestionQueJeMeSuisToujoursPos\u00e9e\n",
        "#INFI7SOULCONCERTRPTL\n",
        "#FollowMeJordanJansen\n",
        "#ViceRylleReachForTheStar\n",
        "#T\u00dcRK\u0130YEninSevdas\u0131FENERBAH\u00c7ElilerTakiple\u015fiyor\n",
        "Bieber Air\n",
        "Tumblr for $1.1\n",
        "Marissa Mayer\n",
        "BBMA\n",
        "Daft Punk\n"
       ]
      }
     ],
     "prompt_number": 22
    },
    {
     "cell_type": "markdown",
     "metadata": {},
     "source": [
      "Y a partir de estos temas candentes podemos ver en tiempo casi real los mensajes que se publican:"
     ]
    },
    {
     "cell_type": "code",
     "collapsed": false,
     "input": [
      "s = Twitter().stream(\"daft punk\")\n",
      "for i in range(10):\n",
      "    time.sleep(2) \n",
      "    s.update(bytes=1024)\n",
      "    if s:\n",
      "        print s[-1].text\n",
      "    else:\n",
      "        pass"
     ],
     "language": "python",
     "metadata": {},
     "outputs": [
      {
       "output_type": "stream",
       "stream": "stdout",
       "text": [
        "RT @frankieboyle: RT \"@SimonCowell How amazing is the daft punk single.\"\n",
        "That should give you some idea of how bad it is\n",
        "RT @frankieboyle: RT \"@SimonCowell How amazing is the daft punk single.\"\n",
        "That should give you some idea of how bad it is"
       ]
      },
      {
       "output_type": "stream",
       "stream": "stdout",
       "text": [
        "\n",
        "\"@AnnaV_DCJ: Le nouvel album de Daft Punk est super bien, c'est quoi votre probl\u00e8me ? #RandomAccessMemories \u2665\" Tu te r\u00e9veilles c'est cool \u2665"
       ]
      },
      {
       "output_type": "stream",
       "stream": "stdout",
       "text": [
        "\n",
        "\"@AnnaV_DCJ: Le nouvel album de Daft Punk est super bien, c'est quoi votre probl\u00e8me ? #RandomAccessMemories \u2665\" Tu te r\u00e9veilles c'est cool \u2665"
       ]
      },
      {
       "output_type": "stream",
       "stream": "stdout",
       "text": [
        "\n",
        "Daft Punk \u00e0 fond dans l'appart, je danse en buvant mon caf\u00e9"
       ]
      },
      {
       "output_type": "stream",
       "stream": "stdout",
       "text": [
        "\n",
        "Daft Punk \u00e0 fond dans l'appart, je danse en buvant mon caf\u00e9"
       ]
      },
      {
       "output_type": "stream",
       "stream": "stdout",
       "text": [
        "\n"
       ]
      }
     ],
     "prompt_number": 93
    },
    {
     "cell_type": "markdown",
     "metadata": {},
     "source": [
      "## Facebook\n",
      "\n",
      "Tambi\u00e9n podemos acceder a los mensajes p\u00fablicos de Facebook. Si configuramos nuestra cuenta podemos acceder a nuestra informaci\u00f3n privada y a la de nuestros contactos, de manera similar a como accemos desde la aplicaci\u00f3n m\u00f3vil o desde el navegador."
     ]
    },
    {
     "cell_type": "code",
     "collapsed": false,
     "input": [
      "fb = Facebook(license=None)\n",
      "for post in fb.search(\"Ling\u00fc\u00edstica\"):\n",
      "    print \"---------------------------------\"\n",
      "    print post.url\n",
      "    print plaintext(post.text)[:500]\n",
      "    print \"\\n\""
     ],
     "language": "python",
     "metadata": {},
     "outputs": [
      {
       "output_type": "stream",
       "stream": "stdout",
       "text": [
        "---------------------------------\n",
        "http://www.facebook.com/photo.php?fbid=578230355555693&set=a.298282823550449.76388.298280080217390&type=1\n",
        "Not\u00edcia aqui--> http://www1.folha.uol.com.br/educacao/1144885-jovem-de-17-anos-ganha-provas-internacionais-de-fisica-linguistica-e-astronomia.shtml\n",
        "\n",
        "\n",
        "---------------------------------\n",
        "http://www.facebook.com/photo.php?fbid=161323660709497&set=a.129833533858510.26475.129813833860480&type=1\n",
        "PQP... N\u00e3o \u00e9 a toa que o Brasil est\u00e1 a m3rd4 que est\u00e1. E infelizmente est\u00e1 longe o dia em que muitos ir\u00e3o acordar para o que realmente \u00e9 importante.\n",
        "\n",
        "Parab\u00e9ns ao Ivan...\n",
        "\n",
        "http://www1.folha.uol.com.br/educacao/1144885-jovem-de-17-anos-ganha-provas-internacionais-de-fisica-linguistica-e-astronomia.shtml\n",
        "\n",
        "\n",
        "---------------------------------\n",
        "http://www.facebook.com/photo.php?fbid=578230355555693&set=a.298282823550449.76388.298280080217390&type=1\n",
        "PENSAMENTO T\u00cdPICO DE UM BRASILEIRO BURRO... O MOLEQUE MERECE APLAUSOS DE P\u00c9 DE TODA A NA\u00c7\u00c3O, MAS ESPERAR O Q NUM PA\u00cdS ONDE O FUTEBOL E MAIS IMPORTANTE QUE A EDUCA\u00c7\u00c3O!!!\n",
        "\n",
        "\n",
        "---------------------------------\n",
        "http://www1.folha.uol.com.br/educacao/1144885-jovem-de-17-anos-ganha-provas-internacionais-de-fisica-linguistica-e-astronomia.shtml\n",
        "Exemplo!!!!\n",
        "Sem rotinas f\u00e9rreas, recomenda que se tracem objetivos claros. \"Tipo: quero acabar esse livro at\u00e9 tal data. Algumas metas t\u00eam de ser de longo prazo. Para ir \u00e0 Internacional de F\u00edsica, comecei a estudar um ano e meio antes.\"\n",
        "\n",
        "Para aqueles que se acham modelos de dedica\u00e7\u00e3o infrut\u00edfera, Ivan tem duas hip\u00f3teses: \"Ou s\u00e3o pessoas que pensam que se dedicam, mas n\u00e3o se dedicam tanto, ou se dedicam usando estrat\u00e9gias de aprendizado inadequadas.\"\n",
        "\n",
        "Ele d\u00e1 um exemplo de \"estrat\u00e9gia inadequada\". \n",
        "\n",
        "\n",
        "---------------------------------\n",
        "\n",
        "il d20 da brodo...\n",
        "\n",
        "\n",
        "---------------------------------\n",
        "http://www.facebook.com/photo.php?fbid=355836847870231&set=o.139860239522195&type=1\n",
        "Domani 21 maggio alle 15.00 a Roma\n",
        "\n",
        "Silvia Lanzetta\n",
        "\n",
        "\u201cMetamorfosi dei giochi linguistici e incommensurabilit\u00e0 nell\u2019ultimo Wiitgenstein: possibili soluzioni antropologiche nell\u2019interazione tra culture europee ed aborigene\u201d\n",
        "\n",
        "Abstract\n",
        "\n",
        "In Della Certezza Wittgenstein parla di forme vita incommensurabili all\u2019interno di quella umana. Nessuna di esse pu\u00f2 dirsi in torto o nella ragione rispetto al proprio sistema di credenza: non appena una delle parti in causa professa ragione, fa violenza all\u2019altra. S\n",
        "\n",
        "\n",
        "---------------------------------\n",
        "http://ilmiolibro.kataweb.it/booknews_dettaglio_recensione.asp?id_contenuto=3739839\n",
        "Guy Deutscher, docente di Linguistica a Manchester confuta l'idea di Chomsky sulla struttura innata del linguaggio.\n",
        "http://ilmiolibro.kataweb.it/booknews_dettaglio_recensione.asp?id_contenuto=3739839\n",
        "\n",
        "\n",
        "---------------------------------\n",
        "http://www.festival.si.edu/2013/One_World_Many_Voices/index.aspx#.UZouJ7N0Sek.facebook\n",
        "Dal 26 giugno al 7 luglio lo Smithsonian Institution, nel quadro dello Smithsonian Folklife Festival, ospiter\u00e0 la manifestazione \"One World, Many Voices\", per celebrare la diversit\u00e0 linguistica del pianeta.\n",
        "\n",
        "\n",
        "---------------------------------\n",
        "\n",
        "COMUNICADO SOBRE EL SEMINARIO\n",
        "Debido a todos los conflictos e irregularidades que se han mostrado estas pasadas semanas por la universidad y los paros de la COB, el SEMINARIO \" Las Pol\u00edticas Ling\u00fc\u00edsticas y su incidencia en el campo laboral de los profesionales ling\u00fcistas del siglo XXI\" ser\u00e1 suspendido hasta el pr\u00f3ximo semestre. Cabe aclarar que nuestra intensi\u00f3n es de hacer un Seminario que marque la diferencia , sea de un valor productivo y curricular en las mejores intenciones de todos los est\n",
        "\n",
        "\n",
        "---------------------------------\n",
        "http://wetav.com/la-variacion-linguistica-los-acentos-en-tav/\n",
        "En el blog de WeTAV: \u00abLa variaci\u00f3n ling\u00fc\u00edstica: los acentos en TAV\u00bb\n",
        "http://wetav.com/la-variacion-linguistica-los-acentos-en-tav/\n",
        "\n",
        "\n"
       ]
      }
     ],
     "prompt_number": 94
    },
    {
     "cell_type": "markdown",
     "metadata": {},
     "source": [
      "## Google translate\n",
      "\n"
     ]
    },
    {
     "cell_type": "markdown",
     "metadata": {},
     "source": [
      "[Google Translate](http://translate.google.es/?hl=es) recientemente ha pasado a ser un servicio de pago y ahora no funciona salvo que [obtengamos una *license key*](https://code.google.com/apis/console/) y asociemos a nuestra cuenta una tarjeta de cr\u00e9dito. No es caro: traducir un mill\u00f3n de palabras cuesta $20. \u00bfHacemos un fondo?\n",
      "\n",
      "Llegado el caso, se puede configurar de la siguiente manera."
     ]
    },
    {
     "cell_type": "code",
     "collapsed": false,
     "input": [
      "oracion = \"El perro de San Roque no tiene rabo porque Ram\u00f3n Rodr\u00edguez se lo ha cortado\"\n",
      "google = Google(license=None) \n",
      "print google.translate(oracion, input=\"es\", output=\"en\", cached=False)\n",
      "print google.identify(oracion)"
     ],
     "language": "python",
     "metadata": {},
     "outputs": [
      {
       "ename": "HTTP401Authentication",
       "evalue": "Google translate API is a paid service",
       "output_type": "pyerr",
       "traceback": [
        "\u001b[1;31m---------------------------------------------------------------------------\u001b[0m\n\u001b[1;31mHTTP401Authentication\u001b[0m                     Traceback (most recent call last)",
        "\u001b[1;32m<ipython-input-61-54169b71bbc2>\u001b[0m in \u001b[0;36m<module>\u001b[1;34m()\u001b[0m\n\u001b[0;32m      1\u001b[0m \u001b[0moracion\u001b[0m \u001b[1;33m=\u001b[0m \u001b[1;34m\"El perro de San Roque no tiene rabo porque Ram\u00f3n Rodr\u00edguez se lo ha cortado\"\u001b[0m\u001b[1;33m\u001b[0m\u001b[0m\n\u001b[0;32m      2\u001b[0m \u001b[0mgoogle\u001b[0m \u001b[1;33m=\u001b[0m \u001b[0mGoogle\u001b[0m\u001b[1;33m(\u001b[0m\u001b[1;33m)\u001b[0m\u001b[1;33m\u001b[0m\u001b[0m\n\u001b[1;32m----> 3\u001b[1;33m \u001b[1;32mprint\u001b[0m \u001b[0mgoogle\u001b[0m\u001b[1;33m.\u001b[0m\u001b[0mtranslate\u001b[0m\u001b[1;33m(\u001b[0m\u001b[0moracion\u001b[0m\u001b[1;33m,\u001b[0m \u001b[0minput\u001b[0m\u001b[1;33m=\u001b[0m\u001b[1;34m\"es\"\u001b[0m\u001b[1;33m,\u001b[0m \u001b[0moutput\u001b[0m\u001b[1;33m=\u001b[0m\u001b[1;34m\"en\"\u001b[0m\u001b[1;33m,\u001b[0m \u001b[0mcached\u001b[0m\u001b[1;33m=\u001b[0m\u001b[0mFalse\u001b[0m\u001b[1;33m)\u001b[0m\u001b[1;33m\u001b[0m\u001b[0m\n\u001b[0m\u001b[0;32m      4\u001b[0m \u001b[1;32mprint\u001b[0m \u001b[0mgoogle\u001b[0m\u001b[1;33m.\u001b[0m\u001b[0midentify\u001b[0m\u001b[1;33m(\u001b[0m\u001b[0moracion\u001b[0m\u001b[1;33m)\u001b[0m\u001b[1;33m\u001b[0m\u001b[0m\n",
        "\u001b[1;32m/usr/local/lib/python2.7/dist-packages/pattern/web/__init__.pyc\u001b[0m in \u001b[0;36mtranslate\u001b[1;34m(self, string, input, output, **kwargs)\u001b[0m\n\u001b[0;32m   1059\u001b[0m             \u001b[0mdata\u001b[0m \u001b[1;33m=\u001b[0m \u001b[0murl\u001b[0m\u001b[1;33m.\u001b[0m\u001b[0mdownload\u001b[0m\u001b[1;33m(\u001b[0m\u001b[1;33m**\u001b[0m\u001b[0mkwargs\u001b[0m\u001b[1;33m)\u001b[0m\u001b[1;33m\u001b[0m\u001b[0m\n\u001b[0;32m   1060\u001b[0m         \u001b[1;32mexcept\u001b[0m \u001b[0mHTTP403Forbidden\u001b[0m\u001b[1;33m:\u001b[0m\u001b[1;33m\u001b[0m\u001b[0m\n\u001b[1;32m-> 1061\u001b[1;33m             \u001b[1;32mraise\u001b[0m \u001b[0mHTTP401Authentication\u001b[0m\u001b[1;33m,\u001b[0m \u001b[1;34m\"Google translate API is a paid service\"\u001b[0m\u001b[1;33m\u001b[0m\u001b[0m\n\u001b[0m\u001b[0;32m   1062\u001b[0m         \u001b[0mdata\u001b[0m \u001b[1;33m=\u001b[0m \u001b[0mjson\u001b[0m\u001b[1;33m.\u001b[0m\u001b[0mloads\u001b[0m\u001b[1;33m(\u001b[0m\u001b[0mdata\u001b[0m\u001b[1;33m)\u001b[0m\u001b[1;33m\u001b[0m\u001b[0m\n\u001b[0;32m   1063\u001b[0m         \u001b[0mdata\u001b[0m \u001b[1;33m=\u001b[0m \u001b[0mdata\u001b[0m\u001b[1;33m.\u001b[0m\u001b[0mget\u001b[0m\u001b[1;33m(\u001b[0m\u001b[1;34m\"data\"\u001b[0m\u001b[1;33m,\u001b[0m \u001b[1;33m{\u001b[0m\u001b[1;33m}\u001b[0m\u001b[1;33m)\u001b[0m\u001b[1;33m.\u001b[0m\u001b[0mget\u001b[0m\u001b[1;33m(\u001b[0m\u001b[1;34m\"translations\"\u001b[0m\u001b[1;33m,\u001b[0m \u001b[1;33m[\u001b[0m\u001b[1;33m{\u001b[0m\u001b[1;33m}\u001b[0m\u001b[1;33m]\u001b[0m\u001b[1;33m)\u001b[0m\u001b[1;33m[\u001b[0m\u001b[1;36m0\u001b[0m\u001b[1;33m]\u001b[0m\u001b[1;33m.\u001b[0m\u001b[0mget\u001b[0m\u001b[1;33m(\u001b[0m\u001b[1;34m\"translatedText\"\u001b[0m\u001b[1;33m,\u001b[0m \u001b[1;34m\"\"\u001b[0m\u001b[1;33m)\u001b[0m\u001b[1;33m\u001b[0m\u001b[0m\n",
        "\u001b[1;31mHTTP401Authentication\u001b[0m: Google translate API is a paid service"
       ]
      }
     ],
     "prompt_number": 61
    }
   ],
   "metadata": {}
  }
 ]
}