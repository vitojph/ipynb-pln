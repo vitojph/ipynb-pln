{
 "metadata": {
  "name": "intro-funciones"
 },
 "nbformat": 3,
 "nbformat_minor": 0,
 "worksheets": [
  {
   "cells": [
    {
     "cell_type": "markdown",
     "metadata": {},
     "source": [
      "# Funciones\n",
      "\n",
      "Una **funci\u00f3n** es una secci\u00f3n de c\u00f3digo **reutilizable**, escrita para realizar una tarea espec\u00edfica en un programa. \n",
      "\n",
      "\u00bfPor qu\u00e9 son \u00fatiles las funciones? F\u00edjate en los siguientes ejemplos."
     ]
    },
    {
     "cell_type": "code",
     "collapsed": false,
     "input": [
      "# necesito calcular el cuadrado del n\u00famero 6\n",
      "# defino una variable asign\u00e1ndole el valor 6\n",
      "n = 6\n",
      "# calculo el cuadrado y lo imprimo por pantalla\n",
      "cuadrado = n**2\n",
      "print cuadrado"
     ],
     "language": "python",
     "metadata": {},
     "outputs": [
      {
       "output_type": "stream",
       "stream": "stdout",
       "text": [
        "36\n"
       ]
      }
     ],
     "prompt_number": 1
    },
    {
     "cell_type": "code",
     "collapsed": false,
     "input": [
      "# ahora me piden que calcule otro cuadrado, en este caso de 8\n",
      "# repito el proceso\n",
      "n = 8\n",
      "cuadrado = n**2\n",
      "print cuadrado"
     ],
     "language": "python",
     "metadata": {},
     "outputs": [
      {
       "output_type": "stream",
       "stream": "stdout",
       "text": [
        "64\n"
       ]
      }
     ],
     "prompt_number": 2
    },
    {
     "cell_type": "markdown",
     "metadata": {},
     "source": [
      "Imagina que por tercera vez, me piden que calcule un cuadrado. \u00bfRepito el proceso de manera indefinida? \n",
      "\n",
      "El ejemplo es un poco extremo, pero sirve para ilustrar que, a veces, nuestros programas repiten siempre el mismo proceso (en este caso, un c\u00e1lculo) variando los datos con los que trabajamos. En este caso, es mucho m\u00e1s eficaz reutilizar el c\u00f3digo y adaptarlo ligeramente para generalizar el c\u00e1lculo de cuadrados a cualquier n\u00famero.\n",
      "\n",
      "\u00bfMe sigues? \u00bfS\u00ed? Pues vamos a ver c\u00f3mo hacerlo definiendo una funci\u00f3n.\n",
      "\n",
      "\n",
      "La sintaxis de una funci\u00f3n forma un bloque de c\u00f3digo de la siguiente manera:\n",
      "\n",
      "    def FUNCION(ENTRADA):\n",
      "        \"\"\"comentario explicando qu\u00e9 hace esta funci\u00f3n\"\"\"\n",
      "        SALIDA = INSTRUCCIONES\n",
      "        return SALIDA\n",
      "\n",
      "\n",
      "Las funciones se definen usando la instrucci\u00f3n `def` y est\u00e1n compuestas de tres partes:\n",
      "\n",
      "- El encabezado, que incluye la instrucci\u00f3n `def`, el nombre de la funci\u00f3n, cualquier argumento que contenga la funci\u00f3n especificado entre par\u00e9ntesis `()`, y el signo de dos puntos `:`.\n",
      "- Una cadena de documentaci\u00f3n con tres pares de comillas, que explica de forma breve qu\u00e9 hace la funci\u00f3n.\n",
      "- El cuerpo, que es el bloque de c\u00f3digo que describe los procedimientos que la funci\u00f3n lleva a cabo. El cuerpo est\u00e1 indentado (de igual forma que las sentencias `if`, `elif`, y `else`)\n",
      "- Una funci\u00f3n siempre devuelve algo: una estructura de datos, un mensaje, etc. Por lo tanto, la \u00faltima l\u00ednea de cualquier funci\u00f3n es una instrucci\u00f3n `return`.\n",
      "\n",
      "Piensa en la funci\u00f3n como una especie de artefacto o caja negra que toma una entrada, la manipula/procesa/convierte/modifica y devuelve un resultado."
     ]
    },
    {
     "cell_type": "code",
     "collapsed": false,
     "input": [
      "# creamos una funci\u00f3n llamada cuadrado que toma como entrada\n",
      "# un n\u00famero cualquiera y devuelve el cuadrado de dicho n\u00famero\n",
      "\n",
      "def cuadrado(numero):\n",
      "    \"\"\"devuelve el cuadrado del n\u00famero especificado como entrada\"\"\"\n",
      "    micuadrado = numero**2\n",
      "    return micuadrado"
     ],
     "language": "python",
     "metadata": {},
     "outputs": [],
     "prompt_number": 3
    },
    {
     "cell_type": "markdown",
     "metadata": {},
     "source": [
      "Una vez definida una funci\u00f3n, podemos llamarla tantas veces sea necesario y ejecutarla en cualquier sitio de distintas maneras. F\u00edjate en los ejemplos:"
     ]
    },
    {
     "cell_type": "code",
     "collapsed": false,
     "input": [
      "print cuadrado(6)\n",
      "\n",
      "print cuadrado(8+1)\n",
      "\n",
      "print cuadrado(3) + 1\n",
      "\n",
      "otroNumero = cuadrado(235.9)\n",
      "print otroNumero"
     ],
     "language": "python",
     "metadata": {},
     "outputs": [
      {
       "output_type": "stream",
       "stream": "stdout",
       "text": [
        "36\n",
        "81\n",
        "10\n",
        "55648.81\n"
       ]
      }
     ],
     "prompt_number": 4
    },
    {
     "cell_type": "markdown",
     "metadata": {},
     "source": [
      "F\u00edjate por qu\u00e9 es importante a\u00f1adir una cadena de texto entre comillas triples en nuestras funciones: sirve como documentaci\u00f3n (*docstring*) de ayuda cuando utilizamos la funci\u00f3n `help()` o accedemos a la ayuda de iPython."
     ]
    },
    {
     "cell_type": "code",
     "collapsed": false,
     "input": [
      "help(cuadrado)"
     ],
     "language": "python",
     "metadata": {},
     "outputs": [
      {
       "output_type": "stream",
       "stream": "stdout",
       "text": [
        "Help on function cuadrado in module __main__:\n",
        "\n",
        "cuadrado(numero)\n",
        "    devuelve el cuadrado del n\u00famero especificado como entrada\n",
        "\n"
       ]
      }
     ],
     "prompt_number": 5
    },
    {
     "cell_type": "code",
     "collapsed": false,
     "input": [
      "?cuadrado"
     ],
     "language": "python",
     "metadata": {},
     "outputs": [],
     "prompt_number": 6
    },
    {
     "cell_type": "markdown",
     "metadata": {},
     "source": [
      "En realidad, ya conoces unas cuantas funciones que existen de manera predefinida en Python. \u00bfRecuerdas las funciones `len()` y `type()`, por ejemplo, para calcular la longitud y el tipo de las estructuras de datos? Ahora lo \u00fanico que estamos haciendo es definiendo nuestras propias funciones.\n",
      "\n",
      "Siguiendo con las operaciones, imag\u00ednate ahora que nos piden calcular cubos de distintos n\u00fameros, podr\u00edamos definir una funci\u00f3n llamada `cubo`:"
     ]
    },
    {
     "cell_type": "code",
     "collapsed": false,
     "input": [
      "def cubo(numero):\n",
      "    \"\"\"devuelve el cubo del n\u00famero especificado como entrada\"\"\"\n",
      "    return numero**3"
     ],
     "language": "python",
     "metadata": {},
     "outputs": [],
     "prompt_number": 7
    },
    {
     "cell_type": "code",
     "collapsed": false,
     "input": [
      "print cubo(2)\n",
      "\n",
      "# un millar es 10^3\n",
      "millar = cubo(10)\n",
      "print millar"
     ],
     "language": "python",
     "metadata": {},
     "outputs": [
      {
       "output_type": "stream",
       "stream": "stdout",
       "text": [
        "8\n",
        "1000\n"
       ]
      }
     ],
     "prompt_number": 8
    },
    {
     "cell_type": "markdown",
     "metadata": {},
     "source": [
      "Podemos generalizar m\u00e1s y definir una funci\u00f3n para calcular potencias, de manera que tomemos como entrada dos n\u00fameros, la base y el exponente."
     ]
    },
    {
     "cell_type": "code",
     "collapsed": false,
     "input": [
      "def potencia(base, exponente):\n",
      "    \"\"\"calcula potencias\"\"\"\n",
      "    return base**exponente"
     ],
     "language": "python",
     "metadata": {},
     "outputs": [],
     "prompt_number": 9
    },
    {
     "cell_type": "code",
     "collapsed": false,
     "input": [
      "# calcula 10^2\n",
      "print potencia(10, 2)\n",
      "\n",
      "# calcula 32^5\n",
      "print potencia(32, 5)\n",
      "\n",
      "# un bill\u00f3n es un 10 seguido de 12 ceros\n",
      "billon = potencia(10, 12)\n",
      "print billon"
     ],
     "language": "python",
     "metadata": {},
     "outputs": [
      {
       "output_type": "stream",
       "stream": "stdout",
       "text": [
        "100\n",
        "33554432\n",
        "1000000000000\n"
       ]
      }
     ],
     "prompt_number": 10
    },
    {
     "cell_type": "markdown",
     "metadata": {},
     "source": [
      "Antes hemos mencionado que una funci\u00f3n deb\u00eda de devolver simpre alg\u00fan valor, y por eso todas las definiciones de funciones terminan con una instrucci\u00f3n `return`. Bien, esto no era del todo cierto. F\u00edjate en este ejemplo.\n"
     ]
    },
    {
     "cell_type": "code",
     "collapsed": false,
     "input": [
      "def saludo():\n",
      "    \"\"\"Imprime un saludo por pantalla\"\"\"\n",
      "    print \"\u00a1Hola, amigo!\""
     ],
     "language": "python",
     "metadata": {},
     "outputs": [],
     "prompt_number": 11
    },
    {
     "cell_type": "code",
     "collapsed": false,
     "input": [
      "for i in range(10):\n",
      "    saludo()"
     ],
     "language": "python",
     "metadata": {},
     "outputs": [
      {
       "output_type": "stream",
       "stream": "stdout",
       "text": [
        "\u00a1Hola, amigo!\n",
        "\u00a1Hola, amigo!\n",
        "\u00a1Hola, amigo!\n",
        "\u00a1Hola, amigo!\n",
        "\u00a1Hola, amigo!\n",
        "\u00a1Hola, amigo!\n",
        "\u00a1Hola, amigo!\n",
        "\u00a1Hola, amigo!\n",
        "\u00a1Hola, amigo!\n",
        "\u00a1Hola, amigo!\n"
       ]
      }
     ],
     "prompt_number": 12
    },
    {
     "cell_type": "markdown",
     "metadata": {},
     "source": [
      "Obviamente, podemos definir funciones que hagan otras cosas diferentes a c\u00e1lculo de potencias. Pensemos en un ejemplo de tratamiento de texto que nos puede resultar m\u00e1s \u00fatil.\n",
      "\n"
     ]
    },
    {
     "cell_type": "code",
     "collapsed": false,
     "input": [
      "def pluralize(word):\n",
      "    \"\"\"Convierte a plural cualquier palabra singular en ingl\u00e9s\"\"\"\n",
      "    return word + \"s\""
     ],
     "language": "python",
     "metadata": {},
     "outputs": [],
     "prompt_number": 13
    },
    {
     "cell_type": "markdown",
     "metadata": {},
     "source": [
      "\u00bfTe atreves a modificar el c\u00f3digo para:\n",
      "\n",
      "1. que funcionen correctamente las palabras acabadas en *-s*?\n",
      "2. manejar plurales irregulares?"
     ]
    },
    {
     "cell_type": "code",
     "collapsed": false,
     "input": [
      "def pluralize(word):\n",
      "    \"\"\"Convierte a plural cualquier palabra singular en ingl\u00e9s\"\"\"\n",
      "    irregulares = {}\n",
      "    irregulares[\"foot\"] = \"feet\"\n",
      "    irregulares[\"man\"] = \"men\"\n",
      "    irregulares[\"woman\"] = \"women\"\n",
      "    if irregulares.has_key(word):\n",
      "        return irregulares[word]\n",
      "    elif word[-1] == \"s\" or word[-1] == \"x\" or word[-1] == \"z\":\n",
      "        return word + \"es\"\n",
      "    elif word[-2:] == \"ch\" or word[-2:] == \"sh\":\n",
      "        return word + \"es\"\n",
      "    else:\n",
      "        return word + \"s\""
     ],
     "language": "python",
     "metadata": {},
     "outputs": [],
     "prompt_number": 14
    },
    {
     "cell_type": "code",
     "collapsed": false,
     "input": [
      "print pluralize(\"cat\")\n",
      "print pluralize(\"house\")\n",
      "print pluralize(\"question\")\n",
      "\n",
      "print pluralize(\"business\")\n",
      "print pluralize(\"box\")\n",
      "print pluralize(\"flush\")\n",
      "print pluralize(\"fuzz\")\n",
      "print pluralize(\"coach\")\n",
      "\n",
      "\n",
      "# esta primera versi\u00f3n no funciona para plurales irregulares\n",
      "# pero se puede corregir \n",
      "print pluralize(\"foot\")\n",
      "print pluralize(\"woman\")\n"
     ],
     "language": "python",
     "metadata": {},
     "outputs": [
      {
       "output_type": "stream",
       "stream": "stdout",
       "text": [
        "cats\n",
        "houses\n",
        "questions\n",
        "businesses\n",
        "boxes\n",
        "flushes\n",
        "fuzzes\n",
        "coaches\n",
        "feet\n",
        "women\n"
       ]
      }
     ],
     "prompt_number": 15
    }
   ],
   "metadata": {}
  }
 ]
}