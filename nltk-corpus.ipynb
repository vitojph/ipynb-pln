{
 "metadata": {
  "name": "nltk-corpus"
 },
 "nbformat": 3,
 "nbformat_minor": 0,
 "worksheets": [
  {
   "cells": [
    {
     "cell_type": "markdown",
     "metadata": {},
     "source": "# Resumen NLTK: Acceso a corpus de texto y recursos l\u00e9xicos\n\nEste resumen se corresponde con el cap\u00edtulo 2 del NLTK Book [Accessing Text Corpora and Lexical Resources](http://nltk.googlecode.com/svn/trunk/doc/book/ch02.html). La lectura del cap\u00edtulo es muy recomendable.\n\n\n## Corpus no anotados: el Proyecto Gutenberg\n\nNLTK no da acceso directo a varias colecciones de textos. Para empezar, vamos a juguetear un poco con los libros del [Proyecto Gutenberg](http://www.gutenberg.org), un repositorio p\u00fablico de libros libres y/o sin derechos de copyright en vigor.\nAntes de nada, necesitamos importar el m\u00f3dulo `gutenberg` que est\u00e1 en la librer\u00eda `nltk.corpus`."
    },
    {
     "cell_type": "code",
     "collapsed": true,
     "input": "from nltk.corpus import gutenberg\nfrom __future__ import division",
     "language": "python",
     "metadata": {},
     "outputs": [],
     "prompt_number": 1
    },
    {
     "cell_type": "markdown",
     "metadata": {},
     "source": "Podemos listar el cat\u00e1alogo de libros del Proyecto Gutenberg disponibles desde NLTK a trav\u00e9s del m\u00e9todo `nltk.corpus.gutenberg.fileids`"
    },
    {
     "cell_type": "code",
     "collapsed": false,
     "input": "print gutenberg.fileids()",
     "language": "python",
     "metadata": {},
     "outputs": [
      {
       "output_type": "stream",
       "stream": "stdout",
       "text": "['austen-emma.txt', 'austen-persuasion.txt', 'austen-sense.txt', 'bible-kjv.txt', 'blake-poems.txt', 'bryant-stories.txt', 'burgess-busterbrown.txt', 'carroll-alice.txt', 'chesterton-ball.txt', 'chesterton-brown.txt', 'chesterton-thursday.txt', 'edgeworth-parents.txt', 'melville-moby_dick.txt', 'milton-paradise.txt', 'shakespeare-caesar.txt', 'shakespeare-hamlet.txt', 'shakespeare-macbeth.txt', 'whitman-leaves.txt']"
      }
     ],
     "prompt_number": 2
    },
    {
     "cell_type": "markdown",
     "metadata": {},
     "source": "Para cargar alguno de estos libros en variables y poder manipularlos directamente, podemos utilizar varios m\u00e9todos.\n\n- `gutenberg.raw` recupera el texto como una \u00fanica cadena de caracteres.\n- `gutenberg.words` recupera el texto tokenizado en palabras. El m\u00e9todo devuelve una lista palabras.\n- `gutenberg.sents` recupera el texto segmentado por oraciones. El m\u00e9todo devuelve una lista de oraciones. Cada oraci\u00f3n es a su vez una lista de palabras.\n- `gutenberg.paras` recupera el texto  segmentado por p\u00e1rrafos. El m\u00e9todo devuelve una lista de p\u00e1rrafos.  Cada p\u00e1rrafo es una lista de oraciones, cada oraci\u00f3n es a su vez una lista de palabras."
    },
    {
     "cell_type": "code",
     "collapsed": false,
     "input": "texto = gutenberg.raw(\"carroll-alice.txt\")\nprint texto[:200] # imprimo los primeros 200 caracteres del libro",
     "language": "python",
     "metadata": {},
     "outputs": [
      {
       "output_type": "stream",
       "stream": "stdout",
       "text": "[Alice's Adventures in Wonderland by Lewis Carroll 1865]\n\nCHAPTER I. Down the Rabbit-Hole\n\nAlice was beginning to get very tired of sitting by her sister on the\nbank, and of having nothing to do: once"
      }
     ],
     "prompt_number": 3
    },
    {
     "cell_type": "code",
     "collapsed": false,
     "input": "palabras = gutenberg.words(\"carroll-alice.txt\")\nprint palabras[:20] # imprimo las primeros 20 palabras",
     "language": "python",
     "metadata": {},
     "outputs": [
      {
       "output_type": "stream",
       "stream": "stdout",
       "text": "['[', 'Alice', \"'\", 's', 'Adventures', 'in', 'Wonderland', 'by', 'Lewis', 'Carroll', '1865', ']', 'CHAPTER', 'I', '.', 'Down', 'the', 'Rabbit', '-', 'Hole']"
      }
     ],
     "prompt_number": 4
    },
    {
     "cell_type": "code",
     "collapsed": false,
     "input": "oraciones = gutenberg.sents(\"carroll-alice.txt\")\nprint oraciones[-3] # imprimo la antepen\u00faltima oraci\u00f3n ",
     "language": "python",
     "metadata": {},
     "outputs": [
      {
       "output_type": "stream",
       "stream": "stdout",
       "text": "['The', 'long', 'grass', 'rustled', 'at', 'her', 'feet', 'as', 'the', 'White', 'Rabbit', 'hurried', 'by', '--', 'the', 'frightened', 'Mouse', 'splashed', 'his', 'way', 'through', 'the', 'neighbouring', 'pool', '--', 'she', 'could', 'hear', 'the', 'rattle', 'of', 'the', 'teacups', 'as', 'the', 'March', 'Hare', 'and', 'his', 'friends', 'shared', 'their', 'never', '-', 'ending', 'meal', ',', 'and', 'the', 'shrill', 'voice', 'of', 'the', 'Queen', 'ordering', 'off', 'her', 'unfortunate', 'guests', 'to', 'execution', '--', 'once', 'more', 'the', 'pig', '-', 'baby', 'was', 'sneezing', 'on', 'the', 'Duchess', \"'\", 's', 'knee', ',', 'while', 'plates', 'and', 'dishes', 'crashed', 'around', 'it', '--', 'once', 'more', 'the', 'shriek', 'of', 'the', 'Gryphon', ',', 'the', 'squeaking', 'of', 'the', 'Lizard', \"'\", 's', 'slate', '-', 'pencil', ',', 'and', 'the', 'choking', 'of', 'the', 'suppressed', 'guinea', '-', 'pigs', ',', 'filled', 'the', 'air', ',', 'mixed', 'up', 'with', 'the', 'distant', 'sobs', 'of', 'the', 'miserable', 'Mock', 'Turtle', '.']"
      }
     ],
     "prompt_number": 5
    },
    {
     "cell_type": "code",
     "collapsed": false,
     "input": "parrafos = gutenberg.paras(\"carroll-alice.txt\")\nprint parrafos[-1] # imprimo el \u00faltimo p\u00e1rrafo",
     "language": "python",
     "metadata": {},
     "outputs": [
      {
       "output_type": "stream",
       "stream": "stdout",
       "text": "[['Lastly', ',', 'she', 'pictured', 'to', 'herself', 'how', 'this', 'same', 'little', 'sister', 'of', 'hers', 'would', ',', 'in', 'the', 'after', '-', 'time', ',', 'be', 'herself', 'a', 'grown', 'woman', ';', 'and', 'how', 'she', 'would', 'keep', ',', 'through', 'all', 'her', 'riper', 'years', ',', 'the', 'simple', 'and', 'loving', 'heart', 'of', 'her', 'childhood', ':', 'and', 'how', 'she', 'would', 'gather', 'about', 'her', 'other', 'little', 'children', ',', 'and', 'make', 'THEIR', 'eyes', 'bright', 'and', 'eager', 'with', 'many', 'a', 'strange', 'tale', ',', 'perhaps', 'even', 'with', 'the', 'dream', 'of', 'Wonderland', 'of', 'long', 'ago', ':', 'and', 'how', 'she', 'would', 'feel', 'with', 'all', 'their', 'simple', 'sorrows', ',', 'and', 'find', 'a', 'pleasure', 'in', 'all', 'their', 'simple', 'joys', ',', 'remembering', 'her', 'own', 'child', '-', 'life', ',', 'and', 'the', 'happy', 'summer', 'days', '.']]"
      }
     ],
     "prompt_number": 6
    },
    {
     "cell_type": "markdown",
     "metadata": {},
     "source": "F\u00edjate en que cada m\u00e9todo devuelve una estructura de datos diferente: desde una \u00fanica cadena a listas de listas anidadas. Para que tengas claro las dimensiones de cada uno, podemos imprimir el n\u00famero de caracteres, palabras, oraciones y p\u00e1rrafos del libro. "
    },
    {
     "cell_type": "code",
     "collapsed": false,
     "input": "print len(texto), \"caracteres\" \nprint len(palabras), \"palabras\"\nprint len(oraciones), \"oraciones\"\nprint len(parrafos), \"p\u00e1rrafos\"",
     "language": "python",
     "metadata": {},
     "outputs": [
      {
       "output_type": "stream",
       "stream": "stdout",
       "text": "144395 caracteres\n34110 palabras\n2026 oraciones\n817 p\u00e1rrafos"
      }
     ],
     "prompt_number": 7
    },
    {
     "cell_type": "markdown",
     "metadata": {},
     "source": "Vamos a imprimir algunas estad\u00edsticas para todos los libros del Proyecto Gutenberg disponibles. Para cada libro, impriremos por pantalla el promedio de caracteres por palabra, el promedio de palabras por oraci\u00f3n y el promedio de oraciones por p\u00e1rrafo."
    },
    {
     "cell_type": "code",
     "collapsed": false,
     "input": "for libro in gutenberg.fileids():\n    caracteres = len(gutenberg.raw(libro))\n    palabras = len(gutenberg.words(libro))\n    oraciones = len(gutenberg.sents(libro))\n    parrafos = len(gutenberg.paras(libro))\n    print libro[:-4], caracteres/palabras, palabras/oraciones, oraciones/parrafos",
     "language": "python",
     "metadata": {},
     "outputs": [
      {
       "output_type": "stream",
       "stream": "stdout",
       "text": "austen-emma 4.60990921232 21.1202941499 3.84268241248\nausten-persuasion"
      },
      {
       "output_type": "stream",
       "stream": "stdout",
       "text": " 4.74979372727 23.525281572 4.04360465116\nausten-sense"
      },
      {
       "output_type": "stream",
       "stream": "stdout",
       "text": " 4.75378595242 23.88662055 3.18313641246\nbible-kjv"
      },
      {
       "output_type": "stream",
       "stream": "stdout",
       "text": " 4.28688156382 33.5731986845 1.22330136541\nblake-poems 4.56703375628 18.2800875274 1.60915492958\nbryant-stories"
      },
      {
       "output_type": "stream",
       "stream": "stdout",
       "text": " 4.48930043374 17.266314481 2.69514237856\nburgess-busterbrown"
      },
      {
       "output_type": "stream",
       "stream": "stdout",
       "text": " 4.46464167062 17.0684068407 4.17669172932\ncarroll-alice"
      },
      {
       "output_type": "stream",
       "stream": "stdout",
       "text": " 4.23321606567 16.836130306 2.47980416157\nchesterton-ball"
      },
      {
       "output_type": "stream",
       "stream": "stdout",
       "text": " 4.71617386284 17.7518301611 3.40224159402\nchesterton-brown"
      },
      {
       "output_type": "stream",
       "stream": "stdout",
       "text": " 4.7247830078 19.6715428571 3.76830318691\nchesterton-thursday"
      },
      {
       "output_type": "stream",
       "stream": "stdout",
       "text": " 4.63099417739 16.1222921034 3.33307453416\nedgeworth-parents"
      },
      {
       "output_type": "stream",
       "stream": "stdout",
       "text": " 4.43911840238 17.6228040823 3.20826623725\nmelville-moby_dick"
      },
      {
       "output_type": "stream",
       "stream": "stdout",
       "text": " 4.76571875515 24.1588551315 3.86537773004\nmilton-paradise"
      },
      {
       "output_type": "stream",
       "stream": "stdout",
       "text": " 4.83573457268 52.3095623987 63.8275862069\nshakespeare-caesar"
      },
      {
       "output_type": "stream",
       "stream": "stdout",
       "text": " 4.34753996826 11.9431345354 2.90725806452\nshakespeare-hamlet"
      },
      {
       "output_type": "stream",
       "stream": "stdout",
       "text": " 4.35976980728 12.0283322601 3.26947368421\nshakespeare-macbeth"
      },
      {
       "output_type": "stream",
       "stream": "stdout",
       "text": " 4.33668971478 12.1342422653 2.81268436578\nwhitman-leaves"
      },
      {
       "output_type": "stream",
       "stream": "stdout",
       "text": " 4.59195005262 35.2567721375 1.77280064568"
      }
     ],
     "prompt_number": 8
    },
    {
     "cell_type": "markdown",
     "metadata": {},
     "source": "Los libros del Proyecto Gutenberg constituyen el tipo de corpus m\u00e1s sencillo: no est\u00e1 anotado (no incluye ning\u00fan tipo de informaci\u00f3n ling\u00fc\u00edstica) ni categorizado. \n\n## Corpus categorizados y anotados: el Corpus de Brown\n\nEl Corpus de Brown fue el primer gran corpus orientado a tareas de PLN. Desarrollado en la Universidad de Brown, contiene m\u00e1s de un mill\u00f3n de palabras provenientes de 500 fuentes.  La principal catacter\u00edstica de este corpus es que sus textos est\u00e1n categorizados por g\u00e9nero. "
    },
    {
     "cell_type": "code",
     "collapsed": true,
     "input": "from nltk.corpus import brown",
     "language": "python",
     "metadata": {},
     "outputs": [],
     "prompt_number": 9
    },
    {
     "cell_type": "markdown",
     "metadata": {},
     "source": "Como en los libros del Proyecto Gutenberg, aqu\u00ed tambi\u00e9n podemos imprimir los nombres de los ficheros. En este caso son poco significativos, nos nos dicen nada del contenido."
    },
    {
     "cell_type": "code",
     "collapsed": false,
     "input": "print len(brown.fileids())\nprint brown.fileids()[:10] # Brown est\u00e1 formado por 500 documentos, \n# imprimimos solos los 10 primeros",
     "language": "python",
     "metadata": {},
     "outputs": [
      {
       "output_type": "stream",
       "stream": "stdout",
       "text": "500\n['ca01', 'ca02', 'ca03', 'ca04', 'ca05', 'ca06', 'ca07', 'ca08', 'ca09', 'ca10']"
      }
     ],
     "prompt_number": 10
    },
    {
     "cell_type": "markdown",
     "metadata": {},
     "source": "Sin embargo, este corpus est\u00e1 categorizado: los textos est\u00e1n agrupados seg\u00fan su tem\u00e1tica. Y en este caso, los nombres de las categor\u00edas s\u00ed nos permiten intuir el contenido de los textos."
    },
    {
     "cell_type": "code",
     "collapsed": false,
     "input": "print brown.categories()",
     "language": "python",
     "metadata": {},
     "outputs": [
      {
       "output_type": "stream",
       "stream": "stdout",
       "text": "['adventure', 'belles_lettres', 'editorial', 'fiction', 'government', 'hobbies', 'humor', 'learned', 'lore', 'mystery', 'news', 'religion', 'reviews', 'romance', 'science_fiction']"
      }
     ],
     "prompt_number": 11
    },
    {
     "cell_type": "markdown",
     "metadata": {},
     "source": "De manera similar a los libros del Proyecto Gutenberg, podemos acceder a los textos de este corpus a trav\u00e9s de los m\u00e9todos `brown.raw`, `brown.words`, `brown.sents` y `brown.paras`. Adem\u00e1s, podemos acceder a una categor\u00eda de textos concretas si lo especificamos como argumento."
    },
    {
     "cell_type": "code",
     "collapsed": true,
     "input": "news_words = brown.words(categories=\"news\")\nscifi_sents = brown.sents(categories=\"science_fiction\") ",
     "language": "python",
     "metadata": {},
     "outputs": [],
     "prompt_number": 12
    },
    {
     "cell_type": "code",
     "collapsed": false,
     "input": "print news_words[:20]",
     "language": "python",
     "metadata": {},
     "outputs": [
      {
       "output_type": "stream",
       "stream": "stdout",
       "text": "['The', 'Fulton', 'County', 'Grand', 'Jury', 'said', 'Friday', 'an', 'investigation', 'of', \"Atlanta's\", 'recent', 'primary', 'election', 'produced', '``', 'no', 'evidence', \"''\", 'that']"
      }
     ],
     "prompt_number": 13
    },
    {
     "cell_type": "code",
     "collapsed": false,
     "input": "print scifi_sents[:3]",
     "language": "python",
     "metadata": {},
     "outputs": [
      {
       "output_type": "stream",
       "stream": "stdout",
       "text": "[['Now', 'that', 'he', 'knew', 'himself', 'to', 'be', 'self', 'he', 'was', 'free', 'to', 'grok', 'ever', 'closer', 'to', 'his', 'brothers', ',', 'merge', 'without', 'let', '.'], [\"Self's\", 'integrity', 'was', 'and', 'is', 'and', 'ever', 'had', 'been', '.'], ['Mike', 'stopped', 'to', 'cherish', 'all', 'his', 'brother', 'selves', ',', 'the', 'many', 'threes-fulfilled', 'on', 'Mars', ',', 'corporate', 'and', 'discorporate', ',', 'the', 'precious', 'few', 'on', 'Earth', '--', 'the', 'unknown', 'powers', 'of', 'three', 'on', 'Earth', 'that', 'would', 'be', 'his', 'to', 'merge', 'with', 'and', 'cherish', 'now', 'that', 'at', 'last', 'long', 'waiting', 'he', 'grokked', 'and', 'cherished', 'himself', '.']]"
      }
     ],
     "prompt_number": 14
    },
    {
     "cell_type": "markdown",
     "metadata": {},
     "source": "Vamos a sacar provecho de la categorizaci\u00f3n de los textos de este corpus. Para ello, vamos a calcular la frecuencia de distribuci\u00f3n de distintos verbos modales para cada categor\u00eda. Para ello vamos a calcular una distribuci\u00f3n de frecuencia condicional que calcule la frecuencia de cada palabra para cada categor\u00eda.\n\nNo te preocupes si no entiendes la sintaxis para calcular `cfd` a trav\u00e9s del objeto `ConditionalFreqDist`. Cr\u00e9eme, ese objeto calcula frecuencias de palabras atendiendo a la categor\u00eda en la que aparecen. "
    },
    {
     "cell_type": "code",
     "collapsed": true,
     "input": "from nltk import ConditionalFreqDist\nmodals = \"can could would should must may might\".split()\nmodals_cfd = ConditionalFreqDist(\n                          (category, word) \n                          for category in brown.categories() \n                          for word in brown.words(categories=category))",
     "language": "python",
     "metadata": {},
     "outputs": [],
     "prompt_number": 15
    },
    {
     "cell_type": "markdown",
     "metadata": {},
     "source": "Una vez tenemos calculada la frecuencia de distribuci\u00f3n condicional, podemos pintar los valores f\u00e1cilmente en forma de tabla a trav\u00e9s del m\u00e9todo `.tabulate`, especificando como condiciones cada una de las categor\u00edas, y como muestras los verbos modales del ingl\u00e9s que hemos definido."
    },
    {
     "cell_type": "code",
     "collapsed": false,
     "input": "modals_cfd.tabulate(conditions=brown.categories(), samples=modals)",
     "language": "python",
     "metadata": {},
     "outputs": [
      {
       "output_type": "stream",
       "stream": "stdout",
       "text": "                 can could would should must  may might\n      adventure   46  151  191   15   27    5   58\n belles_lettres  246  213  392  102  170  207  113\n      editorial  121   56  180   88   53   74   39\n        fiction   37  166  287   35   55    8   44\n     government  117   38  120  112  102  153   13\n        hobbies  268   58   78   73   83  131   22\n          humor   16   30   56    7    9    8    8\n        learned  365  159  319  171  202  324  128\n           lore  170  141  186   76   96  165   49\n        mystery   42  141  186   29   30   13   57\n           news   93   86  244   59   50   66   38\n       religion   82   59   68   45   54   78   12\n        reviews   45   40   47   18   19   45   26\n        romance   74  193  244   32   45   11   51\nscience_fiction   16   49   79    3    8    4   12"
      }
     ],
     "prompt_number": 16
    },
    {
     "cell_type": "markdown",
     "metadata": {},
     "source": "Tambi\u00e9n podemos representar la distribuci\u00f3n de los verbos modales en forma de gr\u00e1fica, utilizando el m\u00e9todo `.plot`."
    },
    {
     "cell_type": "code",
     "collapsed": false,
     "input": "modals_cfd.plot(conditions=[\"news\", \"science_fiction\", \"hobbies\", \n                            \"belles_lettres\", \"learned\"], samples=modals)",
     "language": "python",
     "metadata": {},
     "outputs": [
      {
       "output_type": "display_data",
       "png": "[encoded data removed]"
      }
     ],
     "prompt_number": 17
    },
    {
     "cell_type": "markdown",
     "metadata": {},
     "source": "El corpus de Brown no solo est\u00e1 categor\u00edzado, tambi\u00e9n est\u00e1 anotado con informaci\u00f3n morfol\u00f3gica. Para acceder a la versi\u00f3n anotada del corpus, podemos utilizar los m\u00e9todos: `brown.tagged_words`, `brown.tagged_sents` y `brown.tagged_\nparas`"
    },
    {
     "cell_type": "code",
     "collapsed": false,
     "input": "scifi_tagged_words = brown.tagged_words(categories=\"science_fiction\")\nprint scifi_tagged_words[:20]",
     "language": "python",
     "metadata": {},
     "outputs": [
      {
       "output_type": "stream",
       "stream": "stdout",
       "text": "[('Now', 'RB'), ('that', 'CS'), ('he', 'PPS'), ('knew', 'VBD'), ('himself', 'PPL'), ('to', 'TO'), ('be', 'BE'), ('self', 'NN'), ('he', 'PPS'), ('was', 'BEDZ'), ('free', 'JJ'), ('to', 'TO'), ('grok', 'VB'), ('ever', 'QL'), ('closer', 'RBR'), ('to', 'IN'), ('his', 'PP$'), ('brothers', 'NNS'), (',', ','), ('merge', 'VB')]"
      }
     ],
     "prompt_number": 18
    },
    {
     "cell_type": "markdown",
     "metadata": {},
     "source": "F\u00edjate que cuando accedemos a la versi\u00f3n etiquetada del corpus, no obtenemos una simple lista de palabras sino una lista de tuplas, donde el primer elemento es la palabra en cuesti\u00f3n u el segundo es la etiqueta que indica la categor\u00eda gramatical de la palabra.\n\nEste conjunto etiquetas se ha convertido en casi un est\u00e1ndar para el ingl\u00e9s y se utilizan habitualmente para anotar cualquier recurso ling\u00fc\u00edstico en esa lengua.\n\nVamos a crear una nueva frecuencia de distribuci\u00f3n condicional para calcular la frecuencia de aparici\u00f3n de las etiquetas, teniendo en cuenta la categor\u00eda."
    },
    {
     "cell_type": "code",
     "collapsed": true,
     "input": "tags_cfd = ConditionalFreqDist(\n                              (category, item[1])\n                              for category in brown.categories()\n                              for item in brown.tagged_words(categories=category)\n                              )",
     "language": "python",
     "metadata": {},
     "outputs": [],
     "prompt_number": 19
    },
    {
     "cell_type": "markdown",
     "metadata": {},
     "source": "Y ahora vamos a imprimir la tabla de frecuencias para cada categor\u00eda y para algunas de las etiquetas morfol\u00f3gicas: sustantivos en singular `NN`, verbos en presente `VB`, verbos en pasado simple `VBD`, participios pasados `VBN`, adjetivos `JJ`, preposiciones `IN`, y art\u00edculos `AT`. Estas cifras no son directamente comparables entre categor\u00edas, ya que \u00e9stas no est\u00e1n equilibradas: hay categor\u00edas con m\u00e1s textos que otras."
    },
    {
     "cell_type": "code",
     "collapsed": false,
     "input": "tags_cfd.tabulate(conditions=brown.categories(), \n                  samples=\"NN VB VBD VBN JJ IN AT\".split())",
     "language": "python",
     "metadata": {},
     "outputs": [
      {
       "output_type": "stream",
       "stream": "stdout",
       "text": "                  NN   VB  VBD  VBN   JJ   IN   AT\n      adventure 8051 2170 3702 1276 2687 5908 5531\n belles_lettres 21800 4829 3501 4223 10414 19083 14898\n      editorial 7675 2129  700 1491 3593 6204 5311\n        fiction 7815 2173 3027 1497 2958 6012 5439\n     government 9877 1833  405 2190 4173 8596 5716\n        hobbies 12465 2966  617 2252 4883 8591 6946\n          humor 2567  656  699  478 1078 1926 1655\n        learned 29194 4342 1481 6044 12294 21757 16828\n           lore 14707 3083 2272 2822 6475 12074 9936\n        mystery 6461 2026 2645 1161 2109 4692 4321\n           news 13162 2440 2524 2269 4392 10616 8893\n       religion 4923 1275  511  931 2327 4266 3327\n        reviews 5066  872  504  875 2742 4040 3447\n        romance 7166 2404 3048 1359 3180 5616 4671\nscience_fiction 1541  495  531  318  723 1176 1040"
      }
     ],
     "prompt_number": 20
    },
    {
     "cell_type": "markdown",
     "metadata": {},
     "source": "## Recursos L\u00e9xicos: WordNet\n\nWordnet es una red sem\u00e1ntica para el ingl\u00e9s. En esencia, es similar a un diccionario pero est\u00e1 organizado por *synsets* (conjunto de palabras sin\u00f3nimas) y no por lemas. \n\nPodemos acceder a WordNet a trav\u00e9s de NLTK:\n "
    },
    {
     "cell_type": "code",
     "collapsed": true,
     "input": "from nltk.corpus import wordnet as wn",
     "language": "python",
     "metadata": {},
     "outputs": [],
     "prompt_number": 21
    },
    {
     "cell_type": "markdown",
     "metadata": {},
     "source": "Para consultar los synsets en los que aparece una determinada palabra, podemos utilizar el m\u00e9todo `.synsets` como se muestra en el ejemplo. Como resultado obtenemos una lista con todos los synsets en los que aparece la palabra."
    },
    {
     "cell_type": "code",
     "collapsed": false,
     "input": "print wn.synsets(\"sword\")",
     "language": "python",
     "metadata": {},
     "outputs": [
      {
       "output_type": "stream",
       "stream": "stdout",
       "text": "[Synset('sword.n.01')]"
      }
     ],
     "prompt_number": 22
    },
    {
     "cell_type": "markdown",
     "metadata": {},
     "source": "En este caso, la palabra *sword* solo aparece en un synset, lo que implica que solo tiene un sentido. Adem\u00e1s, sabemos que es un sustantivo, porque el nombre de synset est\u00e1 etiquetado como `n`.\n\nSi guardo el synset en cuesti\u00f3n en una variable (f\u00edjate que me quedo con el primer elemento de la lista que me devuelve el m\u00e9todo `wn.synsets`), podemos acceder a distintos m\u00e9todos:"
    },
    {
     "cell_type": "code",
     "collapsed": false,
     "input": "sword = wn.synsets(\"sword\")[0]\nprint sword.lemma_names # imprime los lemas del synset => sin\u00f3nimos\nprint sword.definition # imprime la definici\u00f3n del synset",
     "language": "python",
     "metadata": {},
     "outputs": [
      {
       "output_type": "stream",
       "stream": "stdout",
       "text": "['sword', 'blade', 'brand', 'steel']\na cutting or thrusting weapon that has a long metal blade and a hilt with a hand guard"
      }
     ],
     "prompt_number": 23
    },
    {
     "cell_type": "markdown",
     "metadata": {},
     "source": "Si escribes `sword.` y pulsas el tabulador podr\u00e1s visualizar todos los m\u00e9todos accesibles desde un objeto synset. Son muchos: si tienes inter\u00e9s en alguno que no se menciona en este resumen, preg\u00fantame o consulta el libro de NLTK.\n\nEntre las cosas que s\u00ed nos interesan est\u00e1 el poder acceder a relaciones como hiponimia, meronimia, etc. Por ejemplo, para acceder a todos los hip\u00f3nimos de *sword* con el sentido de *espada*, es decir, a todos los **tipos de** *espada* y a sus definiciones."
    },
    {
     "cell_type": "code",
     "collapsed": false,
     "input": "for element in sword.hyponyms():\n    print element.lemma_names\n    print element.definition",
     "language": "python",
     "metadata": {},
     "outputs": [
      {
       "output_type": "stream",
       "stream": "stdout",
       "text": "['rapier', 'tuck']\na straight sword with a narrow blade and two edges\n['cutlas', 'cutlass']\na short heavy curved sword with one edge; formerly used by sailors\n['broadsword']\na sword with a broad blade and (usually) two cutting edges; used to cut rather than stab\n['fencing_sword']\na sword used in the sport of fencing\n['backsword']\na sword with only one cutting edge\n['cavalry_sword', 'saber', 'sabre']\na stout sword with a curved blade and thick back\n['falchion']\na short broad slightly convex medieval sword with a sharp point"
      }
     ],
     "prompt_number": 24
    },
    {
     "cell_type": "markdown",
     "metadata": {},
     "source": "En lugar de bajar hasta los elementos m\u00e1s espec\u00edficos, podemos navegar en la jerarqu\u00eda de sentidos hasta los synsets m\u00e1s generales. Por ejemplo, podemos acceder a los hiper\u00f3nimos inmediatos de un synset a trav\u00e9s del m\u00e9todo `.hypernyms()`:"
    },
    {
     "cell_type": "code",
     "collapsed": false,
     "input": "for element in sword.hypernyms():\n    print element.lemma_names\n    print element.definition",
     "language": "python",
     "metadata": {},
     "outputs": [
      {
       "output_type": "stream",
       "stream": "stdout",
       "text": "['weapon', 'arm', 'weapon_system']\nany instrument or instrumentality used in fighting or hunting"
      }
     ],
     "prompt_number": 25
    },
    {
     "cell_type": "markdown",
     "metadata": {},
     "source": "F\u00edjate que con este m\u00e9todo s\u00f3lo subimos un nivel hacia el synset m\u00e1s general. En este caso, comprobamos que *sword* es un tipo de *weapon* o *arm*. Si, por el contrario, lo que nos interesa es acceder a todos los hiper\u00f3nimos de *sword*, navegando hasta el elemento ra\u00edz de la jerarqu\u00eda de WordNet (que siempre es *entity*), podemos utilizar el m\u00e9todo `.hypernym_paths()`:"
    },
    {
     "cell_type": "code",
     "collapsed": false,
     "input": "for path in sword.hypernym_paths():\n    for element in path:\n        print element.lemma_names\n        print element.definition",
     "language": "python",
     "metadata": {},
     "outputs": [
      {
       "output_type": "stream",
       "stream": "stdout",
       "text": "['entity']\nthat which is perceived or known or inferred to have its own distinct existence (living or nonliving)\n['physical_entity']\nan entity that has physical existence\n['object', 'physical_object']\na tangible and visible entity; an entity that can cast a shadow\n['whole', 'unit']\nan assemblage of parts that is regarded as a single entity\n['artifact', 'artefact']\na man-made object taken as a whole\n['instrumentality', 'instrumentation']\nan artifact (or system of artifacts) that is instrumental in accomplishing some end\n['device']\nan instrumentality invented for a particular purpose\n['instrument']\na device that requires skill for proper use\n['weapon', 'arm', 'weapon_system']\nany instrument or instrumentality used in fighting or hunting\n['sword', 'blade', 'brand', 'steel']\na cutting or thrusting weapon that has a long metal blade and a hilt with a hand guard"
      }
     ],
     "prompt_number": 26
    },
    {
     "cell_type": "markdown",
     "metadata": {},
     "source": "F\u00edjate que `.hypernym_paths()` me devuelve una lista de caminos posibles desde el synset en cuesti\u00f3n hasta el elemento *entity*. Por eso itero sobre los elementos `path` que me devuelve `.hypernym_paths()`. En el ejemplo de *sword*, da la casualidad de que solo hay un camino posible. Cada `path` es una lista de synsets, e itero sobre ellos. Por eso utilizo un bucle dentro de otro.\n\nPara acceder a los mer\u00f3nimos, es decir, a las partes o elementos constitutivos de *sword*, podemos utilizar el m\u00e9todo `.part_meronyms()`, como se muestra a continuaci\u00f3n."
    },
    {
     "cell_type": "code",
     "collapsed": false,
     "input": "for element in sword.part_meronyms():\n    print element.lemma_names\n    print element.definition",
     "language": "python",
     "metadata": {},
     "outputs": [
      {
       "output_type": "stream",
       "stream": "stdout",
       "text": "['forte']\nthe stronger part of a sword blade between the hilt and the foible\n['blade']\nthe flat part of a tool or weapon that (usually) has a cutting edge\n['point', 'tip', 'peak']\na V shape\n['foible']\nthe weaker part of a sword's blade from the forte to the tip\n['hilt']\nthe handle of a sword or dagger\n['haft', 'helve']\nthe handle of a weapon or tool"
      }
     ],
     "prompt_number": 27
    },
    {
     "cell_type": "markdown",
     "metadata": {},
     "source": "De manera similar, podemos acceder a los hol\u00f3nimos de un synset, es decir, a los elementos de los que *espada* forma parte, a trav\u00e9s del m\u00e9todo `.part_holonyms()`. El synset que estamos utilizando no tiene definidos hol\u00f3nimos, as\u00ed que el ejemplo devuelve una lista vac\u00eda::"
    },
    {
     "cell_type": "code",
     "collapsed": false,
     "input": "print sword.part_holonyms()",
     "language": "python",
     "metadata": {},
     "outputs": [
      {
       "output_type": "stream",
       "stream": "stdout",
       "text": "[]"
      }
     ],
     "prompt_number": 28
    },
    {
     "cell_type": "markdown",
     "metadata": {},
     "source": "Hay varios m\u00e9todos para acceder a distintos tipos de mer\u00f3nimos y hol\u00f3nimos, aunque no siempre est\u00e1n definidas estas relaciones. Cuando no est\u00e1n definidas, los m\u00e9todos no dan error, simplemente devuelven listas vac\u00edas.\n\nLos nombres de estos m\u00e9todos tratan de ser autoexplicativos: por un lado, tenemos `.part_holonyms()`, `.member_holonyms()`, `.substance_holonyms()`, y por otro, `.part_meronyms()`, `.member_meronyms()`, `.substance_meronyms()`."
    }
   ],
   "metadata": {}
  }
 ]
}